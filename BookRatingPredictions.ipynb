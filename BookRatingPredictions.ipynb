{
 "cells": [
  {
   "cell_type": "code",
   "execution_count": 1,
   "metadata": {},
   "outputs": [],
   "source": [
    "import numpy as np # linear algerbra\n",
    "import pandas as pd # data processing\n",
    "import seaborn as sns # data visualization\n",
    "import matplotlib.pyplot as plt #drawing\n",
    "from sklearn.model_selection import train_test_split\n",
    "\n",
    "\n",
    "# Remove warnings\n",
    "import warnings\n",
    "warnings.filterwarnings('ignore')"
   ]
  },
  {
   "cell_type": "markdown",
   "metadata": {},
   "source": [
    "# Importing and Exploring Dataset\n",
    "#### First, we check the basic info of the dataset(trainset and testset)"
   ]
  },
  {
   "cell_type": "code",
   "execution_count": 2,
   "metadata": {},
   "outputs": [
    {
     "data": {
      "text/html": [
       "<div>\n",
       "<style scoped>\n",
       "    .dataframe tbody tr th:only-of-type {\n",
       "        vertical-align: middle;\n",
       "    }\n",
       "\n",
       "    .dataframe tbody tr th {\n",
       "        vertical-align: top;\n",
       "    }\n",
       "\n",
       "    .dataframe thead th {\n",
       "        text-align: right;\n",
       "    }\n",
       "</style>\n",
       "<table border=\"1\" class=\"dataframe\">\n",
       "  <thead>\n",
       "    <tr style=\"text-align: right;\">\n",
       "      <th></th>\n",
       "      <th>bookID</th>\n",
       "      <th>title</th>\n",
       "      <th>authors</th>\n",
       "      <th>average_rating</th>\n",
       "      <th>isbn</th>\n",
       "      <th>isbn13</th>\n",
       "      <th>language_code</th>\n",
       "      <th>num_pages</th>\n",
       "      <th>ratings_count</th>\n",
       "      <th>text_reviews_count</th>\n",
       "      <th>publication_date</th>\n",
       "      <th>publisher</th>\n",
       "    </tr>\n",
       "  </thead>\n",
       "  <tbody>\n",
       "    <tr>\n",
       "      <th>0</th>\n",
       "      <td>8253</td>\n",
       "      <td>Little Town on the Prairie  (Little House  #7)</td>\n",
       "      <td>Laura Ingalls Wilder/Garth Williams</td>\n",
       "      <td>4.19</td>\n",
       "      <td>0060885432</td>\n",
       "      <td>9780060885434</td>\n",
       "      <td>eng</td>\n",
       "      <td>374</td>\n",
       "      <td>71853</td>\n",
       "      <td>646</td>\n",
       "      <td>1/1/2007</td>\n",
       "      <td>HarperTrophy</td>\n",
       "    </tr>\n",
       "    <tr>\n",
       "      <th>1</th>\n",
       "      <td>11101</td>\n",
       "      <td>First Comes Love (Hot Water  California #1)</td>\n",
       "      <td>Christie Ridgway</td>\n",
       "      <td>3.81</td>\n",
       "      <td>0380818957</td>\n",
       "      <td>9780380818952</td>\n",
       "      <td>en-US</td>\n",
       "      <td>384</td>\n",
       "      <td>1051</td>\n",
       "      <td>47</td>\n",
       "      <td>1/1/2002</td>\n",
       "      <td>Avon Books</td>\n",
       "    </tr>\n",
       "    <tr>\n",
       "      <th>2</th>\n",
       "      <td>28193</td>\n",
       "      <td>When Santa Fell to Earth</td>\n",
       "      <td>Cornelia Funke/Paul   Howard/Oliver G. Latsch</td>\n",
       "      <td>3.76</td>\n",
       "      <td>043978204X</td>\n",
       "      <td>9780439782043</td>\n",
       "      <td>eng</td>\n",
       "      <td>167</td>\n",
       "      <td>1840</td>\n",
       "      <td>245</td>\n",
       "      <td>10/1/2006</td>\n",
       "      <td>Chicken House / Scholastic</td>\n",
       "    </tr>\n",
       "    <tr>\n",
       "      <th>3</th>\n",
       "      <td>25047</td>\n",
       "      <td>The Case of the Stinky Science Project (Jigsaw...</td>\n",
       "      <td>James Preller/John Speirs/James Preller</td>\n",
       "      <td>3.83</td>\n",
       "      <td>0439114284</td>\n",
       "      <td>9780439114288</td>\n",
       "      <td>en-US</td>\n",
       "      <td>80</td>\n",
       "      <td>162</td>\n",
       "      <td>11</td>\n",
       "      <td>3/1/2001</td>\n",
       "      <td>Scholastic Paperbacks</td>\n",
       "    </tr>\n",
       "    <tr>\n",
       "      <th>4</th>\n",
       "      <td>17800</td>\n",
       "      <td>Dance Dance Dance</td>\n",
       "      <td>Haruki Murakami</td>\n",
       "      <td>4.04</td>\n",
       "      <td>0099448769</td>\n",
       "      <td>9780099448761</td>\n",
       "      <td>eng</td>\n",
       "      <td>393</td>\n",
       "      <td>50169</td>\n",
       "      <td>2117</td>\n",
       "      <td>2/7/2002</td>\n",
       "      <td>Vintage</td>\n",
       "    </tr>\n",
       "  </tbody>\n",
       "</table>\n",
       "</div>"
      ],
      "text/plain": [
       "   bookID                                              title  \\\n",
       "0    8253     Little Town on the Prairie  (Little House  #7)   \n",
       "1   11101        First Comes Love (Hot Water  California #1)   \n",
       "2   28193                           When Santa Fell to Earth   \n",
       "3   25047  The Case of the Stinky Science Project (Jigsaw...   \n",
       "4   17800                                  Dance Dance Dance   \n",
       "\n",
       "                                         authors  average_rating        isbn  \\\n",
       "0            Laura Ingalls Wilder/Garth Williams            4.19  0060885432   \n",
       "1                               Christie Ridgway            3.81  0380818957   \n",
       "2  Cornelia Funke/Paul   Howard/Oliver G. Latsch            3.76  043978204X   \n",
       "3        James Preller/John Speirs/James Preller            3.83  0439114284   \n",
       "4                                Haruki Murakami            4.04  0099448769   \n",
       "\n",
       "          isbn13 language_code    num_pages  ratings_count  \\\n",
       "0  9780060885434           eng          374          71853   \n",
       "1  9780380818952         en-US          384           1051   \n",
       "2  9780439782043           eng          167           1840   \n",
       "3  9780439114288         en-US           80            162   \n",
       "4  9780099448761           eng          393          50169   \n",
       "\n",
       "   text_reviews_count publication_date                   publisher  \n",
       "0                 646         1/1/2007                HarperTrophy  \n",
       "1                  47         1/1/2002                  Avon Books  \n",
       "2                 245        10/1/2006  Chicken House / Scholastic  \n",
       "3                  11         3/1/2001       Scholastic Paperbacks  \n",
       "4                2117         2/7/2002                     Vintage  "
      ]
     },
     "execution_count": 2,
     "metadata": {},
     "output_type": "execute_result"
    }
   ],
   "source": [
    "data = pd.read_csv('../ProjectBookRatingPredictions/DataSet/Train_data.csv',error_bad_lines=False)\n",
    "data.head(5)"
   ]
  },
  {
   "cell_type": "code",
   "execution_count": 3,
   "metadata": {},
   "outputs": [
    {
     "data": {
      "text/html": [
       "<div>\n",
       "<style scoped>\n",
       "    .dataframe tbody tr th:only-of-type {\n",
       "        vertical-align: middle;\n",
       "    }\n",
       "\n",
       "    .dataframe tbody tr th {\n",
       "        vertical-align: top;\n",
       "    }\n",
       "\n",
       "    .dataframe thead th {\n",
       "        text-align: right;\n",
       "    }\n",
       "</style>\n",
       "<table border=\"1\" class=\"dataframe\">\n",
       "  <thead>\n",
       "    <tr style=\"text-align: right;\">\n",
       "      <th></th>\n",
       "      <th>bookID</th>\n",
       "      <th>title</th>\n",
       "      <th>authors</th>\n",
       "      <th>average_rating</th>\n",
       "      <th>isbn</th>\n",
       "      <th>isbn13</th>\n",
       "      <th>language_code</th>\n",
       "      <th>num_pages</th>\n",
       "      <th>ratings_count</th>\n",
       "      <th>text_reviews_count</th>\n",
       "      <th>publication_date</th>\n",
       "      <th>publisher</th>\n",
       "    </tr>\n",
       "  </thead>\n",
       "  <tbody>\n",
       "    <tr>\n",
       "      <th>0</th>\n",
       "      <td>28898</td>\n",
       "      <td>Fundamentals of Heat and Mass Transfer [with I...</td>\n",
       "      <td>Frank P. Incropera/David P. DeWitt</td>\n",
       "      <td>NaN</td>\n",
       "      <td>0470055545</td>\n",
       "      <td>9780470055540</td>\n",
       "      <td>en-US</td>\n",
       "      <td>997</td>\n",
       "      <td>6</td>\n",
       "      <td>0</td>\n",
       "      <td>10/30/2006</td>\n",
       "      <td>Wiley</td>\n",
       "    </tr>\n",
       "    <tr>\n",
       "      <th>1</th>\n",
       "      <td>39358</td>\n",
       "      <td>Stud Rites (A Dog Lover's Mystery #9)</td>\n",
       "      <td>Susan Conant</td>\n",
       "      <td>NaN</td>\n",
       "      <td>0425201597</td>\n",
       "      <td>9780425201596</td>\n",
       "      <td>eng</td>\n",
       "      <td>237</td>\n",
       "      <td>322</td>\n",
       "      <td>16</td>\n",
       "      <td>3/1/2005</td>\n",
       "      <td>Berkley Prime Crime Books</td>\n",
       "    </tr>\n",
       "    <tr>\n",
       "      <th>2</th>\n",
       "      <td>32695</td>\n",
       "      <td>El talismán</td>\n",
       "      <td>Stephen King/Peter Straub/Pilar Giralt Gorina</td>\n",
       "      <td>NaN</td>\n",
       "      <td>8408042432</td>\n",
       "      <td>9788408042433</td>\n",
       "      <td>spa</td>\n",
       "      <td>375</td>\n",
       "      <td>12</td>\n",
       "      <td>1</td>\n",
       "      <td>7/1/2003</td>\n",
       "      <td>Planeta Publishing</td>\n",
       "    </tr>\n",
       "    <tr>\n",
       "      <th>3</th>\n",
       "      <td>15096</td>\n",
       "      <td>Five Quarters of the Orange</td>\n",
       "      <td>Joanne Harris</td>\n",
       "      <td>NaN</td>\n",
       "      <td>0060958022</td>\n",
       "      <td>9780060958022</td>\n",
       "      <td>eng</td>\n",
       "      <td>307</td>\n",
       "      <td>26258</td>\n",
       "      <td>1936</td>\n",
       "      <td>6/4/2002</td>\n",
       "      <td>Harper Perennial</td>\n",
       "    </tr>\n",
       "    <tr>\n",
       "      <th>4</th>\n",
       "      <td>15428</td>\n",
       "      <td>Up in a Heaval (Xanth #26)</td>\n",
       "      <td>Piers Anthony</td>\n",
       "      <td>NaN</td>\n",
       "      <td>0812574990</td>\n",
       "      <td>9780812574999</td>\n",
       "      <td>eng</td>\n",
       "      <td>342</td>\n",
       "      <td>2364</td>\n",
       "      <td>25</td>\n",
       "      <td>10/19/2003</td>\n",
       "      <td>Tor Fantasy</td>\n",
       "    </tr>\n",
       "  </tbody>\n",
       "</table>\n",
       "</div>"
      ],
      "text/plain": [
       "   bookID                                              title  \\\n",
       "0   28898  Fundamentals of Heat and Mass Transfer [with I...   \n",
       "1   39358              Stud Rites (A Dog Lover's Mystery #9)   \n",
       "2   32695                                        El talismán   \n",
       "3   15096                        Five Quarters of the Orange   \n",
       "4   15428                         Up in a Heaval (Xanth #26)   \n",
       "\n",
       "                                         authors  average_rating        isbn  \\\n",
       "0             Frank P. Incropera/David P. DeWitt             NaN  0470055545   \n",
       "1                                   Susan Conant             NaN  0425201597   \n",
       "2  Stephen King/Peter Straub/Pilar Giralt Gorina             NaN  8408042432   \n",
       "3                                  Joanne Harris             NaN  0060958022   \n",
       "4                                  Piers Anthony             NaN  0812574990   \n",
       "\n",
       "          isbn13 language_code    num_pages  ratings_count  \\\n",
       "0  9780470055540         en-US          997              6   \n",
       "1  9780425201596           eng          237            322   \n",
       "2  9788408042433           spa          375             12   \n",
       "3  9780060958022           eng          307          26258   \n",
       "4  9780812574999           eng          342           2364   \n",
       "\n",
       "   text_reviews_count publication_date                  publisher  \n",
       "0                   0       10/30/2006                      Wiley  \n",
       "1                  16         3/1/2005  Berkley Prime Crime Books  \n",
       "2                   1         7/1/2003         Planeta Publishing  \n",
       "3                1936         6/4/2002           Harper Perennial  \n",
       "4                  25       10/19/2003                Tor Fantasy  "
      ]
     },
     "execution_count": 3,
     "metadata": {},
     "output_type": "execute_result"
    }
   ],
   "source": [
    "test = pd.read_csv('../ProjectBookRatingPredictions/DataSet/Test_data.csv',error_bad_lines=False)\n",
    "test.head(5)"
   ]
  },
  {
   "cell_type": "code",
   "execution_count": 4,
   "metadata": {},
   "outputs": [
    {
     "data": {
      "text/html": [
       "<div>\n",
       "<style scoped>\n",
       "    .dataframe tbody tr th:only-of-type {\n",
       "        vertical-align: middle;\n",
       "    }\n",
       "\n",
       "    .dataframe tbody tr th {\n",
       "        vertical-align: top;\n",
       "    }\n",
       "\n",
       "    .dataframe thead th {\n",
       "        text-align: right;\n",
       "    }\n",
       "</style>\n",
       "<table border=\"1\" class=\"dataframe\">\n",
       "  <thead>\n",
       "    <tr style=\"text-align: right;\">\n",
       "      <th></th>\n",
       "      <th>bookID</th>\n",
       "      <th>average_rating</th>\n",
       "      <th>isbn13</th>\n",
       "      <th>num_pages</th>\n",
       "      <th>ratings_count</th>\n",
       "      <th>text_reviews_count</th>\n",
       "    </tr>\n",
       "  </thead>\n",
       "  <tbody>\n",
       "    <tr>\n",
       "      <th>count</th>\n",
       "      <td>10000.000000</td>\n",
       "      <td>10000.000000</td>\n",
       "      <td>1.000000e+04</td>\n",
       "      <td>10000.000000</td>\n",
       "      <td>1.000000e+04</td>\n",
       "      <td>10000.000000</td>\n",
       "    </tr>\n",
       "    <tr>\n",
       "      <th>mean</th>\n",
       "      <td>21266.538300</td>\n",
       "      <td>3.935645</td>\n",
       "      <td>9.763290e+12</td>\n",
       "      <td>336.340000</td>\n",
       "      <td>1.874233e+04</td>\n",
       "      <td>555.690600</td>\n",
       "    </tr>\n",
       "    <tr>\n",
       "      <th>std</th>\n",
       "      <td>13081.040856</td>\n",
       "      <td>0.345856</td>\n",
       "      <td>4.035128e+11</td>\n",
       "      <td>234.721368</td>\n",
       "      <td>1.178498e+05</td>\n",
       "      <td>2672.388675</td>\n",
       "    </tr>\n",
       "    <tr>\n",
       "      <th>min</th>\n",
       "      <td>1.000000</td>\n",
       "      <td>0.000000</td>\n",
       "      <td>8.987060e+09</td>\n",
       "      <td>0.000000</td>\n",
       "      <td>0.000000e+00</td>\n",
       "      <td>0.000000</td>\n",
       "    </tr>\n",
       "    <tr>\n",
       "      <th>25%</th>\n",
       "      <td>10230.000000</td>\n",
       "      <td>3.780000</td>\n",
       "      <td>9.780345e+12</td>\n",
       "      <td>194.000000</td>\n",
       "      <td>1.060000e+02</td>\n",
       "      <td>9.000000</td>\n",
       "    </tr>\n",
       "    <tr>\n",
       "      <th>50%</th>\n",
       "      <td>20261.000000</td>\n",
       "      <td>3.960000</td>\n",
       "      <td>9.780571e+12</td>\n",
       "      <td>300.000000</td>\n",
       "      <td>7.440000e+02</td>\n",
       "      <td>47.000000</td>\n",
       "    </tr>\n",
       "    <tr>\n",
       "      <th>75%</th>\n",
       "      <td>31986.750000</td>\n",
       "      <td>4.130000</td>\n",
       "      <td>9.780872e+12</td>\n",
       "      <td>416.000000</td>\n",
       "      <td>5.005500e+03</td>\n",
       "      <td>241.000000</td>\n",
       "    </tr>\n",
       "    <tr>\n",
       "      <th>max</th>\n",
       "      <td>45641.000000</td>\n",
       "      <td>5.000000</td>\n",
       "      <td>9.790008e+12</td>\n",
       "      <td>4736.000000</td>\n",
       "      <td>4.597666e+06</td>\n",
       "      <td>94265.000000</td>\n",
       "    </tr>\n",
       "  </tbody>\n",
       "</table>\n",
       "</div>"
      ],
      "text/plain": [
       "             bookID  average_rating        isbn13     num_pages  \\\n",
       "count  10000.000000    10000.000000  1.000000e+04  10000.000000   \n",
       "mean   21266.538300        3.935645  9.763290e+12    336.340000   \n",
       "std    13081.040856        0.345856  4.035128e+11    234.721368   \n",
       "min        1.000000        0.000000  8.987060e+09      0.000000   \n",
       "25%    10230.000000        3.780000  9.780345e+12    194.000000   \n",
       "50%    20261.000000        3.960000  9.780571e+12    300.000000   \n",
       "75%    31986.750000        4.130000  9.780872e+12    416.000000   \n",
       "max    45641.000000        5.000000  9.790008e+12   4736.000000   \n",
       "\n",
       "       ratings_count  text_reviews_count  \n",
       "count   1.000000e+04        10000.000000  \n",
       "mean    1.874233e+04          555.690600  \n",
       "std     1.178498e+05         2672.388675  \n",
       "min     0.000000e+00            0.000000  \n",
       "25%     1.060000e+02            9.000000  \n",
       "50%     7.440000e+02           47.000000  \n",
       "75%     5.005500e+03          241.000000  \n",
       "max     4.597666e+06        94265.000000  "
      ]
     },
     "execution_count": 4,
     "metadata": {},
     "output_type": "execute_result"
    }
   ],
   "source": [
    "data.describe() # Generate the summary table of the data"
   ]
  },
  {
   "cell_type": "code",
   "execution_count": 5,
   "metadata": {},
   "outputs": [
    {
     "data": {
      "text/html": [
       "<div>\n",
       "<style scoped>\n",
       "    .dataframe tbody tr th:only-of-type {\n",
       "        vertical-align: middle;\n",
       "    }\n",
       "\n",
       "    .dataframe tbody tr th {\n",
       "        vertical-align: top;\n",
       "    }\n",
       "\n",
       "    .dataframe thead th {\n",
       "        text-align: right;\n",
       "    }\n",
       "</style>\n",
       "<table border=\"1\" class=\"dataframe\">\n",
       "  <thead>\n",
       "    <tr style=\"text-align: right;\">\n",
       "      <th></th>\n",
       "      <th>bookID</th>\n",
       "      <th>average_rating</th>\n",
       "      <th>isbn13</th>\n",
       "      <th>num_pages</th>\n",
       "      <th>ratings_count</th>\n",
       "      <th>text_reviews_count</th>\n",
       "    </tr>\n",
       "  </thead>\n",
       "  <tbody>\n",
       "    <tr>\n",
       "      <th>count</th>\n",
       "      <td>1000.000000</td>\n",
       "      <td>0.0</td>\n",
       "      <td>1.000000e+03</td>\n",
       "      <td>1000.000000</td>\n",
       "      <td>1000.000000</td>\n",
       "      <td>1000.00000</td>\n",
       "    </tr>\n",
       "    <tr>\n",
       "      <th>mean</th>\n",
       "      <td>21563.620000</td>\n",
       "      <td>NaN</td>\n",
       "      <td>9.723212e+12</td>\n",
       "      <td>339.037000</td>\n",
       "      <td>11178.416000</td>\n",
       "      <td>437.94100</td>\n",
       "    </tr>\n",
       "    <tr>\n",
       "      <th>std</th>\n",
       "      <td>13255.081966</td>\n",
       "      <td>NaN</td>\n",
       "      <td>7.439213e+11</td>\n",
       "      <td>300.059186</td>\n",
       "      <td>41155.854102</td>\n",
       "      <td>1533.60982</td>\n",
       "    </tr>\n",
       "    <tr>\n",
       "      <th>min</th>\n",
       "      <td>9.000000</td>\n",
       "      <td>NaN</td>\n",
       "      <td>2.004913e+10</td>\n",
       "      <td>0.000000</td>\n",
       "      <td>0.000000</td>\n",
       "      <td>0.00000</td>\n",
       "    </tr>\n",
       "    <tr>\n",
       "      <th>25%</th>\n",
       "      <td>10502.750000</td>\n",
       "      <td>NaN</td>\n",
       "      <td>9.780376e+12</td>\n",
       "      <td>191.750000</td>\n",
       "      <td>91.750000</td>\n",
       "      <td>9.00000</td>\n",
       "    </tr>\n",
       "    <tr>\n",
       "      <th>50%</th>\n",
       "      <td>19632.500000</td>\n",
       "      <td>NaN</td>\n",
       "      <td>9.780672e+12</td>\n",
       "      <td>292.000000</td>\n",
       "      <td>781.500000</td>\n",
       "      <td>46.00000</td>\n",
       "    </tr>\n",
       "    <tr>\n",
       "      <th>75%</th>\n",
       "      <td>32855.500000</td>\n",
       "      <td>NaN</td>\n",
       "      <td>9.780887e+12</td>\n",
       "      <td>409.000000</td>\n",
       "      <td>5149.750000</td>\n",
       "      <td>216.25000</td>\n",
       "    </tr>\n",
       "    <tr>\n",
       "      <th>max</th>\n",
       "      <td>45546.000000</td>\n",
       "      <td>NaN</td>\n",
       "      <td>9.789999e+12</td>\n",
       "      <td>6576.000000</td>\n",
       "      <td>541914.000000</td>\n",
       "      <td>23793.00000</td>\n",
       "    </tr>\n",
       "  </tbody>\n",
       "</table>\n",
       "</div>"
      ],
      "text/plain": [
       "             bookID  average_rating        isbn13    num_pages  ratings_count  \\\n",
       "count   1000.000000             0.0  1.000000e+03  1000.000000    1000.000000   \n",
       "mean   21563.620000             NaN  9.723212e+12   339.037000   11178.416000   \n",
       "std    13255.081966             NaN  7.439213e+11   300.059186   41155.854102   \n",
       "min        9.000000             NaN  2.004913e+10     0.000000       0.000000   \n",
       "25%    10502.750000             NaN  9.780376e+12   191.750000      91.750000   \n",
       "50%    19632.500000             NaN  9.780672e+12   292.000000     781.500000   \n",
       "75%    32855.500000             NaN  9.780887e+12   409.000000    5149.750000   \n",
       "max    45546.000000             NaN  9.789999e+12  6576.000000  541914.000000   \n",
       "\n",
       "       text_reviews_count  \n",
       "count          1000.00000  \n",
       "mean            437.94100  \n",
       "std            1533.60982  \n",
       "min               0.00000  \n",
       "25%               9.00000  \n",
       "50%              46.00000  \n",
       "75%             216.25000  \n",
       "max           23793.00000  "
      ]
     },
     "execution_count": 5,
     "metadata": {},
     "output_type": "execute_result"
    }
   ],
   "source": [
    "test.describe() # Generate the summary table of the testset"
   ]
  },
  {
   "cell_type": "code",
   "execution_count": 6,
   "metadata": {},
   "outputs": [
    {
     "name": "stdout",
     "output_type": "stream",
     "text": [
      "<class 'pandas.core.frame.DataFrame'>\n",
      "RangeIndex: 10000 entries, 0 to 9999\n",
      "Data columns (total 12 columns):\n",
      " #   Column              Non-Null Count  Dtype  \n",
      "---  ------              --------------  -----  \n",
      " 0   bookID              10000 non-null  int64  \n",
      " 1   title               10000 non-null  object \n",
      " 2   authors             10000 non-null  object \n",
      " 3   average_rating      10000 non-null  float64\n",
      " 4   isbn                10000 non-null  object \n",
      " 5   isbn13              10000 non-null  int64  \n",
      " 6   language_code       10000 non-null  object \n",
      " 7     num_pages         10000 non-null  int64  \n",
      " 8   ratings_count       10000 non-null  int64  \n",
      " 9   text_reviews_count  10000 non-null  int64  \n",
      " 10  publication_date    10000 non-null  object \n",
      " 11  publisher           10000 non-null  object \n",
      "dtypes: float64(1), int64(5), object(6)\n",
      "memory usage: 937.6+ KB\n"
     ]
    }
   ],
   "source": [
    "data.info() # Check basic features and data types"
   ]
  },
  {
   "cell_type": "code",
   "execution_count": 7,
   "metadata": {},
   "outputs": [
    {
     "name": "stdout",
     "output_type": "stream",
     "text": [
      "<class 'pandas.core.frame.DataFrame'>\n",
      "RangeIndex: 1000 entries, 0 to 999\n",
      "Data columns (total 12 columns):\n",
      " #   Column              Non-Null Count  Dtype  \n",
      "---  ------              --------------  -----  \n",
      " 0   bookID              1000 non-null   int64  \n",
      " 1   title               1000 non-null   object \n",
      " 2   authors             1000 non-null   object \n",
      " 3   average_rating      0 non-null      float64\n",
      " 4   isbn                1000 non-null   object \n",
      " 5   isbn13              1000 non-null   int64  \n",
      " 6   language_code       1000 non-null   object \n",
      " 7     num_pages         1000 non-null   int64  \n",
      " 8   ratings_count       1000 non-null   int64  \n",
      " 9   text_reviews_count  1000 non-null   int64  \n",
      " 10  publication_date    1000 non-null   object \n",
      " 11  publisher           1000 non-null   object \n",
      "dtypes: float64(1), int64(5), object(6)\n",
      "memory usage: 93.9+ KB\n"
     ]
    }
   ],
   "source": [
    "test.info() # Check testset"
   ]
  },
  {
   "cell_type": "code",
   "execution_count": 8,
   "metadata": {},
   "outputs": [
    {
     "data": {
      "text/plain": [
       "False"
      ]
     },
     "execution_count": 8,
     "metadata": {},
     "output_type": "execute_result"
    }
   ],
   "source": [
    "data.duplicated().any() # Check for doublication"
   ]
  },
  {
   "cell_type": "code",
   "execution_count": 9,
   "metadata": {},
   "outputs": [
    {
     "data": {
      "text/plain": [
       "False"
      ]
     },
     "execution_count": 9,
     "metadata": {},
     "output_type": "execute_result"
    }
   ],
   "source": [
    "test.duplicated().any()"
   ]
  },
  {
   "cell_type": "code",
   "execution_count": 10,
   "metadata": {},
   "outputs": [
    {
     "data": {
      "text/plain": [
       "<AxesSubplot:>"
      ]
     },
     "execution_count": 10,
     "metadata": {},
     "output_type": "execute_result"
    },
    {
     "data": {
      "image/png": "[encoded data removed]",
      "text/plain": [
       "<Figure size 432x288 with 2 Axes>"
      ]
     },
     "metadata": {
      "needs_background": "light"
     },
     "output_type": "display_data"
    }
   ],
   "source": [
    "sns.heatmap(data.isnull(), cmap='RdBu_r') #Check if null in trainset"
   ]
  },
  {
   "cell_type": "code",
   "execution_count": 11,
   "metadata": {},
   "outputs": [
    {
     "data": {
      "text/plain": [
       "<AxesSubplot:>"
      ]
     },
     "execution_count": 11,
     "metadata": {},
     "output_type": "execute_result"
    },
    {
     "data": {
      "image/png": "[encoded data removed]",
      "text/plain": [
       "<Figure size 432x288 with 2 Axes>"
      ]
     },
     "metadata": {
      "needs_background": "light"
     },
     "output_type": "display_data"
    }
   ],
   "source": [
    "sns.heatmap(test.isnull(), cmap='RdBu_r') # Check if null in testset"
   ]
  },
  {
   "cell_type": "markdown",
   "metadata": {},
   "source": [
    "#### No duplicated or missing values in the trainset, then we do data visualisation to further explore it.\n",
    "#### And that will help us to do the data cleaning and feature engineering"
   ]
  },
  {
   "cell_type": "markdown",
   "metadata": {},
   "source": [
    "# Data Visualisation"
   ]
  },
  {
   "cell_type": "code",
   "execution_count": 12,
   "metadata": {},
   "outputs": [
    {
     "data": {
      "text/plain": [
       "Text(0, 0.5, 'Frequency')"
      ]
     },
     "execution_count": 12,
     "metadata": {},
     "output_type": "execute_result"
    },
    {
     "data": {
      "image/png": "[encoded data removed]",
      "text/plain": [
       "<Figure size 432x288 with 1 Axes>"
      ]
     },
     "metadata": {
      "needs_background": "light"
     },
     "output_type": "display_data"
    }
   ],
   "source": [
    "# rating distribution\n",
    "sns.kdeplot(data['average_rating'],shade = True)\n",
    "plt.title('Rating Distribution\\n')\n",
    "plt.xlabel('Rating')\n",
    "plt.ylabel('Frequency')"
   ]
  },
  {
   "cell_type": "markdown",
   "metadata": {},
   "source": [
    "#### we can see that most books are rated around 4"
   ]
  },
  {
   "cell_type": "code",
   "execution_count": 13,
   "metadata": {},
   "outputs": [
    {
     "data": {
      "text/plain": [
       "<matplotlib.legend.Legend at 0x164499ae610>"
      ]
     },
     "execution_count": 13,
     "metadata": {},
     "output_type": "execute_result"
    },
    {
     "data": {
      "image/png": "[encoded data removed]",
      "text/plain": [
       "<Figure size 576x576 with 1 Axes>"
      ]
     },
     "metadata": {},
     "output_type": "display_data"
    }
   ],
   "source": [
    "# top languages\n",
    "data['language_code'].value_counts().head(100).plot(kind = 'pie', autopct='%1.1f%%', figsize=(8, 8)).legend()"
   ]
  },
  {
   "cell_type": "markdown",
   "metadata": {},
   "source": [
    "#### The most used language in books is English"
   ]
  },
  {
   "cell_type": "code",
   "execution_count": 14,
   "metadata": {},
   "outputs": [
    {
     "data": {
      "text/plain": [
       "(array([0, 1, 2, 3, 4, 5, 6, 7, 8, 9]),\n",
       " [Text(0, 0, '3.83'),\n",
       "  Text(1, 0, '3.89'),\n",
       "  Text(2, 0, '3.92'),\n",
       "  Text(3, 0, '3.93'),\n",
       "  Text(4, 0, '3.94'),\n",
       "  Text(5, 0, '3.96'),\n",
       "  Text(6, 0, '4.0'),\n",
       "  Text(7, 0, '4.02'),\n",
       "  Text(8, 0, '4.05'),\n",
       "  Text(9, 0, '4.07')])"
      ]
     },
     "execution_count": 14,
     "metadata": {},
     "output_type": "execute_result"
    },
    {
     "data": {
      "image/png": "[encoded data removed]",
      "text/plain": [
       "<Figure size 432x288 with 1 Axes>"
      ]
     },
     "metadata": {
      "needs_background": "light"
     },
     "output_type": "display_data"
    }
   ],
   "source": [
    "# number of books per rating\n",
    "sns.barplot(data['average_rating'].value_counts().head(10).index, data['average_rating'].value_counts().head(10))\n",
    "plt.title('Number of Books Each Rating Received\\n')\n",
    "plt.xlabel('Ratings')\n",
    "plt.ylabel('Counts')\n",
    "plt.xticks(rotation=45)"
   ]
  },
  {
   "cell_type": "code",
   "execution_count": 15,
   "metadata": {},
   "outputs": [
    {
     "data": {
      "text/plain": [
       "<AxesSubplot:xlabel='ratings_count', ylabel='title'>"
      ]
     },
     "execution_count": 15,
     "metadata": {},
     "output_type": "execute_result"
    },
    {
     "data": {
      "image/png": "[encoded data removed]",
      "text/plain": [
       "<Figure size 432x288 with 1 Axes>"
      ]
     },
     "metadata": {
      "needs_background": "light"
     },
     "output_type": "display_data"
    }
   ],
   "source": [
    "# highest rated books\n",
    "popular_books = data.nlargest(10, ['ratings_count']).set_index('title')['ratings_count']\n",
    "sns.barplot(popular_books, popular_books.index)"
   ]
  },
  {
   "cell_type": "code",
   "execution_count": 16,
   "metadata": {},
   "outputs": [
    {
     "data": {
      "text/plain": [
       "<AxesSubplot:xlabel='text_reviews_count', ylabel='title'>"
      ]
     },
     "execution_count": 16,
     "metadata": {},
     "output_type": "execute_result"
    },
    {
     "data": {
      "image/png": "[encoded data removed]",
      "text/plain": [
       "<Figure size 432x288 with 1 Axes>"
      ]
     },
     "metadata": {
      "needs_background": "light"
     },
     "output_type": "display_data"
    }
   ],
   "source": [
    "# highest reviewed books\n",
    "highest_reviews = data.nlargest(10, ['text_reviews_count'])\n",
    "sns.barplot(highest_reviews['text_reviews_count'], highest_reviews['title'])"
   ]
  },
  {
   "cell_type": "code",
   "execution_count": 17,
   "metadata": {},
   "outputs": [
    {
     "data": {
      "text/plain": [
       "Text(0.5, 0, 'Total Ratings')"
      ]
     },
     "execution_count": 17,
     "metadata": {},
     "output_type": "execute_result"
    },
    {
     "data": {
      "image/png": "[encoded data removed]",
      "text/plain": [
       "<Figure size 720x360 with 1 Axes>"
      ]
     },
     "metadata": {
      "needs_background": "light"
     },
     "output_type": "display_data"
    }
   ],
   "source": [
    "# authors with highest rated books\n",
    "plt.figure(figsize=(10, 5))\n",
    "authors = data.nlargest(5, ['ratings_count']).set_index('authors')\n",
    "sns.barplot(authors['ratings_count'], authors.index, ci = None, hue = authors['title'])\n",
    "plt.xlabel('Total Ratings')"
   ]
  },
  {
   "cell_type": "code",
   "execution_count": 18,
   "metadata": {},
   "outputs": [
    {
     "data": {
      "text/plain": [
       "Text(0.5, 0, 'No. of Publications')"
      ]
     },
     "execution_count": 18,
     "metadata": {},
     "output_type": "execute_result"
    },
    {
     "data": {
      "image/png": "[encoded data removed]",
      "text/plain": [
       "<Figure size 432x288 with 1 Axes>"
      ]
     },
     "metadata": {
      "needs_background": "light"
     },
     "output_type": "display_data"
    }
   ],
   "source": [
    "# authors with highest publications\n",
    "top_authors = data['authors'].value_counts().head(9)\n",
    "sns.barplot(top_authors, top_authors.index)\n",
    "plt.title('Authors with Highest Publication Count')\n",
    "plt.xlabel('No. of Publications')"
   ]
  },
  {
   "cell_type": "markdown",
   "metadata": {},
   "source": [
    "# Data Preprocessing\n",
    "**Next, we do the Data Cleaning and Feature Engineering**"
   ]
  },
  {
   "cell_type": "markdown",
   "metadata": {},
   "source": [
    "### 1. Data Cleaning\n",
    "We try to find and remove some extreme outliers from the features, since these values are abnormal distance from others, keeping them won't give any help to the accurancy of the model."
   ]
  },
  {
   "cell_type": "markdown",
   "metadata": {},
   "source": [
    "#### num_pages:"
   ]
  },
  {
   "cell_type": "code",
   "execution_count": 19,
   "metadata": {},
   "outputs": [],
   "source": [
    "#first we remove the spaces of feature num_pages\n",
    "data.rename(columns={\"  num_pages\":\"num_pages\"}, inplace=True)"
   ]
  },
  {
   "cell_type": "code",
   "execution_count": 20,
   "metadata": {},
   "outputs": [
    {
     "data": {
      "text/plain": [
       "<AxesSubplot:xlabel='num_pages'>"
      ]
     },
     "execution_count": 20,
     "metadata": {},
     "output_type": "execute_result"
    },
    {
     "data": {
      "image/png": "[encoded data removed]",
      "text/plain": [
       "<Figure size 432x288 with 1 Axes>"
      ]
     },
     "metadata": {
      "needs_background": "light"
     },
     "output_type": "display_data"
    }
   ],
   "source": [
    "# find the outliers of num_pages\n",
    "sns.boxplot(x=data['num_pages'])"
   ]
  },
  {
   "cell_type": "markdown",
   "metadata": {},
   "source": [
    "The boxplot shows points between 1000 to 6000, the outliers are not included in the quartiles. So we drop them."
   ]
  },
  {
   "cell_type": "code",
   "execution_count": 21,
   "metadata": {},
   "outputs": [],
   "source": [
    "# remove outliers from pages number\n",
    "data = data.drop(data.index[data['num_pages'] >= 1000])"
   ]
  },
  {
   "cell_type": "code",
   "execution_count": 22,
   "metadata": {},
   "outputs": [
    {
     "data": {
      "text/plain": [
       "(9805, 12)"
      ]
     },
     "execution_count": 22,
     "metadata": {},
     "output_type": "execute_result"
    }
   ],
   "source": [
    "data.shape"
   ]
  },
  {
   "cell_type": "markdown",
   "metadata": {},
   "source": [
    "#### ratings_count:"
   ]
  },
  {
   "cell_type": "code",
   "execution_count": 23,
   "metadata": {},
   "outputs": [
    {
     "data": {
      "text/plain": [
       "<AxesSubplot:xlabel='ratings_count'>"
      ]
     },
     "execution_count": 23,
     "metadata": {},
     "output_type": "execute_result"
    },
    {
     "data": {
      "image/png": "[encoded data removed]",
      "text/plain": [
       "<Figure size 432x288 with 1 Axes>"
      ]
     },
     "metadata": {
      "needs_background": "light"
     },
     "output_type": "display_data"
    }
   ],
   "source": [
    "# find outliers of ratings_count\n",
    "sns.boxplot(x=data['ratings_count'])"
   ]
  },
  {
   "cell_type": "code",
   "execution_count": 24,
   "metadata": {},
   "outputs": [],
   "source": [
    "# remove outliers from ratings_count\n",
    "data = data.drop(data.index[data['ratings_count'] >= 1000000])"
   ]
  },
  {
   "cell_type": "code",
   "execution_count": 25,
   "metadata": {},
   "outputs": [
    {
     "data": {
      "text/html": [
       "<div>\n",
       "<style scoped>\n",
       "    .dataframe tbody tr th:only-of-type {\n",
       "        vertical-align: middle;\n",
       "    }\n",
       "\n",
       "    .dataframe tbody tr th {\n",
       "        vertical-align: top;\n",
       "    }\n",
       "\n",
       "    .dataframe thead th {\n",
       "        text-align: right;\n",
       "    }\n",
       "</style>\n",
       "<table border=\"1\" class=\"dataframe\">\n",
       "  <thead>\n",
       "    <tr style=\"text-align: right;\">\n",
       "      <th></th>\n",
       "      <th>bookID</th>\n",
       "      <th>title</th>\n",
       "      <th>authors</th>\n",
       "      <th>average_rating</th>\n",
       "      <th>isbn</th>\n",
       "      <th>isbn13</th>\n",
       "      <th>language_code</th>\n",
       "      <th>num_pages</th>\n",
       "      <th>ratings_count</th>\n",
       "      <th>text_reviews_count</th>\n",
       "      <th>publication_date</th>\n",
       "      <th>publisher</th>\n",
       "    </tr>\n",
       "  </thead>\n",
       "  <tbody>\n",
       "    <tr>\n",
       "      <th>103</th>\n",
       "      <td>15186</td>\n",
       "      <td>American Film Guide</td>\n",
       "      <td>Frank N. Magill</td>\n",
       "      <td>0.00</td>\n",
       "      <td>0893562505</td>\n",
       "      <td>9780893562502</td>\n",
       "      <td>eng</td>\n",
       "      <td>5</td>\n",
       "      <td>0</td>\n",
       "      <td>0</td>\n",
       "      <td>1/1/1983</td>\n",
       "      <td>Salem Press Inc</td>\n",
       "    </tr>\n",
       "    <tr>\n",
       "      <th>169</th>\n",
       "      <td>42863</td>\n",
       "      <td>Mission Possible</td>\n",
       "      <td>Kenneth H. Blanchard</td>\n",
       "      <td>3.44</td>\n",
       "      <td>0071348271</td>\n",
       "      <td>9780071348270</td>\n",
       "      <td>eng</td>\n",
       "      <td>242</td>\n",
       "      <td>0</td>\n",
       "      <td>0</td>\n",
       "      <td>4/30/1999</td>\n",
       "      <td>McGraw-Hill Companies</td>\n",
       "    </tr>\n",
       "    <tr>\n",
       "      <th>480</th>\n",
       "      <td>16806</td>\n",
       "      <td>The Man and the Author: John Milton: Twentieth...</td>\n",
       "      <td>J. Martin Evans</td>\n",
       "      <td>0.00</td>\n",
       "      <td>0415940478</td>\n",
       "      <td>9780415940474</td>\n",
       "      <td>eng</td>\n",
       "      <td>386</td>\n",
       "      <td>0</td>\n",
       "      <td>0</td>\n",
       "      <td>11/8/2002</td>\n",
       "      <td>Routledge</td>\n",
       "    </tr>\n",
       "    <tr>\n",
       "      <th>518</th>\n",
       "      <td>12712</td>\n",
       "      <td>Brodie's notes on Aldous Huxley's brave new world</td>\n",
       "      <td>Graham Handley</td>\n",
       "      <td>0.00</td>\n",
       "      <td>0333581296</td>\n",
       "      <td>9780333581292</td>\n",
       "      <td>eng</td>\n",
       "      <td>71</td>\n",
       "      <td>0</td>\n",
       "      <td>0</td>\n",
       "      <td>8/20/1992</td>\n",
       "      <td>Macmillan</td>\n",
       "    </tr>\n",
       "    <tr>\n",
       "      <th>559</th>\n",
       "      <td>38710</td>\n",
       "      <td>Super Fast Out of Control</td>\n",
       "      <td>Louis Sachar</td>\n",
       "      <td>3.75</td>\n",
       "      <td>0747566828</td>\n",
       "      <td>9780747566823</td>\n",
       "      <td>eng</td>\n",
       "      <td>128</td>\n",
       "      <td>0</td>\n",
       "      <td>0</td>\n",
       "      <td>5/2/2005</td>\n",
       "      <td>Bloomsbury Publishing PLC</td>\n",
       "    </tr>\n",
       "    <tr>\n",
       "      <th>...</th>\n",
       "      <td>...</td>\n",
       "      <td>...</td>\n",
       "      <td>...</td>\n",
       "      <td>...</td>\n",
       "      <td>...</td>\n",
       "      <td>...</td>\n",
       "      <td>...</td>\n",
       "      <td>...</td>\n",
       "      <td>...</td>\n",
       "      <td>...</td>\n",
       "      <td>...</td>\n",
       "      <td>...</td>\n",
       "    </tr>\n",
       "    <tr>\n",
       "      <th>8710</th>\n",
       "      <td>24749</td>\n",
       "      <td>American Writers  Supplement VIII</td>\n",
       "      <td>Jay Parini/August Wilson</td>\n",
       "      <td>0.00</td>\n",
       "      <td>0684806371</td>\n",
       "      <td>9780684806372</td>\n",
       "      <td>eng</td>\n",
       "      <td>400</td>\n",
       "      <td>0</td>\n",
       "      <td>0</td>\n",
       "      <td>5/1/2001</td>\n",
       "      <td>Gale Cengage</td>\n",
       "    </tr>\n",
       "    <tr>\n",
       "      <th>9296</th>\n",
       "      <td>2411</td>\n",
       "      <td>Melville and the politics of identity: From *K...</td>\n",
       "      <td>Julian Markels</td>\n",
       "      <td>3.33</td>\n",
       "      <td>0252063023</td>\n",
       "      <td>9780252063022</td>\n",
       "      <td>eng</td>\n",
       "      <td>164</td>\n",
       "      <td>0</td>\n",
       "      <td>0</td>\n",
       "      <td>7/1/1993</td>\n",
       "      <td>University of Illinois Press</td>\n",
       "    </tr>\n",
       "    <tr>\n",
       "      <th>9619</th>\n",
       "      <td>39580</td>\n",
       "      <td>The American Campaign: U.S. Presidential Campa...</td>\n",
       "      <td>James E. Campbell</td>\n",
       "      <td>5.00</td>\n",
       "      <td>089096940X</td>\n",
       "      <td>9780890969403</td>\n",
       "      <td>eng</td>\n",
       "      <td>314</td>\n",
       "      <td>0</td>\n",
       "      <td>0</td>\n",
       "      <td>5/1/2000</td>\n",
       "      <td>Texas A&amp;M University Press</td>\n",
       "    </tr>\n",
       "    <tr>\n",
       "      <th>9808</th>\n",
       "      <td>3084</td>\n",
       "      <td>April  May und June</td>\n",
       "      <td>Elizabeth von Arnim</td>\n",
       "      <td>3.88</td>\n",
       "      <td>345833422X</td>\n",
       "      <td>9783458334224</td>\n",
       "      <td>ger</td>\n",
       "      <td>88</td>\n",
       "      <td>0</td>\n",
       "      <td>0</td>\n",
       "      <td>4/1/1995</td>\n",
       "      <td>Insel  Frankfurt</td>\n",
       "    </tr>\n",
       "    <tr>\n",
       "      <th>9885</th>\n",
       "      <td>41639</td>\n",
       "      <td>Bill Gates: Computer Legend (Famous Lives)</td>\n",
       "      <td>Sara Barton-Wood</td>\n",
       "      <td>5.00</td>\n",
       "      <td>0739844326</td>\n",
       "      <td>9780739844328</td>\n",
       "      <td>eng</td>\n",
       "      <td>48</td>\n",
       "      <td>0</td>\n",
       "      <td>0</td>\n",
       "      <td>11/1/2001</td>\n",
       "      <td>Raintree</td>\n",
       "    </tr>\n",
       "  </tbody>\n",
       "</table>\n",
       "<p>68 rows × 12 columns</p>\n",
       "</div>"
      ],
      "text/plain": [
       "      bookID                                              title  \\\n",
       "103    15186                                American Film Guide   \n",
       "169    42863                                   Mission Possible   \n",
       "480    16806  The Man and the Author: John Milton: Twentieth...   \n",
       "518    12712  Brodie's notes on Aldous Huxley's brave new world   \n",
       "559    38710                          Super Fast Out of Control   \n",
       "...      ...                                                ...   \n",
       "8710   24749                  American Writers  Supplement VIII   \n",
       "9296    2411  Melville and the politics of identity: From *K...   \n",
       "9619   39580  The American Campaign: U.S. Presidential Campa...   \n",
       "9808    3084                                April  May und June   \n",
       "9885   41639         Bill Gates: Computer Legend (Famous Lives)   \n",
       "\n",
       "                       authors  average_rating        isbn         isbn13  \\\n",
       "103            Frank N. Magill            0.00  0893562505  9780893562502   \n",
       "169       Kenneth H. Blanchard            3.44  0071348271  9780071348270   \n",
       "480            J. Martin Evans            0.00  0415940478  9780415940474   \n",
       "518             Graham Handley            0.00  0333581296  9780333581292   \n",
       "559               Louis Sachar            3.75  0747566828  9780747566823   \n",
       "...                        ...             ...         ...            ...   \n",
       "8710  Jay Parini/August Wilson            0.00  0684806371  9780684806372   \n",
       "9296            Julian Markels            3.33  0252063023  9780252063022   \n",
       "9619         James E. Campbell            5.00  089096940X  9780890969403   \n",
       "9808       Elizabeth von Arnim            3.88  345833422X  9783458334224   \n",
       "9885          Sara Barton-Wood            5.00  0739844326  9780739844328   \n",
       "\n",
       "     language_code  num_pages  ratings_count  text_reviews_count  \\\n",
       "103            eng          5              0                   0   \n",
       "169            eng        242              0                   0   \n",
       "480            eng        386              0                   0   \n",
       "518            eng         71              0                   0   \n",
       "559            eng        128              0                   0   \n",
       "...            ...        ...            ...                 ...   \n",
       "8710           eng        400              0                   0   \n",
       "9296           eng        164              0                   0   \n",
       "9619           eng        314              0                   0   \n",
       "9808           ger         88              0                   0   \n",
       "9885           eng         48              0                   0   \n",
       "\n",
       "     publication_date                     publisher  \n",
       "103          1/1/1983               Salem Press Inc  \n",
       "169         4/30/1999         McGraw-Hill Companies  \n",
       "480         11/8/2002                     Routledge  \n",
       "518         8/20/1992                     Macmillan  \n",
       "559          5/2/2005     Bloomsbury Publishing PLC  \n",
       "...               ...                           ...  \n",
       "8710         5/1/2001                  Gale Cengage  \n",
       "9296         7/1/1993  University of Illinois Press  \n",
       "9619         5/1/2000    Texas A&M University Press  \n",
       "9808         4/1/1995              Insel  Frankfurt  \n",
       "9885        11/1/2001                      Raintree  \n",
       "\n",
       "[68 rows x 12 columns]"
      ]
     },
     "execution_count": 25,
     "metadata": {},
     "output_type": "execute_result"
    }
   ],
   "source": [
    "# check meaningless rating\n",
    "data[data['ratings_count'] == 0]"
   ]
  },
  {
   "cell_type": "code",
   "execution_count": 26,
   "metadata": {},
   "outputs": [],
   "source": [
    "# And then drop them\n",
    "data = data.drop(data.index[data['ratings_count'] == 0])"
   ]
  },
  {
   "cell_type": "code",
   "execution_count": 27,
   "metadata": {},
   "outputs": [
    {
     "data": {
      "text/plain": [
       "(9707, 12)"
      ]
     },
     "execution_count": 27,
     "metadata": {},
     "output_type": "execute_result"
    }
   ],
   "source": [
    "data.shape"
   ]
  },
  {
   "cell_type": "markdown",
   "metadata": {},
   "source": [
    "#### text_reviews_count:"
   ]
  },
  {
   "cell_type": "code",
   "execution_count": 28,
   "metadata": {},
   "outputs": [
    {
     "data": {
      "text/plain": [
       "<AxesSubplot:xlabel='text_reviews_count'>"
      ]
     },
     "execution_count": 28,
     "metadata": {},
     "output_type": "execute_result"
    },
    {
     "data": {
      "image/png": "[encoded data removed]",
      "text/plain": [
       "<Figure size 432x288 with 1 Axes>"
      ]
     },
     "metadata": {
      "needs_background": "light"
     },
     "output_type": "display_data"
    }
   ],
   "source": [
    "#find outliers of text_reviews_count\n",
    "sns.boxplot(x=data['text_reviews_count'])"
   ]
  },
  {
   "cell_type": "code",
   "execution_count": 29,
   "metadata": {},
   "outputs": [],
   "source": [
    "# remove outliers from text_reviews_count\n",
    "data = data.drop(data.index[data['text_reviews_count'] >= 20000])"
   ]
  },
  {
   "cell_type": "code",
   "execution_count": 30,
   "metadata": {},
   "outputs": [
    {
     "data": {
      "text/plain": [
       "(9700, 12)"
      ]
     },
     "execution_count": 30,
     "metadata": {},
     "output_type": "execute_result"
    }
   ],
   "source": [
    "data.shape"
   ]
  },
  {
   "cell_type": "markdown",
   "metadata": {},
   "source": [
    "### 2. Feature Engineering"
   ]
  },
  {
   "cell_type": "markdown",
   "metadata": {},
   "source": [
    "#### language_code:"
   ]
  },
  {
   "cell_type": "markdown",
   "metadata": {},
   "source": [
    "First we unify all the english language, and then we convert it into ordinal integers"
   ]
  },
  {
   "cell_type": "code",
   "execution_count": 31,
   "metadata": {},
   "outputs": [],
   "source": [
    "from sklearn.preprocessing import OrdinalEncoder\n",
    "\n",
    "encoding = {'language_code':{'en-US': 'eng', 'en-GB': 'eng', 'en-CA': 'eng'}} \n",
    "data.replace(encoding, inplace=True)\n",
    "\n",
    "enc = OrdinalEncoder()\n",
    "enc.fit(data[['language_code']])\n",
    "data[['language_code']] = enc.fit_transform(data[['language_code']]) "
   ]
  },
  {
   "cell_type": "markdown",
   "metadata": {},
   "source": [
    "#### publication_date:"
   ]
  },
  {
   "cell_type": "markdown",
   "metadata": {},
   "source": [
    "Then we convert data type of publication_date from object into date type"
   ]
  },
  {
   "cell_type": "code",
   "execution_count": 32,
   "metadata": {},
   "outputs": [],
   "source": [
    "data['publication_date'] = pd.to_datetime(data['publication_date'], format='%m/%d/%Y', errors='coerce') "
   ]
  },
  {
   "cell_type": "code",
   "execution_count": 33,
   "metadata": {},
   "outputs": [
    {
     "data": {
      "text/html": [
       "<div>\n",
       "<style scoped>\n",
       "    .dataframe tbody tr th:only-of-type {\n",
       "        vertical-align: middle;\n",
       "    }\n",
       "\n",
       "    .dataframe tbody tr th {\n",
       "        vertical-align: top;\n",
       "    }\n",
       "\n",
       "    .dataframe thead th {\n",
       "        text-align: right;\n",
       "    }\n",
       "</style>\n",
       "<table border=\"1\" class=\"dataframe\">\n",
       "  <thead>\n",
       "    <tr style=\"text-align: right;\">\n",
       "      <th></th>\n",
       "      <th>bookID</th>\n",
       "      <th>title</th>\n",
       "      <th>authors</th>\n",
       "      <th>average_rating</th>\n",
       "      <th>isbn</th>\n",
       "      <th>isbn13</th>\n",
       "      <th>language_code</th>\n",
       "      <th>num_pages</th>\n",
       "      <th>ratings_count</th>\n",
       "      <th>text_reviews_count</th>\n",
       "      <th>publication_date</th>\n",
       "      <th>publisher</th>\n",
       "    </tr>\n",
       "  </thead>\n",
       "  <tbody>\n",
       "    <tr>\n",
       "      <th>0</th>\n",
       "      <td>8253</td>\n",
       "      <td>Little Town on the Prairie  (Little House  #7)</td>\n",
       "      <td>Laura Ingalls Wilder/Garth Williams</td>\n",
       "      <td>4.19</td>\n",
       "      <td>0060885432</td>\n",
       "      <td>9780060885434</td>\n",
       "      <td>1.0</td>\n",
       "      <td>374</td>\n",
       "      <td>71853</td>\n",
       "      <td>646</td>\n",
       "      <td>2007-01-01</td>\n",
       "      <td>HarperTrophy</td>\n",
       "    </tr>\n",
       "    <tr>\n",
       "      <th>1</th>\n",
       "      <td>11101</td>\n",
       "      <td>First Comes Love (Hot Water  California #1)</td>\n",
       "      <td>Christie Ridgway</td>\n",
       "      <td>3.81</td>\n",
       "      <td>0380818957</td>\n",
       "      <td>9780380818952</td>\n",
       "      <td>1.0</td>\n",
       "      <td>384</td>\n",
       "      <td>1051</td>\n",
       "      <td>47</td>\n",
       "      <td>2002-01-01</td>\n",
       "      <td>Avon Books</td>\n",
       "    </tr>\n",
       "    <tr>\n",
       "      <th>2</th>\n",
       "      <td>28193</td>\n",
       "      <td>When Santa Fell to Earth</td>\n",
       "      <td>Cornelia Funke/Paul   Howard/Oliver G. Latsch</td>\n",
       "      <td>3.76</td>\n",
       "      <td>043978204X</td>\n",
       "      <td>9780439782043</td>\n",
       "      <td>1.0</td>\n",
       "      <td>167</td>\n",
       "      <td>1840</td>\n",
       "      <td>245</td>\n",
       "      <td>2006-10-01</td>\n",
       "      <td>Chicken House / Scholastic</td>\n",
       "    </tr>\n",
       "    <tr>\n",
       "      <th>3</th>\n",
       "      <td>25047</td>\n",
       "      <td>The Case of the Stinky Science Project (Jigsaw...</td>\n",
       "      <td>James Preller/John Speirs/James Preller</td>\n",
       "      <td>3.83</td>\n",
       "      <td>0439114284</td>\n",
       "      <td>9780439114288</td>\n",
       "      <td>1.0</td>\n",
       "      <td>80</td>\n",
       "      <td>162</td>\n",
       "      <td>11</td>\n",
       "      <td>2001-03-01</td>\n",
       "      <td>Scholastic Paperbacks</td>\n",
       "    </tr>\n",
       "    <tr>\n",
       "      <th>4</th>\n",
       "      <td>17800</td>\n",
       "      <td>Dance Dance Dance</td>\n",
       "      <td>Haruki Murakami</td>\n",
       "      <td>4.04</td>\n",
       "      <td>0099448769</td>\n",
       "      <td>9780099448761</td>\n",
       "      <td>1.0</td>\n",
       "      <td>393</td>\n",
       "      <td>50169</td>\n",
       "      <td>2117</td>\n",
       "      <td>2002-02-07</td>\n",
       "      <td>Vintage</td>\n",
       "    </tr>\n",
       "  </tbody>\n",
       "</table>\n",
       "</div>"
      ],
      "text/plain": [
       "   bookID                                              title  \\\n",
       "0    8253     Little Town on the Prairie  (Little House  #7)   \n",
       "1   11101        First Comes Love (Hot Water  California #1)   \n",
       "2   28193                           When Santa Fell to Earth   \n",
       "3   25047  The Case of the Stinky Science Project (Jigsaw...   \n",
       "4   17800                                  Dance Dance Dance   \n",
       "\n",
       "                                         authors  average_rating        isbn  \\\n",
       "0            Laura Ingalls Wilder/Garth Williams            4.19  0060885432   \n",
       "1                               Christie Ridgway            3.81  0380818957   \n",
       "2  Cornelia Funke/Paul   Howard/Oliver G. Latsch            3.76  043978204X   \n",
       "3        James Preller/John Speirs/James Preller            3.83  0439114284   \n",
       "4                                Haruki Murakami            4.04  0099448769   \n",
       "\n",
       "          isbn13  language_code  num_pages  ratings_count  text_reviews_count  \\\n",
       "0  9780060885434            1.0        374          71853                 646   \n",
       "1  9780380818952            1.0        384           1051                  47   \n",
       "2  9780439782043            1.0        167           1840                 245   \n",
       "3  9780439114288            1.0         80            162                  11   \n",
       "4  9780099448761            1.0        393          50169                2117   \n",
       "\n",
       "  publication_date                   publisher  \n",
       "0       2007-01-01                HarperTrophy  \n",
       "1       2002-01-01                  Avon Books  \n",
       "2       2006-10-01  Chicken House / Scholastic  \n",
       "3       2001-03-01       Scholastic Paperbacks  \n",
       "4       2002-02-07                     Vintage  "
      ]
     },
     "execution_count": 33,
     "metadata": {},
     "output_type": "execute_result"
    }
   ],
   "source": [
    "data.head()"
   ]
  },
  {
   "cell_type": "markdown",
   "metadata": {},
   "source": [
    "and check if there is null in this feature(publication_date)"
   ]
  },
  {
   "cell_type": "code",
   "execution_count": 34,
   "metadata": {},
   "outputs": [
    {
     "data": {
      "text/html": [
       "<div>\n",
       "<style scoped>\n",
       "    .dataframe tbody tr th:only-of-type {\n",
       "        vertical-align: middle;\n",
       "    }\n",
       "\n",
       "    .dataframe tbody tr th {\n",
       "        vertical-align: top;\n",
       "    }\n",
       "\n",
       "    .dataframe thead th {\n",
       "        text-align: right;\n",
       "    }\n",
       "</style>\n",
       "<table border=\"1\" class=\"dataframe\">\n",
       "  <thead>\n",
       "    <tr style=\"text-align: right;\">\n",
       "      <th></th>\n",
       "      <th>bookID</th>\n",
       "      <th>title</th>\n",
       "      <th>authors</th>\n",
       "      <th>average_rating</th>\n",
       "      <th>isbn</th>\n",
       "      <th>isbn13</th>\n",
       "      <th>language_code</th>\n",
       "      <th>num_pages</th>\n",
       "      <th>ratings_count</th>\n",
       "      <th>text_reviews_count</th>\n",
       "      <th>publication_date</th>\n",
       "      <th>publisher</th>\n",
       "    </tr>\n",
       "  </thead>\n",
       "  <tbody>\n",
       "    <tr>\n",
       "      <th>4872</th>\n",
       "      <td>45531</td>\n",
       "      <td>Montaillou  village occitan de 1294 à 1324</td>\n",
       "      <td>Emmanuel Le Roy Ladurie/Emmanuel Le Roy-Ladurie</td>\n",
       "      <td>3.96</td>\n",
       "      <td>2070323285</td>\n",
       "      <td>9782070323289</td>\n",
       "      <td>3.0</td>\n",
       "      <td>640</td>\n",
       "      <td>15</td>\n",
       "      <td>2</td>\n",
       "      <td>NaT</td>\n",
       "      <td>Folio histoire</td>\n",
       "    </tr>\n",
       "    <tr>\n",
       "      <th>6457</th>\n",
       "      <td>31373</td>\n",
       "      <td>In Pursuit of the Proper Sinner (Inspector Lyn...</td>\n",
       "      <td>Elizabeth  George</td>\n",
       "      <td>4.10</td>\n",
       "      <td>0553575104</td>\n",
       "      <td>9780553575101</td>\n",
       "      <td>1.0</td>\n",
       "      <td>718</td>\n",
       "      <td>10608</td>\n",
       "      <td>295</td>\n",
       "      <td>NaT</td>\n",
       "      <td>Bantam Books</td>\n",
       "    </tr>\n",
       "  </tbody>\n",
       "</table>\n",
       "</div>"
      ],
      "text/plain": [
       "      bookID                                              title  \\\n",
       "4872   45531         Montaillou  village occitan de 1294 à 1324   \n",
       "6457   31373  In Pursuit of the Proper Sinner (Inspector Lyn...   \n",
       "\n",
       "                                              authors  average_rating  \\\n",
       "4872  Emmanuel Le Roy Ladurie/Emmanuel Le Roy-Ladurie            3.96   \n",
       "6457                                Elizabeth  George            4.10   \n",
       "\n",
       "            isbn         isbn13  language_code  num_pages  ratings_count  \\\n",
       "4872  2070323285  9782070323289            3.0        640             15   \n",
       "6457  0553575104  9780553575101            1.0        718          10608   \n",
       "\n",
       "      text_reviews_count publication_date       publisher  \n",
       "4872                   2              NaT  Folio histoire  \n",
       "6457                 295              NaT    Bantam Books  "
      ]
     },
     "execution_count": 34,
     "metadata": {},
     "output_type": "execute_result"
    }
   ],
   "source": [
    "data[data['publication_date'].isnull()]"
   ]
  },
  {
   "cell_type": "markdown",
   "metadata": {},
   "source": [
    "Since there are only 2 books with null values in publication_date, we simply drop them."
   ]
  },
  {
   "cell_type": "code",
   "execution_count": 35,
   "metadata": {},
   "outputs": [
    {
     "data": {
      "text/plain": [
       "(9700, 12)"
      ]
     },
     "execution_count": 35,
     "metadata": {},
     "output_type": "execute_result"
    }
   ],
   "source": [
    "data.shape"
   ]
  },
  {
   "cell_type": "code",
   "execution_count": 36,
   "metadata": {},
   "outputs": [],
   "source": [
    "data.dropna(how = 'any',inplace =True)"
   ]
  },
  {
   "cell_type": "markdown",
   "metadata": {},
   "source": [
    "check again"
   ]
  },
  {
   "cell_type": "code",
   "execution_count": 37,
   "metadata": {},
   "outputs": [
    {
     "data": {
      "text/html": [
       "<div>\n",
       "<style scoped>\n",
       "    .dataframe tbody tr th:only-of-type {\n",
       "        vertical-align: middle;\n",
       "    }\n",
       "\n",
       "    .dataframe tbody tr th {\n",
       "        vertical-align: top;\n",
       "    }\n",
       "\n",
       "    .dataframe thead th {\n",
       "        text-align: right;\n",
       "    }\n",
       "</style>\n",
       "<table border=\"1\" class=\"dataframe\">\n",
       "  <thead>\n",
       "    <tr style=\"text-align: right;\">\n",
       "      <th></th>\n",
       "      <th>bookID</th>\n",
       "      <th>title</th>\n",
       "      <th>authors</th>\n",
       "      <th>average_rating</th>\n",
       "      <th>isbn</th>\n",
       "      <th>isbn13</th>\n",
       "      <th>language_code</th>\n",
       "      <th>num_pages</th>\n",
       "      <th>ratings_count</th>\n",
       "      <th>text_reviews_count</th>\n",
       "      <th>publication_date</th>\n",
       "      <th>publisher</th>\n",
       "    </tr>\n",
       "  </thead>\n",
       "  <tbody>\n",
       "  </tbody>\n",
       "</table>\n",
       "</div>"
      ],
      "text/plain": [
       "Empty DataFrame\n",
       "Columns: [bookID, title, authors, average_rating, isbn, isbn13, language_code, num_pages, ratings_count, text_reviews_count, publication_date, publisher]\n",
       "Index: []"
      ]
     },
     "execution_count": 37,
     "metadata": {},
     "output_type": "execute_result"
    }
   ],
   "source": [
    "data[data['publication_date'].isnull()]"
   ]
  },
  {
   "cell_type": "markdown",
   "metadata": {},
   "source": [
    "Then we extract 'year','month' and 'day' respectively to three new features"
   ]
  },
  {
   "cell_type": "code",
   "execution_count": 38,
   "metadata": {},
   "outputs": [],
   "source": [
    "data['year'] = pd.DatetimeIndex(data['publication_date']).year"
   ]
  },
  {
   "cell_type": "code",
   "execution_count": 39,
   "metadata": {},
   "outputs": [],
   "source": [
    "data['month'] = pd.DatetimeIndex(data['publication_date']).month "
   ]
  },
  {
   "cell_type": "code",
   "execution_count": 40,
   "metadata": {},
   "outputs": [],
   "source": [
    "data['day'] = pd.DatetimeIndex(data['publication_date']).day"
   ]
  },
  {
   "cell_type": "code",
   "execution_count": 41,
   "metadata": {},
   "outputs": [
    {
     "data": {
      "text/html": [
       "<div>\n",
       "<style scoped>\n",
       "    .dataframe tbody tr th:only-of-type {\n",
       "        vertical-align: middle;\n",
       "    }\n",
       "\n",
       "    .dataframe tbody tr th {\n",
       "        vertical-align: top;\n",
       "    }\n",
       "\n",
       "    .dataframe thead th {\n",
       "        text-align: right;\n",
       "    }\n",
       "</style>\n",
       "<table border=\"1\" class=\"dataframe\">\n",
       "  <thead>\n",
       "    <tr style=\"text-align: right;\">\n",
       "      <th></th>\n",
       "      <th>bookID</th>\n",
       "      <th>title</th>\n",
       "      <th>authors</th>\n",
       "      <th>average_rating</th>\n",
       "      <th>isbn</th>\n",
       "      <th>isbn13</th>\n",
       "      <th>language_code</th>\n",
       "      <th>num_pages</th>\n",
       "      <th>ratings_count</th>\n",
       "      <th>text_reviews_count</th>\n",
       "      <th>publication_date</th>\n",
       "      <th>publisher</th>\n",
       "      <th>year</th>\n",
       "      <th>month</th>\n",
       "      <th>day</th>\n",
       "    </tr>\n",
       "  </thead>\n",
       "  <tbody>\n",
       "    <tr>\n",
       "      <th>0</th>\n",
       "      <td>8253</td>\n",
       "      <td>Little Town on the Prairie  (Little House  #7)</td>\n",
       "      <td>Laura Ingalls Wilder/Garth Williams</td>\n",
       "      <td>4.19</td>\n",
       "      <td>0060885432</td>\n",
       "      <td>9780060885434</td>\n",
       "      <td>1.0</td>\n",
       "      <td>374</td>\n",
       "      <td>71853</td>\n",
       "      <td>646</td>\n",
       "      <td>2007-01-01</td>\n",
       "      <td>HarperTrophy</td>\n",
       "      <td>2007</td>\n",
       "      <td>1</td>\n",
       "      <td>1</td>\n",
       "    </tr>\n",
       "    <tr>\n",
       "      <th>1</th>\n",
       "      <td>11101</td>\n",
       "      <td>First Comes Love (Hot Water  California #1)</td>\n",
       "      <td>Christie Ridgway</td>\n",
       "      <td>3.81</td>\n",
       "      <td>0380818957</td>\n",
       "      <td>9780380818952</td>\n",
       "      <td>1.0</td>\n",
       "      <td>384</td>\n",
       "      <td>1051</td>\n",
       "      <td>47</td>\n",
       "      <td>2002-01-01</td>\n",
       "      <td>Avon Books</td>\n",
       "      <td>2002</td>\n",
       "      <td>1</td>\n",
       "      <td>1</td>\n",
       "    </tr>\n",
       "    <tr>\n",
       "      <th>2</th>\n",
       "      <td>28193</td>\n",
       "      <td>When Santa Fell to Earth</td>\n",
       "      <td>Cornelia Funke/Paul   Howard/Oliver G. Latsch</td>\n",
       "      <td>3.76</td>\n",
       "      <td>043978204X</td>\n",
       "      <td>9780439782043</td>\n",
       "      <td>1.0</td>\n",
       "      <td>167</td>\n",
       "      <td>1840</td>\n",
       "      <td>245</td>\n",
       "      <td>2006-10-01</td>\n",
       "      <td>Chicken House / Scholastic</td>\n",
       "      <td>2006</td>\n",
       "      <td>10</td>\n",
       "      <td>1</td>\n",
       "    </tr>\n",
       "    <tr>\n",
       "      <th>3</th>\n",
       "      <td>25047</td>\n",
       "      <td>The Case of the Stinky Science Project (Jigsaw...</td>\n",
       "      <td>James Preller/John Speirs/James Preller</td>\n",
       "      <td>3.83</td>\n",
       "      <td>0439114284</td>\n",
       "      <td>9780439114288</td>\n",
       "      <td>1.0</td>\n",
       "      <td>80</td>\n",
       "      <td>162</td>\n",
       "      <td>11</td>\n",
       "      <td>2001-03-01</td>\n",
       "      <td>Scholastic Paperbacks</td>\n",
       "      <td>2001</td>\n",
       "      <td>3</td>\n",
       "      <td>1</td>\n",
       "    </tr>\n",
       "    <tr>\n",
       "      <th>4</th>\n",
       "      <td>17800</td>\n",
       "      <td>Dance Dance Dance</td>\n",
       "      <td>Haruki Murakami</td>\n",
       "      <td>4.04</td>\n",
       "      <td>0099448769</td>\n",
       "      <td>9780099448761</td>\n",
       "      <td>1.0</td>\n",
       "      <td>393</td>\n",
       "      <td>50169</td>\n",
       "      <td>2117</td>\n",
       "      <td>2002-02-07</td>\n",
       "      <td>Vintage</td>\n",
       "      <td>2002</td>\n",
       "      <td>2</td>\n",
       "      <td>7</td>\n",
       "    </tr>\n",
       "  </tbody>\n",
       "</table>\n",
       "</div>"
      ],
      "text/plain": [
       "   bookID                                              title  \\\n",
       "0    8253     Little Town on the Prairie  (Little House  #7)   \n",
       "1   11101        First Comes Love (Hot Water  California #1)   \n",
       "2   28193                           When Santa Fell to Earth   \n",
       "3   25047  The Case of the Stinky Science Project (Jigsaw...   \n",
       "4   17800                                  Dance Dance Dance   \n",
       "\n",
       "                                         authors  average_rating        isbn  \\\n",
       "0            Laura Ingalls Wilder/Garth Williams            4.19  0060885432   \n",
       "1                               Christie Ridgway            3.81  0380818957   \n",
       "2  Cornelia Funke/Paul   Howard/Oliver G. Latsch            3.76  043978204X   \n",
       "3        James Preller/John Speirs/James Preller            3.83  0439114284   \n",
       "4                                Haruki Murakami            4.04  0099448769   \n",
       "\n",
       "          isbn13  language_code  num_pages  ratings_count  text_reviews_count  \\\n",
       "0  9780060885434            1.0        374          71853                 646   \n",
       "1  9780380818952            1.0        384           1051                  47   \n",
       "2  9780439782043            1.0        167           1840                 245   \n",
       "3  9780439114288            1.0         80            162                  11   \n",
       "4  9780099448761            1.0        393          50169                2117   \n",
       "\n",
       "  publication_date                   publisher  year  month  day  \n",
       "0       2007-01-01                HarperTrophy  2007      1    1  \n",
       "1       2002-01-01                  Avon Books  2002      1    1  \n",
       "2       2006-10-01  Chicken House / Scholastic  2006     10    1  \n",
       "3       2001-03-01       Scholastic Paperbacks  2001      3    1  \n",
       "4       2002-02-07                     Vintage  2002      2    7  "
      ]
     },
     "execution_count": 41,
     "metadata": {},
     "output_type": "execute_result"
    }
   ],
   "source": [
    "data.head()"
   ]
  },
  {
   "cell_type": "markdown",
   "metadata": {},
   "source": [
    "#### title:"
   ]
  },
  {
   "cell_type": "markdown",
   "metadata": {},
   "source": [
    "By adding a new feature named num_occ, which means the occurrence of each title, we can check if there are some duplicate books title."
   ]
  },
  {
   "cell_type": "code",
   "execution_count": 42,
   "metadata": {},
   "outputs": [],
   "source": [
    "data['num_occ'] = data.groupby('title')['title'].transform('count')"
   ]
  },
  {
   "cell_type": "code",
   "execution_count": 43,
   "metadata": {},
   "outputs": [
    {
     "data": {
      "text/html": [
       "<div>\n",
       "<style scoped>\n",
       "    .dataframe tbody tr th:only-of-type {\n",
       "        vertical-align: middle;\n",
       "    }\n",
       "\n",
       "    .dataframe tbody tr th {\n",
       "        vertical-align: top;\n",
       "    }\n",
       "\n",
       "    .dataframe thead th {\n",
       "        text-align: right;\n",
       "    }\n",
       "</style>\n",
       "<table border=\"1\" class=\"dataframe\">\n",
       "  <thead>\n",
       "    <tr style=\"text-align: right;\">\n",
       "      <th></th>\n",
       "      <th>bookID</th>\n",
       "      <th>title</th>\n",
       "      <th>authors</th>\n",
       "      <th>average_rating</th>\n",
       "      <th>isbn</th>\n",
       "      <th>isbn13</th>\n",
       "      <th>language_code</th>\n",
       "      <th>num_pages</th>\n",
       "      <th>ratings_count</th>\n",
       "      <th>text_reviews_count</th>\n",
       "      <th>publication_date</th>\n",
       "      <th>publisher</th>\n",
       "      <th>year</th>\n",
       "      <th>month</th>\n",
       "      <th>day</th>\n",
       "      <th>num_occ</th>\n",
       "    </tr>\n",
       "  </thead>\n",
       "  <tbody>\n",
       "    <tr>\n",
       "      <th>8</th>\n",
       "      <td>37387</td>\n",
       "      <td>The Prime of Miss Jean Brodie / The Girls of S...</td>\n",
       "      <td>Muriel Spark</td>\n",
       "      <td>3.79</td>\n",
       "      <td>1857152743</td>\n",
       "      <td>9781857152746</td>\n",
       "      <td>1.0</td>\n",
       "      <td>512</td>\n",
       "      <td>1477</td>\n",
       "      <td>90</td>\n",
       "      <td>2004-05-06</td>\n",
       "      <td>Random House</td>\n",
       "      <td>2004</td>\n",
       "      <td>5</td>\n",
       "      <td>6</td>\n",
       "      <td>2</td>\n",
       "    </tr>\n",
       "    <tr>\n",
       "      <th>18</th>\n",
       "      <td>4888</td>\n",
       "      <td>The Drama of the Gifted Child: The Search for ...</td>\n",
       "      <td>Alice   Miller</td>\n",
       "      <td>4.09</td>\n",
       "      <td>046501691X</td>\n",
       "      <td>9780465016914</td>\n",
       "      <td>1.0</td>\n",
       "      <td>118</td>\n",
       "      <td>97</td>\n",
       "      <td>10</td>\n",
       "      <td>1983-06-01</td>\n",
       "      <td>Basic Books</td>\n",
       "      <td>1983</td>\n",
       "      <td>6</td>\n",
       "      <td>1</td>\n",
       "      <td>2</td>\n",
       "    </tr>\n",
       "    <tr>\n",
       "      <th>31</th>\n",
       "      <td>1823</td>\n",
       "      <td>Them: Adventures with Extremists</td>\n",
       "      <td>Jon Ronson</td>\n",
       "      <td>3.95</td>\n",
       "      <td>0743233212</td>\n",
       "      <td>9780743233217</td>\n",
       "      <td>1.0</td>\n",
       "      <td>336</td>\n",
       "      <td>11990</td>\n",
       "      <td>831</td>\n",
       "      <td>2003-01-07</td>\n",
       "      <td>Simon  Schuster</td>\n",
       "      <td>2003</td>\n",
       "      <td>1</td>\n",
       "      <td>7</td>\n",
       "      <td>2</td>\n",
       "    </tr>\n",
       "    <tr>\n",
       "      <th>45</th>\n",
       "      <td>32656</td>\n",
       "      <td>The Return of the Native</td>\n",
       "      <td>Thomas Hardy/Phillip Mallett</td>\n",
       "      <td>3.86</td>\n",
       "      <td>0393927873</td>\n",
       "      <td>9780393927870</td>\n",
       "      <td>1.0</td>\n",
       "      <td>552</td>\n",
       "      <td>44</td>\n",
       "      <td>5</td>\n",
       "      <td>2006-02-14</td>\n",
       "      <td>W. W. Norton &amp; Company</td>\n",
       "      <td>2006</td>\n",
       "      <td>2</td>\n",
       "      <td>14</td>\n",
       "      <td>2</td>\n",
       "    </tr>\n",
       "    <tr>\n",
       "      <th>55</th>\n",
       "      <td>23802</td>\n",
       "      <td>Bargaining for Advantage: Negotiation Strategi...</td>\n",
       "      <td>G. Richard Shell</td>\n",
       "      <td>3.95</td>\n",
       "      <td>0140281916</td>\n",
       "      <td>9780140281910</td>\n",
       "      <td>1.0</td>\n",
       "      <td>304</td>\n",
       "      <td>37</td>\n",
       "      <td>1</td>\n",
       "      <td>2000-06-01</td>\n",
       "      <td>Penguin Books</td>\n",
       "      <td>2000</td>\n",
       "      <td>6</td>\n",
       "      <td>1</td>\n",
       "      <td>2</td>\n",
       "    </tr>\n",
       "    <tr>\n",
       "      <th>...</th>\n",
       "      <td>...</td>\n",
       "      <td>...</td>\n",
       "      <td>...</td>\n",
       "      <td>...</td>\n",
       "      <td>...</td>\n",
       "      <td>...</td>\n",
       "      <td>...</td>\n",
       "      <td>...</td>\n",
       "      <td>...</td>\n",
       "      <td>...</td>\n",
       "      <td>...</td>\n",
       "      <td>...</td>\n",
       "      <td>...</td>\n",
       "      <td>...</td>\n",
       "      <td>...</td>\n",
       "      <td>...</td>\n",
       "    </tr>\n",
       "    <tr>\n",
       "      <th>9981</th>\n",
       "      <td>6388</td>\n",
       "      <td>The Da Vinci Code (Robert Langdon  #2)</td>\n",
       "      <td>Dan Brown</td>\n",
       "      <td>3.84</td>\n",
       "      <td>0385504217</td>\n",
       "      <td>9780385504218</td>\n",
       "      <td>1.0</td>\n",
       "      <td>522</td>\n",
       "      <td>2780</td>\n",
       "      <td>334</td>\n",
       "      <td>2003-03-18</td>\n",
       "      <td>Doubleday Publishing (NY)</td>\n",
       "      <td>2003</td>\n",
       "      <td>3</td>\n",
       "      <td>18</td>\n",
       "      <td>3</td>\n",
       "    </tr>\n",
       "    <tr>\n",
       "      <th>9982</th>\n",
       "      <td>30289</td>\n",
       "      <td>The Republic</td>\n",
       "      <td>Plato/Desmond Lee/Maria Helena da Rocha Pereir...</td>\n",
       "      <td>3.94</td>\n",
       "      <td>0140449140</td>\n",
       "      <td>9780140449143</td>\n",
       "      <td>1.0</td>\n",
       "      <td>416</td>\n",
       "      <td>136467</td>\n",
       "      <td>2013</td>\n",
       "      <td>2003-02-25</td>\n",
       "      <td>Penguin Classics</td>\n",
       "      <td>2003</td>\n",
       "      <td>2</td>\n",
       "      <td>25</td>\n",
       "      <td>2</td>\n",
       "    </tr>\n",
       "    <tr>\n",
       "      <th>9989</th>\n",
       "      <td>42029</td>\n",
       "      <td>Girls' Night In</td>\n",
       "      <td>Jessica Adams/Chris Manby/Fiona Walker</td>\n",
       "      <td>3.26</td>\n",
       "      <td>0006514855</td>\n",
       "      <td>9780006514855</td>\n",
       "      <td>1.0</td>\n",
       "      <td>586</td>\n",
       "      <td>140</td>\n",
       "      <td>11</td>\n",
       "      <td>2000-07-03</td>\n",
       "      <td>HarperCollins</td>\n",
       "      <td>2000</td>\n",
       "      <td>7</td>\n",
       "      <td>3</td>\n",
       "      <td>2</td>\n",
       "    </tr>\n",
       "    <tr>\n",
       "      <th>9991</th>\n",
       "      <td>15688</td>\n",
       "      <td>L'Étranger</td>\n",
       "      <td>Albert Camus</td>\n",
       "      <td>3.98</td>\n",
       "      <td>2070360024</td>\n",
       "      <td>9782070360024</td>\n",
       "      <td>3.0</td>\n",
       "      <td>184</td>\n",
       "      <td>13454</td>\n",
       "      <td>765</td>\n",
       "      <td>2000-03-02</td>\n",
       "      <td>Gallimard</td>\n",
       "      <td>2000</td>\n",
       "      <td>3</td>\n",
       "      <td>2</td>\n",
       "      <td>2</td>\n",
       "    </tr>\n",
       "    <tr>\n",
       "      <th>9994</th>\n",
       "      <td>14281</td>\n",
       "      <td>Selected Stories</td>\n",
       "      <td>Alice Munro</td>\n",
       "      <td>4.28</td>\n",
       "      <td>067976674X</td>\n",
       "      <td>9780679766742</td>\n",
       "      <td>1.0</td>\n",
       "      <td>688</td>\n",
       "      <td>5749</td>\n",
       "      <td>285</td>\n",
       "      <td>1997-11-11</td>\n",
       "      <td>Vintage</td>\n",
       "      <td>1997</td>\n",
       "      <td>11</td>\n",
       "      <td>11</td>\n",
       "      <td>2</td>\n",
       "    </tr>\n",
       "  </tbody>\n",
       "</table>\n",
       "<p>1004 rows × 16 columns</p>\n",
       "</div>"
      ],
      "text/plain": [
       "      bookID                                              title  \\\n",
       "8      37387  The Prime of Miss Jean Brodie / The Girls of S...   \n",
       "18      4888  The Drama of the Gifted Child: The Search for ...   \n",
       "31      1823                   Them: Adventures with Extremists   \n",
       "45     32656                           The Return of the Native   \n",
       "55     23802  Bargaining for Advantage: Negotiation Strategi...   \n",
       "...      ...                                                ...   \n",
       "9981    6388             The Da Vinci Code (Robert Langdon  #2)   \n",
       "9982   30289                                       The Republic   \n",
       "9989   42029                                    Girls' Night In   \n",
       "9991   15688                                         L'Étranger   \n",
       "9994   14281                                   Selected Stories   \n",
       "\n",
       "                                                authors  average_rating  \\\n",
       "8                                          Muriel Spark            3.79   \n",
       "18                                       Alice   Miller            4.09   \n",
       "31                                           Jon Ronson            3.95   \n",
       "45                         Thomas Hardy/Phillip Mallett            3.86   \n",
       "55                                     G. Richard Shell            3.95   \n",
       "...                                                 ...             ...   \n",
       "9981                                          Dan Brown            3.84   \n",
       "9982  Plato/Desmond Lee/Maria Helena da Rocha Pereir...            3.94   \n",
       "9989             Jessica Adams/Chris Manby/Fiona Walker            3.26   \n",
       "9991                                       Albert Camus            3.98   \n",
       "9994                                        Alice Munro            4.28   \n",
       "\n",
       "            isbn         isbn13  language_code  num_pages  ratings_count  \\\n",
       "8     1857152743  9781857152746            1.0        512           1477   \n",
       "18    046501691X  9780465016914            1.0        118             97   \n",
       "31    0743233212  9780743233217            1.0        336          11990   \n",
       "45    0393927873  9780393927870            1.0        552             44   \n",
       "55    0140281916  9780140281910            1.0        304             37   \n",
       "...          ...            ...            ...        ...            ...   \n",
       "9981  0385504217  9780385504218            1.0        522           2780   \n",
       "9982  0140449140  9780140449143            1.0        416         136467   \n",
       "9989  0006514855  9780006514855            1.0        586            140   \n",
       "9991  2070360024  9782070360024            3.0        184          13454   \n",
       "9994  067976674X  9780679766742            1.0        688           5749   \n",
       "\n",
       "      text_reviews_count publication_date                  publisher  year  \\\n",
       "8                     90       2004-05-06               Random House  2004   \n",
       "18                    10       1983-06-01                Basic Books  1983   \n",
       "31                   831       2003-01-07            Simon  Schuster  2003   \n",
       "45                     5       2006-02-14     W. W. Norton & Company  2006   \n",
       "55                     1       2000-06-01              Penguin Books  2000   \n",
       "...                  ...              ...                        ...   ...   \n",
       "9981                 334       2003-03-18  Doubleday Publishing (NY)  2003   \n",
       "9982                2013       2003-02-25           Penguin Classics  2003   \n",
       "9989                  11       2000-07-03              HarperCollins  2000   \n",
       "9991                 765       2000-03-02                  Gallimard  2000   \n",
       "9994                 285       1997-11-11                    Vintage  1997   \n",
       "\n",
       "      month  day  num_occ  \n",
       "8         5    6        2  \n",
       "18        6    1        2  \n",
       "31        1    7        2  \n",
       "45        2   14        2  \n",
       "55        6    1        2  \n",
       "...     ...  ...      ...  \n",
       "9981      3   18        3  \n",
       "9982      2   25        2  \n",
       "9989      7    3        2  \n",
       "9991      3    2        2  \n",
       "9994     11   11        2  \n",
       "\n",
       "[1004 rows x 16 columns]"
      ]
     },
     "execution_count": 43,
     "metadata": {},
     "output_type": "execute_result"
    }
   ],
   "source": [
    "data[data[\"num_occ\"] > 1]"
   ]
  },
  {
   "cell_type": "markdown",
   "metadata": {},
   "source": [
    "We do the following processingg:\n",
    "1.For the pages number and average rating of each duplicate books, we take the average value of them.\n",
    "2.For the text reviews count and ratings count, we calculate the total value."
   ]
  },
  {
   "cell_type": "code",
   "execution_count": 44,
   "metadata": {},
   "outputs": [],
   "source": [
    "data['num_pages'] = data.groupby('title')['num_pages'].transform('mean')"
   ]
  },
  {
   "cell_type": "code",
   "execution_count": 45,
   "metadata": {},
   "outputs": [],
   "source": [
    "data['average_rating'] = data.groupby('title')['average_rating'].transform('mean')"
   ]
  },
  {
   "cell_type": "code",
   "execution_count": 46,
   "metadata": {},
   "outputs": [],
   "source": [
    "data['text_reviews_count'] = data.groupby('title')['text_reviews_count'].transform('sum') "
   ]
  },
  {
   "cell_type": "code",
   "execution_count": 47,
   "metadata": {},
   "outputs": [],
   "source": [
    "data['ratings_count'] = data.groupby('title')['ratings_count'].transform('sum')"
   ]
  },
  {
   "cell_type": "markdown",
   "metadata": {},
   "source": [
    "Then we eliminate the duplicate books, and delete the new feature we use to find the duplicated."
   ]
  },
  {
   "cell_type": "code",
   "execution_count": 48,
   "metadata": {},
   "outputs": [],
   "source": [
    "data= data[~data.duplicated(subset='title')] "
   ]
  },
  {
   "cell_type": "code",
   "execution_count": 49,
   "metadata": {},
   "outputs": [],
   "source": [
    "data.drop(['num_occ'], axis=1, inplace=True)"
   ]
  },
  {
   "cell_type": "code",
   "execution_count": 50,
   "metadata": {},
   "outputs": [
    {
     "data": {
      "text/plain": [
       "(9093, 15)"
      ]
     },
     "execution_count": 50,
     "metadata": {},
     "output_type": "execute_result"
    }
   ],
   "source": [
    "data.shape"
   ]
  },
  {
   "cell_type": "markdown",
   "metadata": {},
   "source": [
    "#### num_pages:"
   ]
  },
  {
   "cell_type": "markdown",
   "metadata": {},
   "source": [
    "We find the value of feature num_pages in some books is zero, we use mode to fill them."
   ]
  },
  {
   "cell_type": "code",
   "execution_count": 51,
   "metadata": {},
   "outputs": [
    {
     "data": {
      "text/html": [
       "<div>\n",
       "<style scoped>\n",
       "    .dataframe tbody tr th:only-of-type {\n",
       "        vertical-align: middle;\n",
       "    }\n",
       "\n",
       "    .dataframe tbody tr th {\n",
       "        vertical-align: top;\n",
       "    }\n",
       "\n",
       "    .dataframe thead th {\n",
       "        text-align: right;\n",
       "    }\n",
       "</style>\n",
       "<table border=\"1\" class=\"dataframe\">\n",
       "  <thead>\n",
       "    <tr style=\"text-align: right;\">\n",
       "      <th></th>\n",
       "      <th>bookID</th>\n",
       "      <th>title</th>\n",
       "      <th>authors</th>\n",
       "      <th>average_rating</th>\n",
       "      <th>isbn</th>\n",
       "      <th>isbn13</th>\n",
       "      <th>language_code</th>\n",
       "      <th>num_pages</th>\n",
       "      <th>ratings_count</th>\n",
       "      <th>text_reviews_count</th>\n",
       "      <th>publication_date</th>\n",
       "      <th>publisher</th>\n",
       "      <th>year</th>\n",
       "      <th>month</th>\n",
       "      <th>day</th>\n",
       "    </tr>\n",
       "  </thead>\n",
       "  <tbody>\n",
       "    <tr>\n",
       "      <th>278</th>\n",
       "      <td>22077</td>\n",
       "      <td>The Michael Crichton Collection: Jurassic Park...</td>\n",
       "      <td>Michael Crichton/Chris Noth/Anthony Heald</td>\n",
       "      <td>4.29</td>\n",
       "      <td>0375415807</td>\n",
       "      <td>9780375415807</td>\n",
       "      <td>1.0</td>\n",
       "      <td>0.0</td>\n",
       "      <td>107</td>\n",
       "      <td>3</td>\n",
       "      <td>2000-06-09</td>\n",
       "      <td>Random House Audio</td>\n",
       "      <td>2000</td>\n",
       "      <td>6</td>\n",
       "      <td>9</td>\n",
       "    </tr>\n",
       "    <tr>\n",
       "      <th>307</th>\n",
       "      <td>21365</td>\n",
       "      <td>From the Corner of His Eye</td>\n",
       "      <td>Dean Koontz/Stephen Lang</td>\n",
       "      <td>4.03</td>\n",
       "      <td>0553502697</td>\n",
       "      <td>9780553502695</td>\n",
       "      <td>1.0</td>\n",
       "      <td>0.0</td>\n",
       "      <td>29</td>\n",
       "      <td>3</td>\n",
       "      <td>2000-12-26</td>\n",
       "      <td>Random House Audio Publishing Group</td>\n",
       "      <td>2000</td>\n",
       "      <td>12</td>\n",
       "      <td>26</td>\n",
       "    </tr>\n",
       "    <tr>\n",
       "      <th>424</th>\n",
       "      <td>17766</td>\n",
       "      <td>Master and Commander (Aubrey/Maturin Book 1)</td>\n",
       "      <td>Patrick O'Brian</td>\n",
       "      <td>4.10</td>\n",
       "      <td>073931565X</td>\n",
       "      <td>9780739315651</td>\n",
       "      <td>1.0</td>\n",
       "      <td>0.0</td>\n",
       "      <td>1</td>\n",
       "      <td>0</td>\n",
       "      <td>2004-03-09</td>\n",
       "      <td>Random House Audio</td>\n",
       "      <td>2004</td>\n",
       "      <td>3</td>\n",
       "      <td>9</td>\n",
       "    </tr>\n",
       "    <tr>\n",
       "      <th>777</th>\n",
       "      <td>44748</td>\n",
       "      <td>The Mask of the Enchantress</td>\n",
       "      <td>Victoria Holt</td>\n",
       "      <td>3.85</td>\n",
       "      <td>0449210847</td>\n",
       "      <td>9780449210840</td>\n",
       "      <td>1.0</td>\n",
       "      <td>0.0</td>\n",
       "      <td>21</td>\n",
       "      <td>1</td>\n",
       "      <td>1981-10-12</td>\n",
       "      <td>Ivy Books</td>\n",
       "      <td>1981</td>\n",
       "      <td>10</td>\n",
       "      <td>12</td>\n",
       "    </tr>\n",
       "    <tr>\n",
       "      <th>779</th>\n",
       "      <td>13106</td>\n",
       "      <td>The Celestine Prophecy</td>\n",
       "      <td>James Redfield/Lou Diamond Phillips</td>\n",
       "      <td>3.64</td>\n",
       "      <td>1594831955</td>\n",
       "      <td>9781594831959</td>\n",
       "      <td>1.0</td>\n",
       "      <td>0.0</td>\n",
       "      <td>64</td>\n",
       "      <td>10</td>\n",
       "      <td>2006-02-16</td>\n",
       "      <td>Grand Central Publishing</td>\n",
       "      <td>2006</td>\n",
       "      <td>2</td>\n",
       "      <td>16</td>\n",
       "    </tr>\n",
       "    <tr>\n",
       "      <th>851</th>\n",
       "      <td>26327</td>\n",
       "      <td>The Power of Truth: A Leading with Emotional I...</td>\n",
       "      <td>Daniel Goleman/Warren Bennis</td>\n",
       "      <td>3.82</td>\n",
       "      <td>1593979746</td>\n",
       "      <td>9781593979744</td>\n",
       "      <td>1.0</td>\n",
       "      <td>0.0</td>\n",
       "      <td>11</td>\n",
       "      <td>2</td>\n",
       "      <td>2006-11-14</td>\n",
       "      <td>Macmillan Audio</td>\n",
       "      <td>2006</td>\n",
       "      <td>11</td>\n",
       "      <td>14</td>\n",
       "    </tr>\n",
       "    <tr>\n",
       "      <th>877</th>\n",
       "      <td>7674</td>\n",
       "      <td>The Michael Crichton Collection: Airframe / Th...</td>\n",
       "      <td>Michael Crichton/Stephen Lang/Anthony Heald/Bl...</td>\n",
       "      <td>4.16</td>\n",
       "      <td>0739340336</td>\n",
       "      <td>9780739340332</td>\n",
       "      <td>1.0</td>\n",
       "      <td>0.0</td>\n",
       "      <td>267</td>\n",
       "      <td>7</td>\n",
       "      <td>2006-08-29</td>\n",
       "      <td>Random House Audio</td>\n",
       "      <td>2006</td>\n",
       "      <td>8</td>\n",
       "      <td>29</td>\n",
       "    </tr>\n",
       "    <tr>\n",
       "      <th>1034</th>\n",
       "      <td>35735</td>\n",
       "      <td>The Silmarillion  Volume 3</td>\n",
       "      <td>J.R.R. Tolkien/Martin Shaw</td>\n",
       "      <td>4.19</td>\n",
       "      <td>0553525026</td>\n",
       "      <td>9780553525021</td>\n",
       "      <td>1.0</td>\n",
       "      <td>0.0</td>\n",
       "      <td>60</td>\n",
       "      <td>4</td>\n",
       "      <td>1998-09-01</td>\n",
       "      <td>Random House Audio</td>\n",
       "      <td>1998</td>\n",
       "      <td>9</td>\n",
       "      <td>1</td>\n",
       "    </tr>\n",
       "    <tr>\n",
       "      <th>1369</th>\n",
       "      <td>21933</td>\n",
       "      <td>Point Of Impact (Bob Lee Swagger  #1)</td>\n",
       "      <td>Stephen Hunter/Beau Bridges</td>\n",
       "      <td>4.27</td>\n",
       "      <td>0739344242</td>\n",
       "      <td>9780739344248</td>\n",
       "      <td>1.0</td>\n",
       "      <td>0.0</td>\n",
       "      <td>15</td>\n",
       "      <td>1</td>\n",
       "      <td>2007-01-09</td>\n",
       "      <td>RH Audio</td>\n",
       "      <td>2007</td>\n",
       "      <td>1</td>\n",
       "      <td>9</td>\n",
       "    </tr>\n",
       "    <tr>\n",
       "      <th>1647</th>\n",
       "      <td>8889</td>\n",
       "      <td>Return to the Planet of the Apes #2: Escape fr...</td>\n",
       "      <td>William Arrow</td>\n",
       "      <td>3.00</td>\n",
       "      <td>0345251679</td>\n",
       "      <td>9780345251671</td>\n",
       "      <td>1.0</td>\n",
       "      <td>0.0</td>\n",
       "      <td>10</td>\n",
       "      <td>2</td>\n",
       "      <td>1976-04-12</td>\n",
       "      <td>Ballantine Books</td>\n",
       "      <td>1976</td>\n",
       "      <td>4</td>\n",
       "      <td>12</td>\n",
       "    </tr>\n",
       "  </tbody>\n",
       "</table>\n",
       "</div>"
      ],
      "text/plain": [
       "      bookID                                              title  \\\n",
       "278    22077  The Michael Crichton Collection: Jurassic Park...   \n",
       "307    21365                         From the Corner of His Eye   \n",
       "424    17766       Master and Commander (Aubrey/Maturin Book 1)   \n",
       "777    44748                        The Mask of the Enchantress   \n",
       "779    13106                             The Celestine Prophecy   \n",
       "851    26327  The Power of Truth: A Leading with Emotional I...   \n",
       "877     7674  The Michael Crichton Collection: Airframe / Th...   \n",
       "1034   35735                         The Silmarillion  Volume 3   \n",
       "1369   21933              Point Of Impact (Bob Lee Swagger  #1)   \n",
       "1647    8889  Return to the Planet of the Apes #2: Escape fr...   \n",
       "\n",
       "                                                authors  average_rating  \\\n",
       "278           Michael Crichton/Chris Noth/Anthony Heald            4.29   \n",
       "307                            Dean Koontz/Stephen Lang            4.03   \n",
       "424                                     Patrick O'Brian            4.10   \n",
       "777                                       Victoria Holt            3.85   \n",
       "779                 James Redfield/Lou Diamond Phillips            3.64   \n",
       "851                        Daniel Goleman/Warren Bennis            3.82   \n",
       "877   Michael Crichton/Stephen Lang/Anthony Heald/Bl...            4.16   \n",
       "1034                         J.R.R. Tolkien/Martin Shaw            4.19   \n",
       "1369                        Stephen Hunter/Beau Bridges            4.27   \n",
       "1647                                      William Arrow            3.00   \n",
       "\n",
       "            isbn         isbn13  language_code  num_pages  ratings_count  \\\n",
       "278   0375415807  9780375415807            1.0        0.0            107   \n",
       "307   0553502697  9780553502695            1.0        0.0             29   \n",
       "424   073931565X  9780739315651            1.0        0.0              1   \n",
       "777   0449210847  9780449210840            1.0        0.0             21   \n",
       "779   1594831955  9781594831959            1.0        0.0             64   \n",
       "851   1593979746  9781593979744            1.0        0.0             11   \n",
       "877   0739340336  9780739340332            1.0        0.0            267   \n",
       "1034  0553525026  9780553525021            1.0        0.0             60   \n",
       "1369  0739344242  9780739344248            1.0        0.0             15   \n",
       "1647  0345251679  9780345251671            1.0        0.0             10   \n",
       "\n",
       "      text_reviews_count publication_date  \\\n",
       "278                    3       2000-06-09   \n",
       "307                    3       2000-12-26   \n",
       "424                    0       2004-03-09   \n",
       "777                    1       1981-10-12   \n",
       "779                   10       2006-02-16   \n",
       "851                    2       2006-11-14   \n",
       "877                    7       2006-08-29   \n",
       "1034                   4       1998-09-01   \n",
       "1369                   1       2007-01-09   \n",
       "1647                   2       1976-04-12   \n",
       "\n",
       "                                publisher  year  month  day  \n",
       "278                    Random House Audio  2000      6    9  \n",
       "307   Random House Audio Publishing Group  2000     12   26  \n",
       "424                    Random House Audio  2004      3    9  \n",
       "777                             Ivy Books  1981     10   12  \n",
       "779              Grand Central Publishing  2006      2   16  \n",
       "851                       Macmillan Audio  2006     11   14  \n",
       "877                    Random House Audio  2006      8   29  \n",
       "1034                   Random House Audio  1998      9    1  \n",
       "1369                             RH Audio  2007      1    9  \n",
       "1647                     Ballantine Books  1976      4   12  "
      ]
     },
     "execution_count": 51,
     "metadata": {},
     "output_type": "execute_result"
    }
   ],
   "source": [
    "# check 0 value in num_pages\n",
    "data[data['num_pages'] == 0].head(10)"
   ]
  },
  {
   "cell_type": "code",
   "execution_count": 52,
   "metadata": {},
   "outputs": [
    {
     "data": {
      "text/plain": [
       "(54, 15)"
      ]
     },
     "execution_count": 52,
     "metadata": {},
     "output_type": "execute_result"
    }
   ],
   "source": [
    "#find how many books with zero num_pages\n",
    "data[data['num_pages'] == 0].shape"
   ]
  },
  {
   "cell_type": "code",
   "execution_count": 53,
   "metadata": {},
   "outputs": [
    {
     "name": "stdout",
     "output_type": "stream",
     "text": [
      "Mode of num_pages: 0    288.0\n",
      "dtype: float64\n"
     ]
    }
   ],
   "source": [
    "#calculate the mode of num_pages\n",
    "data_series = pd.Series(data = data.num_pages)\n",
    "print('Mode of num_pages:',data_series.mode())"
   ]
  },
  {
   "cell_type": "code",
   "execution_count": 54,
   "metadata": {},
   "outputs": [],
   "source": [
    "#first convert 0 into null\n",
    "data.num_pages = data.num_pages.replace(0, np.nan)\n",
    "#then replace them by mode of num_pages\n",
    "data.num_pages.fillna(data_series.mode()[0], inplace=True) "
   ]
  },
  {
   "cell_type": "code",
   "execution_count": 55,
   "metadata": {},
   "outputs": [
    {
     "data": {
      "text/plain": [
       "(0, 15)"
      ]
     },
     "execution_count": 55,
     "metadata": {},
     "output_type": "execute_result"
    }
   ],
   "source": [
    "#check again\n",
    "data[data['num_pages'] == 0].shape"
   ]
  },
  {
   "cell_type": "code",
   "execution_count": 56,
   "metadata": {},
   "outputs": [
    {
     "data": {
      "text/plain": [
       "(9093, 15)"
      ]
     },
     "execution_count": 56,
     "metadata": {},
     "output_type": "execute_result"
    }
   ],
   "source": [
    "data.shape"
   ]
  },
  {
   "cell_type": "markdown",
   "metadata": {},
   "source": [
    "#### authors_occ:"
   ]
  },
  {
   "cell_type": "markdown",
   "metadata": {},
   "source": [
    "we believe that counting the occurences of authors will help our model's prediction， we add a new feature named authors_occ to store this value."
   ]
  },
  {
   "cell_type": "code",
   "execution_count": 57,
   "metadata": {},
   "outputs": [],
   "source": [
    "data['authors_occ'] = data.groupby('authors')['authors'].transform('count')"
   ]
  },
  {
   "cell_type": "code",
   "execution_count": 58,
   "metadata": {},
   "outputs": [
    {
     "data": {
      "text/html": [
       "<div>\n",
       "<style scoped>\n",
       "    .dataframe tbody tr th:only-of-type {\n",
       "        vertical-align: middle;\n",
       "    }\n",
       "\n",
       "    .dataframe tbody tr th {\n",
       "        vertical-align: top;\n",
       "    }\n",
       "\n",
       "    .dataframe thead th {\n",
       "        text-align: right;\n",
       "    }\n",
       "</style>\n",
       "<table border=\"1\" class=\"dataframe\">\n",
       "  <thead>\n",
       "    <tr style=\"text-align: right;\">\n",
       "      <th></th>\n",
       "      <th>bookID</th>\n",
       "      <th>title</th>\n",
       "      <th>authors</th>\n",
       "      <th>average_rating</th>\n",
       "      <th>isbn</th>\n",
       "      <th>isbn13</th>\n",
       "      <th>language_code</th>\n",
       "      <th>num_pages</th>\n",
       "      <th>ratings_count</th>\n",
       "      <th>text_reviews_count</th>\n",
       "      <th>publication_date</th>\n",
       "      <th>publisher</th>\n",
       "      <th>year</th>\n",
       "      <th>month</th>\n",
       "      <th>day</th>\n",
       "      <th>authors_occ</th>\n",
       "    </tr>\n",
       "  </thead>\n",
       "  <tbody>\n",
       "    <tr>\n",
       "      <th>0</th>\n",
       "      <td>8253</td>\n",
       "      <td>Little Town on the Prairie  (Little House  #7)</td>\n",
       "      <td>Laura Ingalls Wilder/Garth Williams</td>\n",
       "      <td>4.19</td>\n",
       "      <td>0060885432</td>\n",
       "      <td>9780060885434</td>\n",
       "      <td>1.0</td>\n",
       "      <td>374.0</td>\n",
       "      <td>71853</td>\n",
       "      <td>646</td>\n",
       "      <td>2007-01-01</td>\n",
       "      <td>HarperTrophy</td>\n",
       "      <td>2007</td>\n",
       "      <td>1</td>\n",
       "      <td>1</td>\n",
       "      <td>6</td>\n",
       "    </tr>\n",
       "    <tr>\n",
       "      <th>1</th>\n",
       "      <td>11101</td>\n",
       "      <td>First Comes Love (Hot Water  California #1)</td>\n",
       "      <td>Christie Ridgway</td>\n",
       "      <td>3.81</td>\n",
       "      <td>0380818957</td>\n",
       "      <td>9780380818952</td>\n",
       "      <td>1.0</td>\n",
       "      <td>384.0</td>\n",
       "      <td>1051</td>\n",
       "      <td>47</td>\n",
       "      <td>2002-01-01</td>\n",
       "      <td>Avon Books</td>\n",
       "      <td>2002</td>\n",
       "      <td>1</td>\n",
       "      <td>1</td>\n",
       "      <td>1</td>\n",
       "    </tr>\n",
       "    <tr>\n",
       "      <th>2</th>\n",
       "      <td>28193</td>\n",
       "      <td>When Santa Fell to Earth</td>\n",
       "      <td>Cornelia Funke/Paul   Howard/Oliver G. Latsch</td>\n",
       "      <td>3.76</td>\n",
       "      <td>043978204X</td>\n",
       "      <td>9780439782043</td>\n",
       "      <td>1.0</td>\n",
       "      <td>167.0</td>\n",
       "      <td>1840</td>\n",
       "      <td>245</td>\n",
       "      <td>2006-10-01</td>\n",
       "      <td>Chicken House / Scholastic</td>\n",
       "      <td>2006</td>\n",
       "      <td>10</td>\n",
       "      <td>1</td>\n",
       "      <td>1</td>\n",
       "    </tr>\n",
       "    <tr>\n",
       "      <th>3</th>\n",
       "      <td>25047</td>\n",
       "      <td>The Case of the Stinky Science Project (Jigsaw...</td>\n",
       "      <td>James Preller/John Speirs/James Preller</td>\n",
       "      <td>3.83</td>\n",
       "      <td>0439114284</td>\n",
       "      <td>9780439114288</td>\n",
       "      <td>1.0</td>\n",
       "      <td>80.0</td>\n",
       "      <td>162</td>\n",
       "      <td>11</td>\n",
       "      <td>2001-03-01</td>\n",
       "      <td>Scholastic Paperbacks</td>\n",
       "      <td>2001</td>\n",
       "      <td>3</td>\n",
       "      <td>1</td>\n",
       "      <td>1</td>\n",
       "    </tr>\n",
       "    <tr>\n",
       "      <th>4</th>\n",
       "      <td>17800</td>\n",
       "      <td>Dance Dance Dance</td>\n",
       "      <td>Haruki Murakami</td>\n",
       "      <td>4.04</td>\n",
       "      <td>0099448769</td>\n",
       "      <td>9780099448761</td>\n",
       "      <td>1.0</td>\n",
       "      <td>393.0</td>\n",
       "      <td>50169</td>\n",
       "      <td>2117</td>\n",
       "      <td>2002-02-07</td>\n",
       "      <td>Vintage</td>\n",
       "      <td>2002</td>\n",
       "      <td>2</td>\n",
       "      <td>7</td>\n",
       "      <td>2</td>\n",
       "    </tr>\n",
       "  </tbody>\n",
       "</table>\n",
       "</div>"
      ],
      "text/plain": [
       "   bookID                                              title  \\\n",
       "0    8253     Little Town on the Prairie  (Little House  #7)   \n",
       "1   11101        First Comes Love (Hot Water  California #1)   \n",
       "2   28193                           When Santa Fell to Earth   \n",
       "3   25047  The Case of the Stinky Science Project (Jigsaw...   \n",
       "4   17800                                  Dance Dance Dance   \n",
       "\n",
       "                                         authors  average_rating        isbn  \\\n",
       "0            Laura Ingalls Wilder/Garth Williams            4.19  0060885432   \n",
       "1                               Christie Ridgway            3.81  0380818957   \n",
       "2  Cornelia Funke/Paul   Howard/Oliver G. Latsch            3.76  043978204X   \n",
       "3        James Preller/John Speirs/James Preller            3.83  0439114284   \n",
       "4                                Haruki Murakami            4.04  0099448769   \n",
       "\n",
       "          isbn13  language_code  num_pages  ratings_count  text_reviews_count  \\\n",
       "0  9780060885434            1.0      374.0          71853                 646   \n",
       "1  9780380818952            1.0      384.0           1051                  47   \n",
       "2  9780439782043            1.0      167.0           1840                 245   \n",
       "3  9780439114288            1.0       80.0            162                  11   \n",
       "4  9780099448761            1.0      393.0          50169                2117   \n",
       "\n",
       "  publication_date                   publisher  year  month  day  authors_occ  \n",
       "0       2007-01-01                HarperTrophy  2007      1    1            6  \n",
       "1       2002-01-01                  Avon Books  2002      1    1            1  \n",
       "2       2006-10-01  Chicken House / Scholastic  2006     10    1            1  \n",
       "3       2001-03-01       Scholastic Paperbacks  2001      3    1            1  \n",
       "4       2002-02-07                     Vintage  2002      2    7            2  "
      ]
     },
     "execution_count": 58,
     "metadata": {},
     "output_type": "execute_result"
    }
   ],
   "source": [
    "data.head(5)"
   ]
  },
  {
   "cell_type": "markdown",
   "metadata": {},
   "source": [
    "#### total_ratings\n",
    "calculate the total ratings of each books, add a new feature"
   ]
  },
  {
   "cell_type": "code",
   "execution_count": 59,
   "metadata": {},
   "outputs": [],
   "source": [
    "data['rate_weight_2'] = data['average_rating'] * data['ratings_count']"
   ]
  },
  {
   "cell_type": "markdown",
   "metadata": {},
   "source": [
    "#### rate_per_pages\n",
    "calculate the rate for each pages"
   ]
  },
  {
   "cell_type": "code",
   "execution_count": 60,
   "metadata": {},
   "outputs": [],
   "source": [
    "data['rate_per_pages'] = data['average_rating'] * data['num_pages']"
   ]
  },
  {
   "cell_type": "markdown",
   "metadata": {},
   "source": [
    "#### text_reviews_ratings"
   ]
  },
  {
   "cell_type": "code",
   "execution_count": 61,
   "metadata": {},
   "outputs": [],
   "source": [
    "data['text_reviews_ratings'] = data['average_rating']*data['text_reviews_count']"
   ]
  },
  {
   "cell_type": "code",
   "execution_count": null,
   "metadata": {},
   "outputs": [],
   "source": []
  },
  {
   "cell_type": "code",
   "execution_count": null,
   "metadata": {},
   "outputs": [],
   "source": []
  },
  {
   "cell_type": "code",
   "execution_count": 62,
   "metadata": {},
   "outputs": [],
   "source": [
    "from sklearn.preprocessing import LabelEncoder\n",
    "#encode title column\n",
    "le = LabelEncoder()\n",
    "data['title'] = le.fit_transform(data['title'])"
   ]
  },
  {
   "cell_type": "code",
   "execution_count": 63,
   "metadata": {},
   "outputs": [],
   "source": [
    "#encode authors column\n",
    "data['authors'] = le.fit_transform(data['authors'])"
   ]
  },
  {
   "cell_type": "code",
   "execution_count": 64,
   "metadata": {},
   "outputs": [],
   "source": [
    "#encode publisher\n",
    "data['publisher'] = le.fit_transform(data['publisher'])"
   ]
  },
  {
   "cell_type": "code",
   "execution_count": 65,
   "metadata": {},
   "outputs": [
    {
     "data": {
      "text/html": [
       "<div>\n",
       "<style scoped>\n",
       "    .dataframe tbody tr th:only-of-type {\n",
       "        vertical-align: middle;\n",
       "    }\n",
       "\n",
       "    .dataframe tbody tr th {\n",
       "        vertical-align: top;\n",
       "    }\n",
       "\n",
       "    .dataframe thead th {\n",
       "        text-align: right;\n",
       "    }\n",
       "</style>\n",
       "<table border=\"1\" class=\"dataframe\">\n",
       "  <thead>\n",
       "    <tr style=\"text-align: right;\">\n",
       "      <th></th>\n",
       "      <th>bookID</th>\n",
       "      <th>title</th>\n",
       "      <th>authors</th>\n",
       "      <th>average_rating</th>\n",
       "      <th>isbn</th>\n",
       "      <th>isbn13</th>\n",
       "      <th>language_code</th>\n",
       "      <th>num_pages</th>\n",
       "      <th>ratings_count</th>\n",
       "      <th>text_reviews_count</th>\n",
       "      <th>publication_date</th>\n",
       "      <th>publisher</th>\n",
       "      <th>year</th>\n",
       "      <th>month</th>\n",
       "      <th>day</th>\n",
       "      <th>authors_occ</th>\n",
       "      <th>rate_weight_2</th>\n",
       "      <th>rate_per_pages</th>\n",
       "      <th>text_reviews_ratings</th>\n",
       "    </tr>\n",
       "  </thead>\n",
       "  <tbody>\n",
       "    <tr>\n",
       "      <th>0</th>\n",
       "      <td>8253</td>\n",
       "      <td>3631</td>\n",
       "      <td>3140</td>\n",
       "      <td>4.19</td>\n",
       "      <td>0060885432</td>\n",
       "      <td>9780060885434</td>\n",
       "      <td>1.0</td>\n",
       "      <td>374.0</td>\n",
       "      <td>71853</td>\n",
       "      <td>646</td>\n",
       "      <td>2007-01-01</td>\n",
       "      <td>814</td>\n",
       "      <td>2007</td>\n",
       "      <td>1</td>\n",
       "      <td>1</td>\n",
       "      <td>6</td>\n",
       "      <td>301064.07</td>\n",
       "      <td>1567.06</td>\n",
       "      <td>2706.74</td>\n",
       "    </tr>\n",
       "    <tr>\n",
       "      <th>1</th>\n",
       "      <td>11101</td>\n",
       "      <td>2266</td>\n",
       "      <td>820</td>\n",
       "      <td>3.81</td>\n",
       "      <td>0380818957</td>\n",
       "      <td>9780380818952</td>\n",
       "      <td>1.0</td>\n",
       "      <td>384.0</td>\n",
       "      <td>1051</td>\n",
       "      <td>47</td>\n",
       "      <td>2002-01-01</td>\n",
       "      <td>143</td>\n",
       "      <td>2002</td>\n",
       "      <td>1</td>\n",
       "      <td>1</td>\n",
       "      <td>1</td>\n",
       "      <td>4004.31</td>\n",
       "      <td>1463.04</td>\n",
       "      <td>179.07</td>\n",
       "    </tr>\n",
       "    <tr>\n",
       "      <th>2</th>\n",
       "      <td>28193</td>\n",
       "      <td>8770</td>\n",
       "      <td>904</td>\n",
       "      <td>3.76</td>\n",
       "      <td>043978204X</td>\n",
       "      <td>9780439782043</td>\n",
       "      <td>1.0</td>\n",
       "      <td>167.0</td>\n",
       "      <td>1840</td>\n",
       "      <td>245</td>\n",
       "      <td>2006-10-01</td>\n",
       "      <td>345</td>\n",
       "      <td>2006</td>\n",
       "      <td>10</td>\n",
       "      <td>1</td>\n",
       "      <td>1</td>\n",
       "      <td>6918.40</td>\n",
       "      <td>627.92</td>\n",
       "      <td>921.20</td>\n",
       "    </tr>\n",
       "    <tr>\n",
       "      <th>3</th>\n",
       "      <td>25047</td>\n",
       "      <td>6144</td>\n",
       "      <td>2376</td>\n",
       "      <td>3.83</td>\n",
       "      <td>0439114284</td>\n",
       "      <td>9780439114288</td>\n",
       "      <td>1.0</td>\n",
       "      <td>80.0</td>\n",
       "      <td>162</td>\n",
       "      <td>11</td>\n",
       "      <td>2001-03-01</td>\n",
       "      <td>1566</td>\n",
       "      <td>2001</td>\n",
       "      <td>3</td>\n",
       "      <td>1</td>\n",
       "      <td>1</td>\n",
       "      <td>620.46</td>\n",
       "      <td>306.40</td>\n",
       "      <td>42.13</td>\n",
       "    </tr>\n",
       "    <tr>\n",
       "      <th>4</th>\n",
       "      <td>17800</td>\n",
       "      <td>1526</td>\n",
       "      <td>1971</td>\n",
       "      <td>4.04</td>\n",
       "      <td>0099448769</td>\n",
       "      <td>9780099448761</td>\n",
       "      <td>1.0</td>\n",
       "      <td>393.0</td>\n",
       "      <td>50169</td>\n",
       "      <td>2117</td>\n",
       "      <td>2002-02-07</td>\n",
       "      <td>1891</td>\n",
       "      <td>2002</td>\n",
       "      <td>2</td>\n",
       "      <td>7</td>\n",
       "      <td>2</td>\n",
       "      <td>202682.76</td>\n",
       "      <td>1587.72</td>\n",
       "      <td>8552.68</td>\n",
       "    </tr>\n",
       "  </tbody>\n",
       "</table>\n",
       "</div>"
      ],
      "text/plain": [
       "   bookID  title  authors  average_rating        isbn         isbn13  \\\n",
       "0    8253   3631     3140            4.19  0060885432  9780060885434   \n",
       "1   11101   2266      820            3.81  0380818957  9780380818952   \n",
       "2   28193   8770      904            3.76  043978204X  9780439782043   \n",
       "3   25047   6144     2376            3.83  0439114284  9780439114288   \n",
       "4   17800   1526     1971            4.04  0099448769  9780099448761   \n",
       "\n",
       "   language_code  num_pages  ratings_count  text_reviews_count  \\\n",
       "0            1.0      374.0          71853                 646   \n",
       "1            1.0      384.0           1051                  47   \n",
       "2            1.0      167.0           1840                 245   \n",
       "3            1.0       80.0            162                  11   \n",
       "4            1.0      393.0          50169                2117   \n",
       "\n",
       "  publication_date  publisher  year  month  day  authors_occ  rate_weight_2  \\\n",
       "0       2007-01-01        814  2007      1    1            6      301064.07   \n",
       "1       2002-01-01        143  2002      1    1            1        4004.31   \n",
       "2       2006-10-01        345  2006     10    1            1        6918.40   \n",
       "3       2001-03-01       1566  2001      3    1            1         620.46   \n",
       "4       2002-02-07       1891  2002      2    7            2      202682.76   \n",
       "\n",
       "   rate_per_pages  text_reviews_ratings  \n",
       "0         1567.06               2706.74  \n",
       "1         1463.04                179.07  \n",
       "2          627.92                921.20  \n",
       "3          306.40                 42.13  \n",
       "4         1587.72               8552.68  "
      ]
     },
     "execution_count": 65,
     "metadata": {},
     "output_type": "execute_result"
    }
   ],
   "source": [
    "data.head(5)"
   ]
  },
  {
   "cell_type": "markdown",
   "metadata": {},
   "source": [
    "# Creating Model\n",
    "We firstly drop some useless features"
   ]
  },
  {
   "cell_type": "code",
   "execution_count": 66,
   "metadata": {},
   "outputs": [],
   "source": [
    "X = data.drop(['bookID','average_rating','isbn','isbn13','publication_date'],axis = 1)\n",
    "y = data['average_rating']"
   ]
  },
  {
   "cell_type": "code",
   "execution_count": 67,
   "metadata": {},
   "outputs": [
    {
     "data": {
      "text/html": [
       "<div>\n",
       "<style scoped>\n",
       "    .dataframe tbody tr th:only-of-type {\n",
       "        vertical-align: middle;\n",
       "    }\n",
       "\n",
       "    .dataframe tbody tr th {\n",
       "        vertical-align: top;\n",
       "    }\n",
       "\n",
       "    .dataframe thead th {\n",
       "        text-align: right;\n",
       "    }\n",
       "</style>\n",
       "<table border=\"1\" class=\"dataframe\">\n",
       "  <thead>\n",
       "    <tr style=\"text-align: right;\">\n",
       "      <th></th>\n",
       "      <th>title</th>\n",
       "      <th>authors</th>\n",
       "      <th>language_code</th>\n",
       "      <th>num_pages</th>\n",
       "      <th>ratings_count</th>\n",
       "      <th>text_reviews_count</th>\n",
       "      <th>publisher</th>\n",
       "      <th>year</th>\n",
       "      <th>month</th>\n",
       "      <th>day</th>\n",
       "      <th>authors_occ</th>\n",
       "      <th>rate_weight_2</th>\n",
       "      <th>rate_per_pages</th>\n",
       "      <th>text_reviews_ratings</th>\n",
       "    </tr>\n",
       "  </thead>\n",
       "  <tbody>\n",
       "    <tr>\n",
       "      <th>0</th>\n",
       "      <td>3631</td>\n",
       "      <td>3140</td>\n",
       "      <td>1.0</td>\n",
       "      <td>374.0</td>\n",
       "      <td>71853</td>\n",
       "      <td>646</td>\n",
       "      <td>814</td>\n",
       "      <td>2007</td>\n",
       "      <td>1</td>\n",
       "      <td>1</td>\n",
       "      <td>6</td>\n",
       "      <td>301064.07</td>\n",
       "      <td>1567.06</td>\n",
       "      <td>2706.74</td>\n",
       "    </tr>\n",
       "    <tr>\n",
       "      <th>1</th>\n",
       "      <td>2266</td>\n",
       "      <td>820</td>\n",
       "      <td>1.0</td>\n",
       "      <td>384.0</td>\n",
       "      <td>1051</td>\n",
       "      <td>47</td>\n",
       "      <td>143</td>\n",
       "      <td>2002</td>\n",
       "      <td>1</td>\n",
       "      <td>1</td>\n",
       "      <td>1</td>\n",
       "      <td>4004.31</td>\n",
       "      <td>1463.04</td>\n",
       "      <td>179.07</td>\n",
       "    </tr>\n",
       "    <tr>\n",
       "      <th>2</th>\n",
       "      <td>8770</td>\n",
       "      <td>904</td>\n",
       "      <td>1.0</td>\n",
       "      <td>167.0</td>\n",
       "      <td>1840</td>\n",
       "      <td>245</td>\n",
       "      <td>345</td>\n",
       "      <td>2006</td>\n",
       "      <td>10</td>\n",
       "      <td>1</td>\n",
       "      <td>1</td>\n",
       "      <td>6918.40</td>\n",
       "      <td>627.92</td>\n",
       "      <td>921.20</td>\n",
       "    </tr>\n",
       "    <tr>\n",
       "      <th>3</th>\n",
       "      <td>6144</td>\n",
       "      <td>2376</td>\n",
       "      <td>1.0</td>\n",
       "      <td>80.0</td>\n",
       "      <td>162</td>\n",
       "      <td>11</td>\n",
       "      <td>1566</td>\n",
       "      <td>2001</td>\n",
       "      <td>3</td>\n",
       "      <td>1</td>\n",
       "      <td>1</td>\n",
       "      <td>620.46</td>\n",
       "      <td>306.40</td>\n",
       "      <td>42.13</td>\n",
       "    </tr>\n",
       "    <tr>\n",
       "      <th>4</th>\n",
       "      <td>1526</td>\n",
       "      <td>1971</td>\n",
       "      <td>1.0</td>\n",
       "      <td>393.0</td>\n",
       "      <td>50169</td>\n",
       "      <td>2117</td>\n",
       "      <td>1891</td>\n",
       "      <td>2002</td>\n",
       "      <td>2</td>\n",
       "      <td>7</td>\n",
       "      <td>2</td>\n",
       "      <td>202682.76</td>\n",
       "      <td>1587.72</td>\n",
       "      <td>8552.68</td>\n",
       "    </tr>\n",
       "  </tbody>\n",
       "</table>\n",
       "</div>"
      ],
      "text/plain": [
       "   title  authors  language_code  num_pages  ratings_count  \\\n",
       "0   3631     3140            1.0      374.0          71853   \n",
       "1   2266      820            1.0      384.0           1051   \n",
       "2   8770      904            1.0      167.0           1840   \n",
       "3   6144     2376            1.0       80.0            162   \n",
       "4   1526     1971            1.0      393.0          50169   \n",
       "\n",
       "   text_reviews_count  publisher  year  month  day  authors_occ  \\\n",
       "0                 646        814  2007      1    1            6   \n",
       "1                  47        143  2002      1    1            1   \n",
       "2                 245        345  2006     10    1            1   \n",
       "3                  11       1566  2001      3    1            1   \n",
       "4                2117       1891  2002      2    7            2   \n",
       "\n",
       "   rate_weight_2  rate_per_pages  text_reviews_ratings  \n",
       "0      301064.07         1567.06               2706.74  \n",
       "1        4004.31         1463.04                179.07  \n",
       "2        6918.40          627.92                921.20  \n",
       "3         620.46          306.40                 42.13  \n",
       "4      202682.76         1587.72               8552.68  "
      ]
     },
     "execution_count": 67,
     "metadata": {},
     "output_type": "execute_result"
    }
   ],
   "source": [
    "X.head(5)"
   ]
  },
  {
   "cell_type": "code",
   "execution_count": 68,
   "metadata": {},
   "outputs": [
    {
     "data": {
      "text/plain": [
       "0    4.19\n",
       "1    3.81\n",
       "2    3.76\n",
       "3    3.83\n",
       "4    4.04\n",
       "Name: average_rating, dtype: float64"
      ]
     },
     "execution_count": 68,
     "metadata": {},
     "output_type": "execute_result"
    }
   ],
   "source": [
    "y.head(5)"
   ]
  },
  {
   "cell_type": "markdown",
   "metadata": {},
   "source": [
    "split the train dateset and test dateset from train_data"
   ]
  },
  {
   "cell_type": "code",
   "execution_count": 69,
   "metadata": {},
   "outputs": [],
   "source": [
    "X_train, X_test, y_train, y_test = train_test_split(X, y, test_size = 0.3, random_state = 10)"
   ]
  },
  {
   "cell_type": "markdown",
   "metadata": {},
   "source": [
    "## Linear Regression"
   ]
  },
  {
   "cell_type": "code",
   "execution_count": 70,
   "metadata": {},
   "outputs": [
    {
     "data": {
      "text/plain": [
       "LinearRegression()"
      ]
     },
     "execution_count": 70,
     "metadata": {},
     "output_type": "execute_result"
    }
   ],
   "source": [
    "from sklearn.linear_model import LinearRegression\n",
    "\n",
    "lr = LinearRegression()\n",
    "lr.fit(X_train, y_train)"
   ]
  },
  {
   "cell_type": "code",
   "execution_count": 71,
   "metadata": {},
   "outputs": [],
   "source": [
    "predictions = lr.predict(X_test)"
   ]
  },
  {
   "cell_type": "code",
   "execution_count": 72,
   "metadata": {},
   "outputs": [
    {
     "data": {
      "text/html": [
       "<div>\n",
       "<style scoped>\n",
       "    .dataframe tbody tr th:only-of-type {\n",
       "        vertical-align: middle;\n",
       "    }\n",
       "\n",
       "    .dataframe tbody tr th {\n",
       "        vertical-align: top;\n",
       "    }\n",
       "\n",
       "    .dataframe thead th {\n",
       "        text-align: right;\n",
       "    }\n",
       "</style>\n",
       "<table border=\"1\" class=\"dataframe\">\n",
       "  <thead>\n",
       "    <tr style=\"text-align: right;\">\n",
       "      <th></th>\n",
       "      <th>Actual</th>\n",
       "      <th>Predicted</th>\n",
       "    </tr>\n",
       "  </thead>\n",
       "  <tbody>\n",
       "    <tr>\n",
       "      <th>0</th>\n",
       "      <td>4.26</td>\n",
       "      <td>4.272648</td>\n",
       "    </tr>\n",
       "    <tr>\n",
       "      <th>1</th>\n",
       "      <td>4.31</td>\n",
       "      <td>4.244475</td>\n",
       "    </tr>\n",
       "    <tr>\n",
       "      <th>2</th>\n",
       "      <td>4.09</td>\n",
       "      <td>4.057337</td>\n",
       "    </tr>\n",
       "    <tr>\n",
       "      <th>3</th>\n",
       "      <td>4.00</td>\n",
       "      <td>3.967868</td>\n",
       "    </tr>\n",
       "    <tr>\n",
       "      <th>4</th>\n",
       "      <td>3.93</td>\n",
       "      <td>3.928892</td>\n",
       "    </tr>\n",
       "    <tr>\n",
       "      <th>5</th>\n",
       "      <td>3.99</td>\n",
       "      <td>3.957353</td>\n",
       "    </tr>\n",
       "    <tr>\n",
       "      <th>6</th>\n",
       "      <td>3.78</td>\n",
       "      <td>3.960734</td>\n",
       "    </tr>\n",
       "    <tr>\n",
       "      <th>7</th>\n",
       "      <td>3.85</td>\n",
       "      <td>3.779748</td>\n",
       "    </tr>\n",
       "    <tr>\n",
       "      <th>8</th>\n",
       "      <td>4.17</td>\n",
       "      <td>4.123480</td>\n",
       "    </tr>\n",
       "    <tr>\n",
       "      <th>9</th>\n",
       "      <td>3.76</td>\n",
       "      <td>3.706241</td>\n",
       "    </tr>\n",
       "  </tbody>\n",
       "</table>\n",
       "</div>"
      ],
      "text/plain": [
       "   Actual  Predicted\n",
       "0    4.26   4.272648\n",
       "1    4.31   4.244475\n",
       "2    4.09   4.057337\n",
       "3    4.00   3.967868\n",
       "4    3.93   3.928892\n",
       "5    3.99   3.957353\n",
       "6    3.78   3.960734\n",
       "7    3.85   3.779748\n",
       "8    4.17   4.123480\n",
       "9    3.76   3.706241"
      ]
     },
     "execution_count": 72,
     "metadata": {},
     "output_type": "execute_result"
    }
   ],
   "source": [
    "pred = pd.DataFrame({'Actual': y_test.tolist(), 'Predicted': predictions.tolist()}).head(25)\n",
    "pred.head(10)"
   ]
  },
  {
   "cell_type": "code",
   "execution_count": 73,
   "metadata": {},
   "outputs": [
    {
     "data": {
      "text/plain": [
       "Text(0, 0.5, 'Predicted Values')"
      ]
     },
     "execution_count": 73,
     "metadata": {},
     "output_type": "execute_result"
    },
    {
     "data": {
      "image/png": "[encoded data removed]",
      "text/plain": [
       "<Figure size 800x500 with 1 Axes>"
      ]
     },
     "metadata": {
      "needs_background": "light"
     },
     "output_type": "display_data"
    }
   ],
   "source": [
    "#plot predicted and actual value\n",
    "plt.figure(num=None, figsize=(8, 5), dpi=100)\n",
    "colors = np.random.rand(2728),\n",
    "plt.scatter(predictions,y_test,s= 20.0,c=colors,alpha= 0.5)\n",
    "plt.grid(True)\n",
    "plt.xlabel(\"Actual Values\")\n",
    "plt.ylabel(\"Predicted Values\")"
   ]
  },
  {
   "cell_type": "code",
   "execution_count": 74,
   "metadata": {},
   "outputs": [
    {
     "name": "stdout",
     "output_type": "stream",
     "text": [
      "r2_score: 0.7652363022949135\n",
      "MAE: 0.09200610935801891\n",
      "MSE: 0.01974128189009947\n",
      "RMSE: 0.14050367215877124\n"
     ]
    }
   ],
   "source": [
    "# evaluate the performance of the algorithm\n",
    "from sklearn import metrics\n",
    "print('r2_score:',metrics.r2_score(y_test,predictions))\n",
    "print('MAE:', metrics.mean_absolute_error(y_test, predictions))#平均绝对误差\n",
    "print('MSE:', metrics.mean_squared_error(y_test, predictions))#均方误差\n",
    "print('RMSE:', np.sqrt(metrics.mean_squared_error(y_test, predictions)))#均方根误差"
   ]
  },
  {
   "cell_type": "markdown",
   "metadata": {},
   "source": [
    "## RandomForest"
   ]
  },
  {
   "cell_type": "code",
   "execution_count": 75,
   "metadata": {},
   "outputs": [
    {
     "data": {
      "text/plain": [
       "RandomForestRegressor(max_depth=100, n_estimators=700, random_state=42)"
      ]
     },
     "execution_count": 75,
     "metadata": {},
     "output_type": "execute_result"
    }
   ],
   "source": [
    "from sklearn.ensemble import RandomForestRegressor\n",
    "model = RandomForestRegressor(n_estimators = 700,\n",
    "                                     min_samples_split= 2,\n",
    "                                     min_samples_leaf= 1, \n",
    "                                     max_features='auto',\n",
    "                                     max_depth=100,\n",
    "                                     bootstrap= True,\n",
    "                                     random_state = 42)\n",
    "model.fit(X_train,y_train)\n"
   ]
  },
  {
   "cell_type": "code",
   "execution_count": 76,
   "metadata": {},
   "outputs": [],
   "source": [
    "rf_pre = model.predict(X_test)"
   ]
  },
  {
   "cell_type": "code",
   "execution_count": 77,
   "metadata": {},
   "outputs": [
    {
     "data": {
      "text/html": [
       "<div>\n",
       "<style scoped>\n",
       "    .dataframe tbody tr th:only-of-type {\n",
       "        vertical-align: middle;\n",
       "    }\n",
       "\n",
       "    .dataframe tbody tr th {\n",
       "        vertical-align: top;\n",
       "    }\n",
       "\n",
       "    .dataframe thead th {\n",
       "        text-align: right;\n",
       "    }\n",
       "</style>\n",
       "<table border=\"1\" class=\"dataframe\">\n",
       "  <thead>\n",
       "    <tr style=\"text-align: right;\">\n",
       "      <th></th>\n",
       "      <th>Actual</th>\n",
       "      <th>Predicted</th>\n",
       "    </tr>\n",
       "  </thead>\n",
       "  <tbody>\n",
       "    <tr>\n",
       "      <th>0</th>\n",
       "      <td>4.26</td>\n",
       "      <td>4.265629</td>\n",
       "    </tr>\n",
       "    <tr>\n",
       "      <th>1</th>\n",
       "      <td>4.31</td>\n",
       "      <td>4.273224</td>\n",
       "    </tr>\n",
       "    <tr>\n",
       "      <th>2</th>\n",
       "      <td>4.09</td>\n",
       "      <td>4.091171</td>\n",
       "    </tr>\n",
       "    <tr>\n",
       "      <th>3</th>\n",
       "      <td>4.00</td>\n",
       "      <td>4.016043</td>\n",
       "    </tr>\n",
       "    <tr>\n",
       "      <th>4</th>\n",
       "      <td>3.93</td>\n",
       "      <td>3.933750</td>\n",
       "    </tr>\n",
       "    <tr>\n",
       "      <th>5</th>\n",
       "      <td>3.99</td>\n",
       "      <td>3.994143</td>\n",
       "    </tr>\n",
       "    <tr>\n",
       "      <th>6</th>\n",
       "      <td>3.78</td>\n",
       "      <td>4.039671</td>\n",
       "    </tr>\n",
       "    <tr>\n",
       "      <th>7</th>\n",
       "      <td>3.85</td>\n",
       "      <td>3.873700</td>\n",
       "    </tr>\n",
       "    <tr>\n",
       "      <th>8</th>\n",
       "      <td>4.17</td>\n",
       "      <td>4.174271</td>\n",
       "    </tr>\n",
       "    <tr>\n",
       "      <th>9</th>\n",
       "      <td>3.76</td>\n",
       "      <td>3.759400</td>\n",
       "    </tr>\n",
       "  </tbody>\n",
       "</table>\n",
       "</div>"
      ],
      "text/plain": [
       "   Actual  Predicted\n",
       "0    4.26   4.265629\n",
       "1    4.31   4.273224\n",
       "2    4.09   4.091171\n",
       "3    4.00   4.016043\n",
       "4    3.93   3.933750\n",
       "5    3.99   3.994143\n",
       "6    3.78   4.039671\n",
       "7    3.85   3.873700\n",
       "8    4.17   4.174271\n",
       "9    3.76   3.759400"
      ]
     },
     "execution_count": 77,
     "metadata": {},
     "output_type": "execute_result"
    }
   ],
   "source": [
    "pred = pd.DataFrame({'Actual': y_test.tolist(), 'Predicted': rf_pre.tolist()}).head(25)\n",
    "pred.head(10)"
   ]
  },
  {
   "cell_type": "code",
   "execution_count": 78,
   "metadata": {},
   "outputs": [
    {
     "data": {
      "text/plain": [
       "Text(0, 0.5, 'Predicted Values')"
      ]
     },
     "execution_count": 78,
     "metadata": {},
     "output_type": "execute_result"
    },
    {
     "data": {
      "image/png": "[encoded data removed]",
      "text/plain": [
       "<Figure size 800x500 with 1 Axes>"
      ]
     },
     "metadata": {
      "needs_background": "light"
     },
     "output_type": "display_data"
    }
   ],
   "source": [
    "#plot predicted and actual value\n",
    "plt.figure(num=None, figsize=(8, 5), dpi=100)\n",
    "colors = np.random.rand(2728),\n",
    "plt.scatter(rf_pre,y_test,s= 20.0,c=colors,alpha= 0.5)\n",
    "plt.grid(True)\n",
    "plt.xlabel(\"Actual Values\")\n",
    "plt.ylabel(\"Predicted Values\")"
   ]
  },
  {
   "cell_type": "code",
   "execution_count": 79,
   "metadata": {},
   "outputs": [
    {
     "name": "stdout",
     "output_type": "stream",
     "text": [
      "r2_score: 0.922760423166614\n",
      "MAE: 0.03490276853043246\n",
      "MSE: 0.006495076854920545\n",
      "RMSE: 0.0805920396498348\n"
     ]
    }
   ],
   "source": [
    "print('r2_score:',metrics.r2_score(y_test, rf_pre))\n",
    "print('MAE:', metrics.mean_absolute_error(y_test, rf_pre))#平均绝对误差\n",
    "print('MSE:', metrics.mean_squared_error(y_test, rf_pre))#均方误差\n",
    "print('RMSE:', np.sqrt(metrics.mean_squared_error(y_test, rf_pre)))#均方根误差"
   ]
  }
 ],
 "metadata": {
  "kernelspec": {
   "display_name": "Python 3",
   "language": "python",
   "name": "python3"
  },
  "language_info": {
   "codemirror_mode": {
    "name": "ipython",
    "version": 3
   },
   "file_extension": ".py",
   "mimetype": "text/x-python",
   "name": "python",
   "nbconvert_exporter": "python",
   "pygments_lexer": "ipython3",
   "version": "3.8.5"
  }
 },
 "nbformat": 4,
 "nbformat_minor": 4
}
