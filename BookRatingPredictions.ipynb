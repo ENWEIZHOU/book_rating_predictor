{
 "cells": [
  {
   "cell_type": "code",
   "execution_count": 186,
   "metadata": {},
   "outputs": [],
   "source": [
    "import numpy as np # linear algerbra\n",
    "import pandas as pd # data processing\n",
    "import seaborn as sns # data visualization\n",
    "import matplotlib.pyplot as plt #drawing\n",
    "from sklearn.model_selection import train_test_split"
   ]
  },
  {
   "cell_type": "markdown",
   "metadata": {},
   "source": [
    "## Importing and Exploring Dataset"
   ]
  },
  {
   "cell_type": "code",
   "execution_count": 184,
   "metadata": {},
   "outputs": [
    {
     "data": {
      "text/html": [
       "<div>\n",
       "<style scoped>\n",
       "    .dataframe tbody tr th:only-of-type {\n",
       "        vertical-align: middle;\n",
       "    }\n",
       "\n",
       "    .dataframe tbody tr th {\n",
       "        vertical-align: top;\n",
       "    }\n",
       "\n",
       "    .dataframe thead th {\n",
       "        text-align: right;\n",
       "    }\n",
       "</style>\n",
       "<table border=\"1\" class=\"dataframe\">\n",
       "  <thead>\n",
       "    <tr style=\"text-align: right;\">\n",
       "      <th></th>\n",
       "      <th>bookID</th>\n",
       "      <th>title</th>\n",
       "      <th>authors</th>\n",
       "      <th>average_rating</th>\n",
       "      <th>isbn</th>\n",
       "      <th>isbn13</th>\n",
       "      <th>language_code</th>\n",
       "      <th>num_pages</th>\n",
       "      <th>ratings_count</th>\n",
       "      <th>text_reviews_count</th>\n",
       "      <th>publication_date</th>\n",
       "      <th>publisher</th>\n",
       "    </tr>\n",
       "  </thead>\n",
       "  <tbody>\n",
       "    <tr>\n",
       "      <th>0</th>\n",
       "      <td>8253</td>\n",
       "      <td>Little Town on the Prairie  (Little House  #7)</td>\n",
       "      <td>Laura Ingalls Wilder/Garth Williams</td>\n",
       "      <td>4.19</td>\n",
       "      <td>0060885432</td>\n",
       "      <td>9780060885434</td>\n",
       "      <td>eng</td>\n",
       "      <td>374</td>\n",
       "      <td>71853</td>\n",
       "      <td>646</td>\n",
       "      <td>1/1/2007</td>\n",
       "      <td>HarperTrophy</td>\n",
       "    </tr>\n",
       "    <tr>\n",
       "      <th>1</th>\n",
       "      <td>11101</td>\n",
       "      <td>First Comes Love (Hot Water  California #1)</td>\n",
       "      <td>Christie Ridgway</td>\n",
       "      <td>3.81</td>\n",
       "      <td>0380818957</td>\n",
       "      <td>9780380818952</td>\n",
       "      <td>en-US</td>\n",
       "      <td>384</td>\n",
       "      <td>1051</td>\n",
       "      <td>47</td>\n",
       "      <td>1/1/2002</td>\n",
       "      <td>Avon Books</td>\n",
       "    </tr>\n",
       "    <tr>\n",
       "      <th>2</th>\n",
       "      <td>28193</td>\n",
       "      <td>When Santa Fell to Earth</td>\n",
       "      <td>Cornelia Funke/Paul   Howard/Oliver G. Latsch</td>\n",
       "      <td>3.76</td>\n",
       "      <td>043978204X</td>\n",
       "      <td>9780439782043</td>\n",
       "      <td>eng</td>\n",
       "      <td>167</td>\n",
       "      <td>1840</td>\n",
       "      <td>245</td>\n",
       "      <td>10/1/2006</td>\n",
       "      <td>Chicken House / Scholastic</td>\n",
       "    </tr>\n",
       "    <tr>\n",
       "      <th>3</th>\n",
       "      <td>25047</td>\n",
       "      <td>The Case of the Stinky Science Project (Jigsaw...</td>\n",
       "      <td>James Preller/John Speirs/James Preller</td>\n",
       "      <td>3.83</td>\n",
       "      <td>0439114284</td>\n",
       "      <td>9780439114288</td>\n",
       "      <td>en-US</td>\n",
       "      <td>80</td>\n",
       "      <td>162</td>\n",
       "      <td>11</td>\n",
       "      <td>3/1/2001</td>\n",
       "      <td>Scholastic Paperbacks</td>\n",
       "    </tr>\n",
       "    <tr>\n",
       "      <th>4</th>\n",
       "      <td>17800</td>\n",
       "      <td>Dance Dance Dance</td>\n",
       "      <td>Haruki Murakami</td>\n",
       "      <td>4.04</td>\n",
       "      <td>0099448769</td>\n",
       "      <td>9780099448761</td>\n",
       "      <td>eng</td>\n",
       "      <td>393</td>\n",
       "      <td>50169</td>\n",
       "      <td>2117</td>\n",
       "      <td>2/7/2002</td>\n",
       "      <td>Vintage</td>\n",
       "    </tr>\n",
       "  </tbody>\n",
       "</table>\n",
       "</div>"
      ],
      "text/plain": [
       "   bookID                                              title  \\\n",
       "0    8253     Little Town on the Prairie  (Little House  #7)   \n",
       "1   11101        First Comes Love (Hot Water  California #1)   \n",
       "2   28193                           When Santa Fell to Earth   \n",
       "3   25047  The Case of the Stinky Science Project (Jigsaw...   \n",
       "4   17800                                  Dance Dance Dance   \n",
       "\n",
       "                                         authors  average_rating        isbn  \\\n",
       "0            Laura Ingalls Wilder/Garth Williams            4.19  0060885432   \n",
       "1                               Christie Ridgway            3.81  0380818957   \n",
       "2  Cornelia Funke/Paul   Howard/Oliver G. Latsch            3.76  043978204X   \n",
       "3        James Preller/John Speirs/James Preller            3.83  0439114284   \n",
       "4                                Haruki Murakami            4.04  0099448769   \n",
       "\n",
       "          isbn13 language_code    num_pages  ratings_count  \\\n",
       "0  9780060885434           eng          374          71853   \n",
       "1  9780380818952         en-US          384           1051   \n",
       "2  9780439782043           eng          167           1840   \n",
       "3  9780439114288         en-US           80            162   \n",
       "4  9780099448761           eng          393          50169   \n",
       "\n",
       "   text_reviews_count publication_date                   publisher  \n",
       "0                 646         1/1/2007                HarperTrophy  \n",
       "1                  47         1/1/2002                  Avon Books  \n",
       "2                 245        10/1/2006  Chicken House / Scholastic  \n",
       "3                  11         3/1/2001       Scholastic Paperbacks  \n",
       "4                2117         2/7/2002                     Vintage  "
      ]
     },
     "execution_count": 184,
     "metadata": {},
     "output_type": "execute_result"
    }
   ],
   "source": [
    "data = pd.read_csv('../ProjectBookRatingPredictions/DataSet/Train_data.csv',error_bad_lines=False)\n",
    "data.head(5)"
   ]
  },
  {
   "cell_type": "code",
   "execution_count": 183,
   "metadata": {},
   "outputs": [
    {
     "data": {
      "text/html": [
       "<div>\n",
       "<style scoped>\n",
       "    .dataframe tbody tr th:only-of-type {\n",
       "        vertical-align: middle;\n",
       "    }\n",
       "\n",
       "    .dataframe tbody tr th {\n",
       "        vertical-align: top;\n",
       "    }\n",
       "\n",
       "    .dataframe thead th {\n",
       "        text-align: right;\n",
       "    }\n",
       "</style>\n",
       "<table border=\"1\" class=\"dataframe\">\n",
       "  <thead>\n",
       "    <tr style=\"text-align: right;\">\n",
       "      <th></th>\n",
       "      <th>bookID</th>\n",
       "      <th>title</th>\n",
       "      <th>authors</th>\n",
       "      <th>average_rating</th>\n",
       "      <th>isbn</th>\n",
       "      <th>isbn13</th>\n",
       "      <th>language_code</th>\n",
       "      <th>num_pages</th>\n",
       "      <th>ratings_count</th>\n",
       "      <th>text_reviews_count</th>\n",
       "      <th>publication_date</th>\n",
       "      <th>publisher</th>\n",
       "    </tr>\n",
       "  </thead>\n",
       "  <tbody>\n",
       "    <tr>\n",
       "      <th>0</th>\n",
       "      <td>28898</td>\n",
       "      <td>Fundamentals of Heat and Mass Transfer [with I...</td>\n",
       "      <td>Frank P. Incropera/David P. DeWitt</td>\n",
       "      <td>NaN</td>\n",
       "      <td>0470055545</td>\n",
       "      <td>9780470055540</td>\n",
       "      <td>en-US</td>\n",
       "      <td>997</td>\n",
       "      <td>6</td>\n",
       "      <td>0</td>\n",
       "      <td>10/30/2006</td>\n",
       "      <td>Wiley</td>\n",
       "    </tr>\n",
       "    <tr>\n",
       "      <th>1</th>\n",
       "      <td>39358</td>\n",
       "      <td>Stud Rites (A Dog Lover's Mystery #9)</td>\n",
       "      <td>Susan Conant</td>\n",
       "      <td>NaN</td>\n",
       "      <td>0425201597</td>\n",
       "      <td>9780425201596</td>\n",
       "      <td>eng</td>\n",
       "      <td>237</td>\n",
       "      <td>322</td>\n",
       "      <td>16</td>\n",
       "      <td>3/1/2005</td>\n",
       "      <td>Berkley Prime Crime Books</td>\n",
       "    </tr>\n",
       "    <tr>\n",
       "      <th>2</th>\n",
       "      <td>32695</td>\n",
       "      <td>El talismán</td>\n",
       "      <td>Stephen King/Peter Straub/Pilar Giralt Gorina</td>\n",
       "      <td>NaN</td>\n",
       "      <td>8408042432</td>\n",
       "      <td>9788408042433</td>\n",
       "      <td>spa</td>\n",
       "      <td>375</td>\n",
       "      <td>12</td>\n",
       "      <td>1</td>\n",
       "      <td>7/1/2003</td>\n",
       "      <td>Planeta Publishing</td>\n",
       "    </tr>\n",
       "    <tr>\n",
       "      <th>3</th>\n",
       "      <td>15096</td>\n",
       "      <td>Five Quarters of the Orange</td>\n",
       "      <td>Joanne Harris</td>\n",
       "      <td>NaN</td>\n",
       "      <td>0060958022</td>\n",
       "      <td>9780060958022</td>\n",
       "      <td>eng</td>\n",
       "      <td>307</td>\n",
       "      <td>26258</td>\n",
       "      <td>1936</td>\n",
       "      <td>6/4/2002</td>\n",
       "      <td>Harper Perennial</td>\n",
       "    </tr>\n",
       "    <tr>\n",
       "      <th>4</th>\n",
       "      <td>15428</td>\n",
       "      <td>Up in a Heaval (Xanth #26)</td>\n",
       "      <td>Piers Anthony</td>\n",
       "      <td>NaN</td>\n",
       "      <td>0812574990</td>\n",
       "      <td>9780812574999</td>\n",
       "      <td>eng</td>\n",
       "      <td>342</td>\n",
       "      <td>2364</td>\n",
       "      <td>25</td>\n",
       "      <td>10/19/2003</td>\n",
       "      <td>Tor Fantasy</td>\n",
       "    </tr>\n",
       "  </tbody>\n",
       "</table>\n",
       "</div>"
      ],
      "text/plain": [
       "   bookID                                              title  \\\n",
       "0   28898  Fundamentals of Heat and Mass Transfer [with I...   \n",
       "1   39358              Stud Rites (A Dog Lover's Mystery #9)   \n",
       "2   32695                                        El talismán   \n",
       "3   15096                        Five Quarters of the Orange   \n",
       "4   15428                         Up in a Heaval (Xanth #26)   \n",
       "\n",
       "                                         authors  average_rating        isbn  \\\n",
       "0             Frank P. Incropera/David P. DeWitt             NaN  0470055545   \n",
       "1                                   Susan Conant             NaN  0425201597   \n",
       "2  Stephen King/Peter Straub/Pilar Giralt Gorina             NaN  8408042432   \n",
       "3                                  Joanne Harris             NaN  0060958022   \n",
       "4                                  Piers Anthony             NaN  0812574990   \n",
       "\n",
       "          isbn13 language_code    num_pages  ratings_count  \\\n",
       "0  9780470055540         en-US          997              6   \n",
       "1  9780425201596           eng          237            322   \n",
       "2  9788408042433           spa          375             12   \n",
       "3  9780060958022           eng          307          26258   \n",
       "4  9780812574999           eng          342           2364   \n",
       "\n",
       "   text_reviews_count publication_date                  publisher  \n",
       "0                   0       10/30/2006                      Wiley  \n",
       "1                  16         3/1/2005  Berkley Prime Crime Books  \n",
       "2                   1         7/1/2003         Planeta Publishing  \n",
       "3                1936         6/4/2002           Harper Perennial  \n",
       "4                  25       10/19/2003                Tor Fantasy  "
      ]
     },
     "execution_count": 183,
     "metadata": {},
     "output_type": "execute_result"
    }
   ],
   "source": [
    "test = pd.read_csv('../ProjectBookRatingPredictions/DataSet/Test_data.csv',error_bad_lines=False)\n",
    "test.head(5)"
   ]
  },
  {
   "cell_type": "code",
   "execution_count": 60,
   "metadata": {},
   "outputs": [
    {
     "data": {
      "text/html": [
       "<div>\n",
       "<style scoped>\n",
       "    .dataframe tbody tr th:only-of-type {\n",
       "        vertical-align: middle;\n",
       "    }\n",
       "\n",
       "    .dataframe tbody tr th {\n",
       "        vertical-align: top;\n",
       "    }\n",
       "\n",
       "    .dataframe thead th {\n",
       "        text-align: right;\n",
       "    }\n",
       "</style>\n",
       "<table border=\"1\" class=\"dataframe\">\n",
       "  <thead>\n",
       "    <tr style=\"text-align: right;\">\n",
       "      <th></th>\n",
       "      <th>bookID</th>\n",
       "      <th>average_rating</th>\n",
       "      <th>isbn13</th>\n",
       "      <th>num_pages</th>\n",
       "      <th>ratings_count</th>\n",
       "      <th>text_reviews_count</th>\n",
       "    </tr>\n",
       "  </thead>\n",
       "  <tbody>\n",
       "    <tr>\n",
       "      <th>count</th>\n",
       "      <td>10000.000000</td>\n",
       "      <td>10000.000000</td>\n",
       "      <td>1.000000e+04</td>\n",
       "      <td>10000.000000</td>\n",
       "      <td>1.000000e+04</td>\n",
       "      <td>10000.000000</td>\n",
       "    </tr>\n",
       "    <tr>\n",
       "      <th>mean</th>\n",
       "      <td>21266.538300</td>\n",
       "      <td>3.935645</td>\n",
       "      <td>9.763290e+12</td>\n",
       "      <td>336.340000</td>\n",
       "      <td>1.874233e+04</td>\n",
       "      <td>555.690600</td>\n",
       "    </tr>\n",
       "    <tr>\n",
       "      <th>std</th>\n",
       "      <td>13081.040856</td>\n",
       "      <td>0.345856</td>\n",
       "      <td>4.035128e+11</td>\n",
       "      <td>234.721368</td>\n",
       "      <td>1.178498e+05</td>\n",
       "      <td>2672.388675</td>\n",
       "    </tr>\n",
       "    <tr>\n",
       "      <th>min</th>\n",
       "      <td>1.000000</td>\n",
       "      <td>0.000000</td>\n",
       "      <td>8.987060e+09</td>\n",
       "      <td>0.000000</td>\n",
       "      <td>0.000000e+00</td>\n",
       "      <td>0.000000</td>\n",
       "    </tr>\n",
       "    <tr>\n",
       "      <th>25%</th>\n",
       "      <td>10230.000000</td>\n",
       "      <td>3.780000</td>\n",
       "      <td>9.780345e+12</td>\n",
       "      <td>194.000000</td>\n",
       "      <td>1.060000e+02</td>\n",
       "      <td>9.000000</td>\n",
       "    </tr>\n",
       "    <tr>\n",
       "      <th>50%</th>\n",
       "      <td>20261.000000</td>\n",
       "      <td>3.960000</td>\n",
       "      <td>9.780571e+12</td>\n",
       "      <td>300.000000</td>\n",
       "      <td>7.440000e+02</td>\n",
       "      <td>47.000000</td>\n",
       "    </tr>\n",
       "    <tr>\n",
       "      <th>75%</th>\n",
       "      <td>31986.750000</td>\n",
       "      <td>4.130000</td>\n",
       "      <td>9.780872e+12</td>\n",
       "      <td>416.000000</td>\n",
       "      <td>5.005500e+03</td>\n",
       "      <td>241.000000</td>\n",
       "    </tr>\n",
       "    <tr>\n",
       "      <th>max</th>\n",
       "      <td>45641.000000</td>\n",
       "      <td>5.000000</td>\n",
       "      <td>9.790008e+12</td>\n",
       "      <td>4736.000000</td>\n",
       "      <td>4.597666e+06</td>\n",
       "      <td>94265.000000</td>\n",
       "    </tr>\n",
       "  </tbody>\n",
       "</table>\n",
       "</div>"
      ],
      "text/plain": [
       "             bookID  average_rating        isbn13     num_pages  \\\n",
       "count  10000.000000    10000.000000  1.000000e+04  10000.000000   \n",
       "mean   21266.538300        3.935645  9.763290e+12    336.340000   \n",
       "std    13081.040856        0.345856  4.035128e+11    234.721368   \n",
       "min        1.000000        0.000000  8.987060e+09      0.000000   \n",
       "25%    10230.000000        3.780000  9.780345e+12    194.000000   \n",
       "50%    20261.000000        3.960000  9.780571e+12    300.000000   \n",
       "75%    31986.750000        4.130000  9.780872e+12    416.000000   \n",
       "max    45641.000000        5.000000  9.790008e+12   4736.000000   \n",
       "\n",
       "       ratings_count  text_reviews_count  \n",
       "count   1.000000e+04        10000.000000  \n",
       "mean    1.874233e+04          555.690600  \n",
       "std     1.178498e+05         2672.388675  \n",
       "min     0.000000e+00            0.000000  \n",
       "25%     1.060000e+02            9.000000  \n",
       "50%     7.440000e+02           47.000000  \n",
       "75%     5.005500e+03          241.000000  \n",
       "max     4.597666e+06        94265.000000  "
      ]
     },
     "execution_count": 60,
     "metadata": {},
     "output_type": "execute_result"
    }
   ],
   "source": [
    "data.describe() # Generate the summary table of the data"
   ]
  },
  {
   "cell_type": "code",
   "execution_count": 61,
   "metadata": {},
   "outputs": [
    {
     "name": "stdout",
     "output_type": "stream",
     "text": [
      "<class 'pandas.core.frame.DataFrame'>\n",
      "RangeIndex: 10000 entries, 0 to 9999\n",
      "Data columns (total 12 columns):\n",
      " #   Column              Non-Null Count  Dtype  \n",
      "---  ------              --------------  -----  \n",
      " 0   bookID              10000 non-null  int64  \n",
      " 1   title               10000 non-null  object \n",
      " 2   authors             10000 non-null  object \n",
      " 3   average_rating      10000 non-null  float64\n",
      " 4   isbn                10000 non-null  object \n",
      " 5   isbn13              10000 non-null  int64  \n",
      " 6   language_code       10000 non-null  object \n",
      " 7     num_pages         10000 non-null  int64  \n",
      " 8   ratings_count       10000 non-null  int64  \n",
      " 9   text_reviews_count  10000 non-null  int64  \n",
      " 10  publication_date    10000 non-null  object \n",
      " 11  publisher           10000 non-null  object \n",
      "dtypes: float64(1), int64(5), object(6)\n",
      "memory usage: 937.6+ KB\n"
     ]
    }
   ],
   "source": [
    "data.info() # Check basic features and data types"
   ]
  },
  {
   "cell_type": "code",
   "execution_count": 62,
   "metadata": {},
   "outputs": [
    {
     "data": {
      "text/plain": [
       "False"
      ]
     },
     "execution_count": 62,
     "metadata": {},
     "output_type": "execute_result"
    }
   ],
   "source": [
    "data.duplicated().any() # Check for doublication"
   ]
  },
  {
   "cell_type": "markdown",
   "metadata": {},
   "source": [
    "## Data Visualisation"
   ]
  },
  {
   "cell_type": "code",
   "execution_count": 63,
   "metadata": {},
   "outputs": [
    {
     "data": {
      "text/plain": [
       "Text(0, 0.5, 'Frequency')"
      ]
     },
     "execution_count": 63,
     "metadata": {},
     "output_type": "execute_result"
    },
    {
     "data": {
      "image/png": "[encoded data removed]",
      "text/plain": [
       "<Figure size 432x288 with 1 Axes>"
      ]
     },
     "metadata": {
      "needs_background": "light"
     },
     "output_type": "display_data"
    }
   ],
   "source": [
    "# rating distribution\n",
    "sns.kdeplot(data['average_rating'],shade = True)\n",
    "plt.title('Rating Distribution\\n')\n",
    "plt.xlabel('Rating')\n",
    "plt.ylabel('Frequency')"
   ]
  },
  {
   "cell_type": "code",
   "execution_count": 76,
   "metadata": {},
   "outputs": [
    {
     "data": {
      "text/plain": [
       "<matplotlib.legend.Legend at 0x1b26156bac0>"
      ]
     },
     "execution_count": 76,
     "metadata": {},
     "output_type": "execute_result"
    },
    {
     "data": {
      "image/png": "[encoded data removed]",
      "text/plain": [
       "<Figure size 576x576 with 1 Axes>"
      ]
     },
     "metadata": {},
     "output_type": "display_data"
    }
   ],
   "source": [
    "# top 6 languages\n",
    "data['language_code'].value_counts().head(100).plot(kind = 'pie', autopct='%1.1f%%', figsize=(8, 8)).legend()"
   ]
  },
  {
   "cell_type": "code",
   "execution_count": 65,
   "metadata": {},
   "outputs": [
    {
     "name": "stderr",
     "output_type": "stream",
     "text": [
      "D:\\Anaconda\\lib\\site-packages\\seaborn\\_decorators.py:36: FutureWarning: Pass the following variables as keyword args: x, y. From version 0.12, the only valid positional argument will be `data`, and passing other arguments without an explicit keyword will result in an error or misinterpretation.\n",
      "  warnings.warn(\n"
     ]
    },
    {
     "data": {
      "text/plain": [
       "(array([ 0,  1,  2,  3,  4,  5,  6,  7,  8,  9, 10, 11, 12, 13, 14]),\n",
       " [Text(0, 0, '3.82'),\n",
       "  Text(1, 0, '3.83'),\n",
       "  Text(2, 0, '3.89'),\n",
       "  Text(3, 0, '3.9'),\n",
       "  Text(4, 0, '3.92'),\n",
       "  Text(5, 0, '3.93'),\n",
       "  Text(6, 0, '3.94'),\n",
       "  Text(7, 0, '3.96'),\n",
       "  Text(8, 0, '3.97'),\n",
       "  Text(9, 0, '3.99'),\n",
       "  Text(10, 0, '4.0'),\n",
       "  Text(11, 0, '4.02'),\n",
       "  Text(12, 0, '4.04'),\n",
       "  Text(13, 0, '4.05'),\n",
       "  Text(14, 0, '4.07')])"
      ]
     },
     "execution_count": 65,
     "metadata": {},
     "output_type": "execute_result"
    },
    {
     "data": {
      "image/png": "[encoded data removed]",
      "text/plain": [
       "<Figure size 432x288 with 1 Axes>"
      ]
     },
     "metadata": {
      "needs_background": "light"
     },
     "output_type": "display_data"
    }
   ],
   "source": [
    "# number of books per rating\n",
    "sns.barplot(data['average_rating'].value_counts().head(15).index, data['average_rating'].value_counts().head(15))\n",
    "plt.title('Number of Books Each Rating Received\\n')\n",
    "plt.xlabel('Ratings')\n",
    "plt.ylabel('Counts')\n",
    "plt.xticks(rotation=45)"
   ]
  },
  {
   "cell_type": "code",
   "execution_count": 68,
   "metadata": {},
   "outputs": [
    {
     "name": "stderr",
     "output_type": "stream",
     "text": [
      "D:\\Anaconda\\lib\\site-packages\\seaborn\\_decorators.py:36: FutureWarning: Pass the following variables as keyword args: x, y. From version 0.12, the only valid positional argument will be `data`, and passing other arguments without an explicit keyword will result in an error or misinterpretation.\n",
      "  warnings.warn(\n"
     ]
    },
    {
     "data": {
      "text/plain": [
       "<AxesSubplot:xlabel='ratings_count', ylabel='title'>"
      ]
     },
     "execution_count": 68,
     "metadata": {},
     "output_type": "execute_result"
    },
    {
     "data": {
      "image/png": "[encoded data removed]",
      "text/plain": [
       "<Figure size 432x288 with 1 Axes>"
      ]
     },
     "metadata": {
      "needs_background": "light"
     },
     "output_type": "display_data"
    }
   ],
   "source": [
    "# highest rated books\n",
    "popular_books = data.nlargest(10, ['ratings_count']).set_index('title')['ratings_count']\n",
    "sns.barplot(popular_books, popular_books.index)"
   ]
  },
  {
   "cell_type": "code",
   "execution_count": 70,
   "metadata": {},
   "outputs": [
    {
     "name": "stderr",
     "output_type": "stream",
     "text": [
      "D:\\Anaconda\\lib\\site-packages\\seaborn\\_decorators.py:36: FutureWarning: Pass the following variables as keyword args: x, y. From version 0.12, the only valid positional argument will be `data`, and passing other arguments without an explicit keyword will result in an error or misinterpretation.\n",
      "  warnings.warn(\n"
     ]
    },
    {
     "data": {
      "text/plain": [
       "<AxesSubplot:xlabel='text_reviews_count', ylabel='title'>"
      ]
     },
     "execution_count": 70,
     "metadata": {},
     "output_type": "execute_result"
    },
    {
     "data": {
      "image/png": "[encoded data removed]",
      "text/plain": [
       "<Figure size 432x288 with 1 Axes>"
      ]
     },
     "metadata": {
      "needs_background": "light"
     },
     "output_type": "display_data"
    }
   ],
   "source": [
    "# highest reviewed books\n",
    "highest_reviews = data.nlargest(10, ['text_reviews_count'])\n",
    "sns.barplot(highest_reviews['text_reviews_count'], highest_reviews['title'])"
   ]
  },
  {
   "cell_type": "code",
   "execution_count": 72,
   "metadata": {},
   "outputs": [
    {
     "name": "stderr",
     "output_type": "stream",
     "text": [
      "D:\\Anaconda\\lib\\site-packages\\seaborn\\_decorators.py:36: FutureWarning: Pass the following variables as keyword args: x, y. From version 0.12, the only valid positional argument will be `data`, and passing other arguments without an explicit keyword will result in an error or misinterpretation.\n",
      "  warnings.warn(\n"
     ]
    },
    {
     "data": {
      "text/plain": [
       "Text(0.5, 0, 'Total Ratings')"
      ]
     },
     "execution_count": 72,
     "metadata": {},
     "output_type": "execute_result"
    },
    {
     "data": {
      "image/png": "[encoded data removed]",
      "text/plain": [
       "<Figure size 720x360 with 1 Axes>"
      ]
     },
     "metadata": {
      "needs_background": "light"
     },
     "output_type": "display_data"
    }
   ],
   "source": [
    "# authors with highest rated books\n",
    "plt.figure(figsize=(10, 5))\n",
    "authors = data.nlargest(5, ['ratings_count']).set_index('authors')\n",
    "sns.barplot(authors['ratings_count'], authors.index, ci = None, hue = authors['title'])\n",
    "plt.xlabel('Total Ratings')"
   ]
  },
  {
   "cell_type": "code",
   "execution_count": 74,
   "metadata": {},
   "outputs": [
    {
     "name": "stderr",
     "output_type": "stream",
     "text": [
      "D:\\Anaconda\\lib\\site-packages\\seaborn\\_decorators.py:36: FutureWarning: Pass the following variables as keyword args: x, y. From version 0.12, the only valid positional argument will be `data`, and passing other arguments without an explicit keyword will result in an error or misinterpretation.\n",
      "  warnings.warn(\n"
     ]
    },
    {
     "data": {
      "text/plain": [
       "Text(0.5, 0, 'No. of Publications')"
      ]
     },
     "execution_count": 74,
     "metadata": {},
     "output_type": "execute_result"
    },
    {
     "data": {
      "image/png": "[encoded data removed]",
      "text/plain": [
       "<Figure size 432x288 with 1 Axes>"
      ]
     },
     "metadata": {
      "needs_background": "light"
     },
     "output_type": "display_data"
    }
   ],
   "source": [
    "# authors with highest publications\n",
    "top_authors = data['authors'].value_counts().head(9)\n",
    "sns.barplot(top_authors, top_authors.index)\n",
    "plt.title('Authors with Highest Publication Count')\n",
    "plt.xlabel('No. of Publications')"
   ]
  },
  {
   "cell_type": "markdown",
   "metadata": {},
   "source": [
    "## Data Cleaning and Feature Engineering"
   ]
  },
  {
   "cell_type": "code",
   "execution_count": 199,
   "metadata": {},
   "outputs": [],
   "source": [
    "from sklearn.preprocessing import OrdinalEncoder\n",
    "from sklearn.preprocessing import LabelEncoder\n",
    "#first unify the english language\n",
    "encoding = {'language_code':{'en-US': 'eng', 'en-GB': 'eng', 'en-CA': 'eng'}}\n",
    "data.replace(encoding,inplace=True)\n",
    "\n",
    "#then convert categorical feartures into ordinal integers\n",
    "enc = OrdinalEncoder()\n",
    "enc.fit(data[['language_code']])\n",
    "data[['language_code']] = enc.fit_transform(data[['language_code']])"
   ]
  },
  {
   "cell_type": "code",
   "execution_count": 200,
   "metadata": {},
   "outputs": [],
   "source": [
    "# convert data type of publication_date from object into date type\n",
    "data['publication_date'] = pd.to_datetime(df['publication_date'], format='%m/%d/%Y', errors='coerce') "
   ]
  },
  {
   "cell_type": "code",
   "execution_count": 201,
   "metadata": {},
   "outputs": [],
   "source": [
    "#encode title column\n",
    "le = LabelEncoder()\n",
    "data['title'] = le.fit_transform(data['title'])"
   ]
  },
  {
   "cell_type": "code",
   "execution_count": 202,
   "metadata": {},
   "outputs": [],
   "source": [
    "#encode authors column\n",
    "data['authors'] = le.fit_transform(data['authors'])"
   ]
  },
  {
   "cell_type": "code",
   "execution_count": 203,
   "metadata": {},
   "outputs": [],
   "source": [
    "#encode publisher\n",
    "data['publisher'] = le.fit_transform(data['publisher'])"
   ]
  },
  {
   "cell_type": "code",
   "execution_count": 204,
   "metadata": {},
   "outputs": [],
   "source": [
    "#encode pubilication_date\n",
    "data['publication_date'] = le.fit_transform(data['publication_date'])"
   ]
  },
  {
   "cell_type": "code",
   "execution_count": 205,
   "metadata": {},
   "outputs": [
    {
     "data": {
      "text/html": [
       "<div>\n",
       "<style scoped>\n",
       "    .dataframe tbody tr th:only-of-type {\n",
       "        vertical-align: middle;\n",
       "    }\n",
       "\n",
       "    .dataframe tbody tr th {\n",
       "        vertical-align: top;\n",
       "    }\n",
       "\n",
       "    .dataframe thead th {\n",
       "        text-align: right;\n",
       "    }\n",
       "</style>\n",
       "<table border=\"1\" class=\"dataframe\">\n",
       "  <thead>\n",
       "    <tr style=\"text-align: right;\">\n",
       "      <th></th>\n",
       "      <th>bookID</th>\n",
       "      <th>title</th>\n",
       "      <th>authors</th>\n",
       "      <th>average_rating</th>\n",
       "      <th>isbn</th>\n",
       "      <th>isbn13</th>\n",
       "      <th>language_code</th>\n",
       "      <th>num_pages</th>\n",
       "      <th>ratings_count</th>\n",
       "      <th>text_reviews_count</th>\n",
       "      <th>publication_date</th>\n",
       "      <th>publisher</th>\n",
       "    </tr>\n",
       "  </thead>\n",
       "  <tbody>\n",
       "    <tr>\n",
       "      <th>0</th>\n",
       "      <td>8253</td>\n",
       "      <td>3734</td>\n",
       "      <td>3399</td>\n",
       "      <td>4.19</td>\n",
       "      <td>0060885432</td>\n",
       "      <td>9780060885434</td>\n",
       "      <td>1.0</td>\n",
       "      <td>374</td>\n",
       "      <td>71853</td>\n",
       "      <td>646</td>\n",
       "      <td>3161</td>\n",
       "      <td>865</td>\n",
       "    </tr>\n",
       "    <tr>\n",
       "      <th>1</th>\n",
       "      <td>11101</td>\n",
       "      <td>2331</td>\n",
       "      <td>883</td>\n",
       "      <td>3.81</td>\n",
       "      <td>0380818957</td>\n",
       "      <td>9780380818952</td>\n",
       "      <td>1.0</td>\n",
       "      <td>384</td>\n",
       "      <td>1051</td>\n",
       "      <td>47</td>\n",
       "      <td>2031</td>\n",
       "      <td>157</td>\n",
       "    </tr>\n",
       "    <tr>\n",
       "      <th>2</th>\n",
       "      <td>28193</td>\n",
       "      <td>9012</td>\n",
       "      <td>970</td>\n",
       "      <td>3.76</td>\n",
       "      <td>043978204X</td>\n",
       "      <td>9780439782043</td>\n",
       "      <td>1.0</td>\n",
       "      <td>167</td>\n",
       "      <td>1840</td>\n",
       "      <td>245</td>\n",
       "      <td>3102</td>\n",
       "      <td>371</td>\n",
       "    </tr>\n",
       "    <tr>\n",
       "      <th>3</th>\n",
       "      <td>25047</td>\n",
       "      <td>6304</td>\n",
       "      <td>2578</td>\n",
       "      <td>3.83</td>\n",
       "      <td>0439114284</td>\n",
       "      <td>9780439114288</td>\n",
       "      <td>1.0</td>\n",
       "      <td>80</td>\n",
       "      <td>162</td>\n",
       "      <td>11</td>\n",
       "      <td>1862</td>\n",
       "      <td>1672</td>\n",
       "    </tr>\n",
       "    <tr>\n",
       "      <th>4</th>\n",
       "      <td>17800</td>\n",
       "      <td>1576</td>\n",
       "      <td>2128</td>\n",
       "      <td>4.04</td>\n",
       "      <td>0099448769</td>\n",
       "      <td>9780099448761</td>\n",
       "      <td>1.0</td>\n",
       "      <td>393</td>\n",
       "      <td>50169</td>\n",
       "      <td>2117</td>\n",
       "      <td>2053</td>\n",
       "      <td>2008</td>\n",
       "    </tr>\n",
       "  </tbody>\n",
       "</table>\n",
       "</div>"
      ],
      "text/plain": [
       "   bookID  title  authors  average_rating        isbn         isbn13  \\\n",
       "0    8253   3734     3399            4.19  0060885432  9780060885434   \n",
       "1   11101   2331      883            3.81  0380818957  9780380818952   \n",
       "2   28193   9012      970            3.76  043978204X  9780439782043   \n",
       "3   25047   6304     2578            3.83  0439114284  9780439114288   \n",
       "4   17800   1576     2128            4.04  0099448769  9780099448761   \n",
       "\n",
       "   language_code    num_pages  ratings_count  text_reviews_count  \\\n",
       "0            1.0          374          71853                 646   \n",
       "1            1.0          384           1051                  47   \n",
       "2            1.0          167           1840                 245   \n",
       "3            1.0           80            162                  11   \n",
       "4            1.0          393          50169                2117   \n",
       "\n",
       "   publication_date  publisher  \n",
       "0              3161        865  \n",
       "1              2031        157  \n",
       "2              3102        371  \n",
       "3              1862       1672  \n",
       "4              2053       2008  "
      ]
     },
     "execution_count": 205,
     "metadata": {},
     "output_type": "execute_result"
    }
   ],
   "source": [
    "data.head(5)"
   ]
  },
  {
   "cell_type": "markdown",
   "metadata": {},
   "source": [
    "## Creating Model"
   ]
  },
  {
   "cell_type": "code",
   "execution_count": 206,
   "metadata": {},
   "outputs": [],
   "source": [
    "X = data.drop(['bookID','average_rating','isbn','isbn13','publication_date'],axis = 1)\n",
    "y = data['average_rating']"
   ]
  },
  {
   "cell_type": "code",
   "execution_count": 207,
   "metadata": {},
   "outputs": [
    {
     "data": {
      "text/html": [
       "<div>\n",
       "<style scoped>\n",
       "    .dataframe tbody tr th:only-of-type {\n",
       "        vertical-align: middle;\n",
       "    }\n",
       "\n",
       "    .dataframe tbody tr th {\n",
       "        vertical-align: top;\n",
       "    }\n",
       "\n",
       "    .dataframe thead th {\n",
       "        text-align: right;\n",
       "    }\n",
       "</style>\n",
       "<table border=\"1\" class=\"dataframe\">\n",
       "  <thead>\n",
       "    <tr style=\"text-align: right;\">\n",
       "      <th></th>\n",
       "      <th>title</th>\n",
       "      <th>authors</th>\n",
       "      <th>language_code</th>\n",
       "      <th>num_pages</th>\n",
       "      <th>ratings_count</th>\n",
       "      <th>text_reviews_count</th>\n",
       "      <th>publisher</th>\n",
       "    </tr>\n",
       "  </thead>\n",
       "  <tbody>\n",
       "    <tr>\n",
       "      <th>0</th>\n",
       "      <td>3734</td>\n",
       "      <td>3399</td>\n",
       "      <td>1.0</td>\n",
       "      <td>374</td>\n",
       "      <td>71853</td>\n",
       "      <td>646</td>\n",
       "      <td>865</td>\n",
       "    </tr>\n",
       "    <tr>\n",
       "      <th>1</th>\n",
       "      <td>2331</td>\n",
       "      <td>883</td>\n",
       "      <td>1.0</td>\n",
       "      <td>384</td>\n",
       "      <td>1051</td>\n",
       "      <td>47</td>\n",
       "      <td>157</td>\n",
       "    </tr>\n",
       "    <tr>\n",
       "      <th>2</th>\n",
       "      <td>9012</td>\n",
       "      <td>970</td>\n",
       "      <td>1.0</td>\n",
       "      <td>167</td>\n",
       "      <td>1840</td>\n",
       "      <td>245</td>\n",
       "      <td>371</td>\n",
       "    </tr>\n",
       "    <tr>\n",
       "      <th>3</th>\n",
       "      <td>6304</td>\n",
       "      <td>2578</td>\n",
       "      <td>1.0</td>\n",
       "      <td>80</td>\n",
       "      <td>162</td>\n",
       "      <td>11</td>\n",
       "      <td>1672</td>\n",
       "    </tr>\n",
       "    <tr>\n",
       "      <th>4</th>\n",
       "      <td>1576</td>\n",
       "      <td>2128</td>\n",
       "      <td>1.0</td>\n",
       "      <td>393</td>\n",
       "      <td>50169</td>\n",
       "      <td>2117</td>\n",
       "      <td>2008</td>\n",
       "    </tr>\n",
       "  </tbody>\n",
       "</table>\n",
       "</div>"
      ],
      "text/plain": [
       "   title  authors  language_code    num_pages  ratings_count  \\\n",
       "0   3734     3399            1.0          374          71853   \n",
       "1   2331      883            1.0          384           1051   \n",
       "2   9012      970            1.0          167           1840   \n",
       "3   6304     2578            1.0           80            162   \n",
       "4   1576     2128            1.0          393          50169   \n",
       "\n",
       "   text_reviews_count  publisher  \n",
       "0                 646        865  \n",
       "1                  47        157  \n",
       "2                 245        371  \n",
       "3                  11       1672  \n",
       "4                2117       2008  "
      ]
     },
     "execution_count": 207,
     "metadata": {},
     "output_type": "execute_result"
    }
   ],
   "source": [
    "X.head(5)"
   ]
  },
  {
   "cell_type": "code",
   "execution_count": 208,
   "metadata": {},
   "outputs": [
    {
     "data": {
      "text/plain": [
       "0    4.19\n",
       "1    3.81\n",
       "2    3.76\n",
       "3    3.83\n",
       "4    4.04\n",
       "Name: average_rating, dtype: float64"
      ]
     },
     "execution_count": 208,
     "metadata": {},
     "output_type": "execute_result"
    }
   ],
   "source": [
    "y.head(5)"
   ]
  },
  {
   "cell_type": "code",
   "execution_count": 209,
   "metadata": {},
   "outputs": [],
   "source": [
    "X_train, X_test, y_train, y_test = train_test_split(X, y, test_size = 0.25, random_state = 10)"
   ]
  },
  {
   "cell_type": "code",
   "execution_count": 210,
   "metadata": {},
   "outputs": [
    {
     "data": {
      "text/plain": [
       "LinearRegression()"
      ]
     },
     "execution_count": 210,
     "metadata": {},
     "output_type": "execute_result"
    }
   ],
   "source": [
    "from sklearn.linear_model import LinearRegression\n",
    "lr = LinearRegression()\n",
    "lr.fit(X_train, y_train)"
   ]
  },
  {
   "cell_type": "code",
   "execution_count": 211,
   "metadata": {},
   "outputs": [],
   "source": [
    "predictions = lr.predict(X_test)"
   ]
  },
  {
   "cell_type": "code",
   "execution_count": 212,
   "metadata": {},
   "outputs": [
    {
     "data": {
      "text/html": [
       "<div>\n",
       "<style scoped>\n",
       "    .dataframe tbody tr th:only-of-type {\n",
       "        vertical-align: middle;\n",
       "    }\n",
       "\n",
       "    .dataframe tbody tr th {\n",
       "        vertical-align: top;\n",
       "    }\n",
       "\n",
       "    .dataframe thead th {\n",
       "        text-align: right;\n",
       "    }\n",
       "</style>\n",
       "<table border=\"1\" class=\"dataframe\">\n",
       "  <thead>\n",
       "    <tr style=\"text-align: right;\">\n",
       "      <th></th>\n",
       "      <th>Actual</th>\n",
       "      <th>Predicted</th>\n",
       "    </tr>\n",
       "  </thead>\n",
       "  <tbody>\n",
       "    <tr>\n",
       "      <th>0</th>\n",
       "      <td>3.93</td>\n",
       "      <td>3.959233</td>\n",
       "    </tr>\n",
       "    <tr>\n",
       "      <th>1</th>\n",
       "      <td>3.86</td>\n",
       "      <td>3.929873</td>\n",
       "    </tr>\n",
       "    <tr>\n",
       "      <th>2</th>\n",
       "      <td>3.48</td>\n",
       "      <td>3.909017</td>\n",
       "    </tr>\n",
       "    <tr>\n",
       "      <th>3</th>\n",
       "      <td>3.63</td>\n",
       "      <td>3.887137</td>\n",
       "    </tr>\n",
       "    <tr>\n",
       "      <th>4</th>\n",
       "      <td>3.56</td>\n",
       "      <td>3.912388</td>\n",
       "    </tr>\n",
       "    <tr>\n",
       "      <th>5</th>\n",
       "      <td>4.32</td>\n",
       "      <td>3.901829</td>\n",
       "    </tr>\n",
       "    <tr>\n",
       "      <th>6</th>\n",
       "      <td>3.92</td>\n",
       "      <td>3.948370</td>\n",
       "    </tr>\n",
       "    <tr>\n",
       "      <th>7</th>\n",
       "      <td>4.08</td>\n",
       "      <td>3.876768</td>\n",
       "    </tr>\n",
       "    <tr>\n",
       "      <th>8</th>\n",
       "      <td>4.11</td>\n",
       "      <td>3.934666</td>\n",
       "    </tr>\n",
       "    <tr>\n",
       "      <th>9</th>\n",
       "      <td>3.70</td>\n",
       "      <td>3.934843</td>\n",
       "    </tr>\n",
       "  </tbody>\n",
       "</table>\n",
       "</div>"
      ],
      "text/plain": [
       "   Actual  Predicted\n",
       "0    3.93   3.959233\n",
       "1    3.86   3.929873\n",
       "2    3.48   3.909017\n",
       "3    3.63   3.887137\n",
       "4    3.56   3.912388\n",
       "5    4.32   3.901829\n",
       "6    3.92   3.948370\n",
       "7    4.08   3.876768\n",
       "8    4.11   3.934666\n",
       "9    3.70   3.934843"
      ]
     },
     "execution_count": 212,
     "metadata": {},
     "output_type": "execute_result"
    }
   ],
   "source": [
    "pred = pd.DataFrame({'Actual': y_test.tolist(), 'Predicted': predictions.tolist()}).head(25)\n",
    "pred.head(10)"
   ]
  },
  {
   "cell_type": "code",
   "execution_count": 213,
   "metadata": {},
   "outputs": [
    {
     "name": "stdout",
     "output_type": "stream",
     "text": [
      "MAE: 0.22532615556517335\n",
      "MSE: 0.11285719287847736\n",
      "RMSE: 0.3359422463437389\n"
     ]
    }
   ],
   "source": [
    "# evaluate the performance of the algorithm\n",
    "from sklearn import metrics\n",
    "print('MAE:', metrics.mean_absolute_error(y_test, predictions))#平均绝对误差\n",
    "print('MSE:', metrics.mean_squared_error(y_test, predictions))#均方误差\n",
    "print('RMSE:', np.sqrt(metrics.mean_squared_error(y_test, predictions)))#均方根误差"
   ]
  }
 ],
 "metadata": {
  "kernelspec": {
   "display_name": "Python 3",
   "language": "python",
   "name": "python3"
  },
  "language_info": {
   "codemirror_mode": {
    "name": "ipython",
    "version": 3
   },
   "file_extension": ".py",
   "mimetype": "text/x-python",
   "name": "python",
   "nbconvert_exporter": "python",
   "pygments_lexer": "ipython3",
   "version": "3.8.5"
  }
 },
 "nbformat": 4,
 "nbformat_minor": 4
}
