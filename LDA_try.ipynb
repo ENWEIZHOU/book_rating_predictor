{
 "cells": [
  {
   "cell_type": "code",
   "execution_count": 269,
   "metadata": {},
   "outputs": [],
   "source": [
    "import numpy as np # linear algerbra\n",
    "import pandas as pd # data processing"
   ]
  },
  {
   "cell_type": "code",
   "execution_count": null,
   "metadata": {},
   "outputs": [],
   "source": []
  },
  {
   "cell_type": "code",
   "execution_count": 270,
   "metadata": {},
   "outputs": [
    {
     "data": {
      "text/html": [
       "<div>\n",
       "<style scoped>\n",
       "    .dataframe tbody tr th:only-of-type {\n",
       "        vertical-align: middle;\n",
       "    }\n",
       "\n",
       "    .dataframe tbody tr th {\n",
       "        vertical-align: top;\n",
       "    }\n",
       "\n",
       "    .dataframe thead th {\n",
       "        text-align: right;\n",
       "    }\n",
       "</style>\n",
       "<table border=\"1\" class=\"dataframe\">\n",
       "  <thead>\n",
       "    <tr style=\"text-align: right;\">\n",
       "      <th></th>\n",
       "      <th>bookID</th>\n",
       "      <th>title</th>\n",
       "      <th>authors</th>\n",
       "      <th>average_rating</th>\n",
       "      <th>isbn</th>\n",
       "      <th>isbn13</th>\n",
       "      <th>language_code</th>\n",
       "      <th>num_pages</th>\n",
       "      <th>ratings_count</th>\n",
       "      <th>text_reviews_count</th>\n",
       "      <th>publication_date</th>\n",
       "      <th>publisher</th>\n",
       "    </tr>\n",
       "  </thead>\n",
       "  <tbody>\n",
       "    <tr>\n",
       "      <th>0</th>\n",
       "      <td>8253</td>\n",
       "      <td>Little Town on the Prairie  (Little House  #7)</td>\n",
       "      <td>Laura Ingalls Wilder/Garth Williams</td>\n",
       "      <td>4.19</td>\n",
       "      <td>0060885432</td>\n",
       "      <td>9780060885434</td>\n",
       "      <td>eng</td>\n",
       "      <td>374</td>\n",
       "      <td>71853</td>\n",
       "      <td>646</td>\n",
       "      <td>1/1/2007</td>\n",
       "      <td>HarperTrophy</td>\n",
       "    </tr>\n",
       "    <tr>\n",
       "      <th>1</th>\n",
       "      <td>11101</td>\n",
       "      <td>First Comes Love (Hot Water  California #1)</td>\n",
       "      <td>Christie Ridgway</td>\n",
       "      <td>3.81</td>\n",
       "      <td>0380818957</td>\n",
       "      <td>9780380818952</td>\n",
       "      <td>en-US</td>\n",
       "      <td>384</td>\n",
       "      <td>1051</td>\n",
       "      <td>47</td>\n",
       "      <td>1/1/2002</td>\n",
       "      <td>Avon Books</td>\n",
       "    </tr>\n",
       "    <tr>\n",
       "      <th>2</th>\n",
       "      <td>28193</td>\n",
       "      <td>When Santa Fell to Earth</td>\n",
       "      <td>Cornelia Funke/Paul   Howard/Oliver G. Latsch</td>\n",
       "      <td>3.76</td>\n",
       "      <td>043978204X</td>\n",
       "      <td>9780439782043</td>\n",
       "      <td>eng</td>\n",
       "      <td>167</td>\n",
       "      <td>1840</td>\n",
       "      <td>245</td>\n",
       "      <td>10/1/2006</td>\n",
       "      <td>Chicken House / Scholastic</td>\n",
       "    </tr>\n",
       "    <tr>\n",
       "      <th>3</th>\n",
       "      <td>25047</td>\n",
       "      <td>The Case of the Stinky Science Project (Jigsaw...</td>\n",
       "      <td>James Preller/John Speirs/James Preller</td>\n",
       "      <td>3.83</td>\n",
       "      <td>0439114284</td>\n",
       "      <td>9780439114288</td>\n",
       "      <td>en-US</td>\n",
       "      <td>80</td>\n",
       "      <td>162</td>\n",
       "      <td>11</td>\n",
       "      <td>3/1/2001</td>\n",
       "      <td>Scholastic Paperbacks</td>\n",
       "    </tr>\n",
       "    <tr>\n",
       "      <th>4</th>\n",
       "      <td>17800</td>\n",
       "      <td>Dance Dance Dance</td>\n",
       "      <td>Haruki Murakami</td>\n",
       "      <td>4.04</td>\n",
       "      <td>0099448769</td>\n",
       "      <td>9780099448761</td>\n",
       "      <td>eng</td>\n",
       "      <td>393</td>\n",
       "      <td>50169</td>\n",
       "      <td>2117</td>\n",
       "      <td>2/7/2002</td>\n",
       "      <td>Vintage</td>\n",
       "    </tr>\n",
       "  </tbody>\n",
       "</table>\n",
       "</div>"
      ],
      "text/plain": [
       "   bookID                                              title  \\\n",
       "0    8253     Little Town on the Prairie  (Little House  #7)   \n",
       "1   11101        First Comes Love (Hot Water  California #1)   \n",
       "2   28193                           When Santa Fell to Earth   \n",
       "3   25047  The Case of the Stinky Science Project (Jigsaw...   \n",
       "4   17800                                  Dance Dance Dance   \n",
       "\n",
       "                                         authors  average_rating        isbn  \\\n",
       "0            Laura Ingalls Wilder/Garth Williams            4.19  0060885432   \n",
       "1                               Christie Ridgway            3.81  0380818957   \n",
       "2  Cornelia Funke/Paul   Howard/Oliver G. Latsch            3.76  043978204X   \n",
       "3        James Preller/John Speirs/James Preller            3.83  0439114284   \n",
       "4                                Haruki Murakami            4.04  0099448769   \n",
       "\n",
       "          isbn13 language_code    num_pages  ratings_count  \\\n",
       "0  9780060885434           eng          374          71853   \n",
       "1  9780380818952         en-US          384           1051   \n",
       "2  9780439782043           eng          167           1840   \n",
       "3  9780439114288         en-US           80            162   \n",
       "4  9780099448761           eng          393          50169   \n",
       "\n",
       "   text_reviews_count publication_date                   publisher  \n",
       "0                 646         1/1/2007                HarperTrophy  \n",
       "1                  47         1/1/2002                  Avon Books  \n",
       "2                 245        10/1/2006  Chicken House / Scholastic  \n",
       "3                  11         3/1/2001       Scholastic Paperbacks  \n",
       "4                2117         2/7/2002                     Vintage  "
      ]
     },
     "execution_count": 270,
     "metadata": {},
     "output_type": "execute_result"
    }
   ],
   "source": [
    "data = pd.read_csv('data/Train_data.csv', error_bad_lines = False)\n",
    "data.head(5)"
   ]
  },
  {
   "cell_type": "code",
   "execution_count": 271,
   "metadata": {},
   "outputs": [
    {
     "name": "stderr",
     "output_type": "stream",
     "text": [
      "D:\\winPython\\WPy64-3740\\python-3.7.4.amd64\\lib\\site-packages\\ipykernel_launcher.py:20: SettingWithCopyWarning: \n",
      "A value is trying to be set on a copy of a slice from a DataFrame\n",
      "\n",
      "See the caveats in the documentation: http://pandas.pydata.org/pandas-docs/stable/indexing.html#indexing-view-versus-copy\n"
     ]
    },
    {
     "name": "stdout",
     "output_type": "stream",
     "text": [
      "0                little town on the prairie little house \n",
      "1                  first comes love hot water california \n",
      "2                               when santa fell to earth \n",
      "3       the case of the stinky science project jigsaw ...\n",
      "4                                      dance dance dance \n",
      "5       the tolkien companion and guide volume reader ...\n",
      "6       mapping the big picture integrating curriculum...\n",
      "7       the burglar who thought he was bogart bernie r...\n",
      "8       the prime of miss jean brodie the girls of sle...\n",
      "9                     desperation the regulators box set \n",
      "10      breaking the spell religion as a natural pheno...\n",
      "11                                            prime time \n",
      "12                           i love saturdays y domingos \n",
      "13                            christmas in noisy village \n",
      "14      in search of memory the emergence of a new sci...\n",
      "15                                 the wapshot chronicle \n",
      "16                        the gardens of emily dickinson \n",
      "17                                         gates of fire \n",
      "18      the drama of the gifted child the search for t...\n",
      "19      buenos presagios las buenas y ajustadas de agn...\n",
      "20                                      my sister keeper \n",
      "21                                     it ca happen here \n",
      "22                     the english novel an introduction \n",
      "23                                     not of woman born \n",
      "24                                      call of the moon \n",
      "25      roger zelazny to rule in amber the dawn of amber \n",
      "26                                    the discovery dive \n",
      "27                              the rise of christianity \n",
      "28                                a stranger came ashore \n",
      "29                           four weddings and a funeral \n",
      "                              ...                        \n",
      "9970                     maigret and the headless corpse \n",
      "9971                     a garden of vipers carson ryder \n",
      "9972                                   edie girl on fire \n",
      "9973                    wild card tom clancy power plays \n",
      "9974     treasure island off to sea easy reader classics \n",
      "9975                                the complete stories \n",
      "9976      in favor of the sensitive man and other essays \n",
      "9977                                     the beach house \n",
      "9978                              the naked and the dead \n",
      "9979         the name of the rose everyman library cloth \n",
      "9980                      deep fire rising philip mercer \n",
      "9981                    the da vinci code robert langdon \n",
      "9982                                        the republic \n",
      "9983                      climax of the thirty years war \n",
      "9984                               ennead iv plotinus iv \n",
      "9985                                    quimby the mouse \n",
      "9986       the complete greek tragedies volume aeschylus \n",
      "9987                  geisha the life the voices the art \n",
      "9988                       the life of graham greene vol \n",
      "9989                                      girls night in \n",
      "9990                                       a happy death \n",
      "9991                                                     \n",
      "9992                         the scarlet gang of asakusa \n",
      "9993                                       the foundling \n",
      "9994                                    selected stories \n",
      "9995                                  bulfinch mythology \n",
      "9996                                    the white castle \n",
      "9997                                         a fan notes \n",
      "9998                        la ciudad perdida numa files \n",
      "9999                       the church and the second sex \n",
      "Name: cleaned_title, Length: 10000, dtype: object\n"
     ]
    }
   ],
   "source": [
    "import nltk\n",
    "# token_title = nltk.tokenize.word_tokenize(data['title'][0])\n",
    "# token_title_without_symbol = [w for w in token_title if w in re.sub(\"[^a-zA-Z]\", \" \", w)]\n",
    "# string_title=\"\"\n",
    "# for i in token_title_without_symbol:\n",
    "#     string_title += i+\" \"\n",
    "\n",
    "# # remo1 = 'Little Town on the Prairie Little House'\n",
    "# print(string_title)\n",
    "# print(data['title'][0].split(' '))\n",
    "# data['tokenized_title'][0] = data['title'][0]\n",
    "data['cleaned_title']=data['title']\n",
    "for i in range(0, len(data)):\n",
    "    token_title = nltk.tokenize.word_tokenize(data['title'][i])\n",
    "    token_title_without_symbol = [w for w in token_title if w in re.sub(\"[^a-zA-Z]\", \" \", w)]\n",
    "    string_title=\"\"\n",
    "    for j in token_title_without_symbol:\n",
    "        string_title += j+\" \"\n",
    "    string_title = string_title.lower()\n",
    "    data['cleaned_title'][i] = string_title \n",
    "# data['tokenized_title'] =data['title']\n",
    "# data['tokenized_title'] =data['tokenized_title'].apply(nltk.tokenize.word_tokenize())\n",
    "print(data['cleaned_title'])"
   ]
  },
  {
   "cell_type": "code",
   "execution_count": 64,
   "metadata": {},
   "outputs": [],
   "source": [
    "# from sklearn.feature_extraction.text import CountVectorizer\n",
    "# corpus = data['title']"
   ]
  },
  {
   "cell_type": "code",
   "execution_count": 272,
   "metadata": {},
   "outputs": [],
   "source": [
    "import re\n",
    "from nltk.corpus import stopwords\n",
    "from nltk.stem import SnowballStemmer\n",
    "\n",
    "# stemmer = SnowballStemmer('english')\n",
    "words = stopwords.words('english')\n",
    "data['cleaned_title'] = data['cleaned_title'].apply(lambda x:\" \".join([i for i in re.sub(\"[^a-zA-Z]\",\" \",x).split() if i not in words]))"
   ]
  },
  {
   "cell_type": "code",
   "execution_count": 180,
   "metadata": {},
   "outputs": [],
   "source": [
    "# print(data['cleaned_title'])\n",
    "# print(words)\n",
    "# cntVector = CountVectorizer(stop_words=stopwords)"
   ]
  },
  {
   "cell_type": "code",
   "execution_count": 273,
   "metadata": {},
   "outputs": [],
   "source": [
    "from sklearn.feature_extraction.text import CountVectorizer\n",
    "corpus = [i for i in data['cleaned_title']]\n",
    "# print(corpus)\n",
    "cntVector=CountVectorizer()\n",
    "cntTF=cntVector.fit_transform(corpus)\n",
    "# print(cntTF[3])"
   ]
  },
  {
   "cell_type": "code",
   "execution_count": 274,
   "metadata": {},
   "outputs": [],
   "source": [
    "from sklearn.decomposition import LatentDirichletAllocation\n",
    "#参数可调n_componenets是对于一个title生成几个可能的主题，max_itr迭代次数\n",
    "lda = LatentDirichletAllocation(n_components =3, max_iter=5,\n",
    "                                learning_method='online',\n",
    "                                learning_offset=50.,\n",
    "                                random_state=0)\n",
    "docres = lda.fit_transform(cntTF)"
   ]
  },
  {
   "cell_type": "code",
   "execution_count": 279,
   "metadata": {},
   "outputs": [
    {
     "name": "stdout",
     "output_type": "stream",
     "text": [
      "2\n"
     ]
    }
   ],
   "source": [
    "# feature_names = lda.get_feature_names(cntTF)\n",
    "#  = lda.get_feature_names(cntTF)\n",
    "# print(docres[0].index(max(docres[0])))\n",
    "# temp = docres[0].tolist()\n",
    "# print(temp.index(max(temp)))\n",
    "# print(cntTF[9999][0])\n",
    "# print(len(lda.components_[0]))\n",
    "# print(cntVector)\n",
    "\n",
    "#每个title会有n个可能的主题，选出中最可能的那一个主题，返回主题的index作为feature\n",
    "topics_for_each_title = []\n",
    "for i in range(0, len(data)):\n",
    "    temp = docres[i].tolist()\n",
    "    topic = temp.index(max(temp))\n",
    "    topics_for_each_title.append(topic)\n",
    "# print(topics_for_each_title)\n",
    "#这里开始是把这个feature加到dataFrame中作为一个feature\n",
    "data['title_topic'] = topics_for_each_title\n",
    "print(data['title_topic'])"
   ]
  },
  {
   "cell_type": "code",
   "execution_count": 46,
   "metadata": {},
   "outputs": [],
   "source": [
    "# import jieba\n",
    "# def word_cut(mytext):\n",
    "#     return \" \".join(jieba.cut(mytext))"
   ]
  },
  {
   "cell_type": "code",
   "execution_count": 47,
   "metadata": {},
   "outputs": [],
   "source": [
    "# data[\"title_cutted\"] = data[\"title\"].apply(word_cut)"
   ]
  },
  {
   "cell_type": "code",
   "execution_count": 48,
   "metadata": {},
   "outputs": [],
   "source": [
    "#data[\"title_cutted\"] = ''.join(data['title'].str.replace('(','').str.replace(')','').str.split())"
   ]
  },
  {
   "cell_type": "code",
   "execution_count": 49,
   "metadata": {},
   "outputs": [
    {
     "data": {
      "text/plain": [
       "0    Little   Town   on   the   Prairie     ( Littl...\n",
       "1    First   Comes   Love   ( Hot   Water     Calif...\n",
       "2                     When   Santa   Fell   to   Earth\n",
       "3    The   Case   of   the   Stinky   Science   Pro...\n",
       "4                                Dance   Dance   Dance\n",
       "Name: title_cutted, dtype: object"
      ]
     },
     "execution_count": 49,
     "metadata": {},
     "output_type": "execute_result"
    }
   ],
   "source": [
    "# data[\"title_cutted\"].head(5)"
   ]
  },
  {
   "cell_type": "code",
   "execution_count": 50,
   "metadata": {},
   "outputs": [],
   "source": [
    "# data[\"title_cutted\"] = data[\"title_cutted\"].str.replace('(','').str.replace(')','')"
   ]
  },
  {
   "cell_type": "code",
   "execution_count": 51,
   "metadata": {},
   "outputs": [
    {
     "data": {
      "text/plain": [
       "0    Little   Town   on   the   Prairie      Little...\n",
       "1    First   Comes   Love    Hot   Water     Califo...\n",
       "2                     When   Santa   Fell   to   Earth\n",
       "3    The   Case   of   the   Stinky   Science   Pro...\n",
       "4                                Dance   Dance   Dance\n",
       "Name: title_cutted, dtype: object"
      ]
     },
     "execution_count": 51,
     "metadata": {},
     "output_type": "execute_result"
    }
   ],
   "source": [
    "# data[\"title_cutted\"].head(5)"
   ]
  },
  {
   "cell_type": "code",
   "execution_count": 52,
   "metadata": {},
   "outputs": [
    {
     "data": {
      "text/plain": [
       "0       Little   Town   on   the   Prairie      Little...\n",
       "1       First   Comes   Love    Hot   Water     Califo...\n",
       "2                        When   Santa   Fell   to   Earth\n",
       "3       The   Case   of   the   Stinky   Science   Pro...\n",
       "4                                   Dance   Dance   Dance\n",
       "5       The   J . R . R .   Tolkien   Companion   and ...\n",
       "6       Mapping   the   Big   Picture :   Integrating ...\n",
       "7       The   Burglar   Who   Thought   He   Was   Bog...\n",
       "8       The   Prime   of   Miss   Jean   Brodie   /   ...\n",
       "9        Desperation   /   The   Regulators :   Box   Set\n",
       "10      Breaking   the   Spell :   Religion   as   a  ...\n",
       "11                                           Prime   Time\n",
       "12                    I   Love   Saturdays   y   domingos\n",
       "13                       Christmas   in   Noisy   Village\n",
       "14      In   Search   of   Memory :   The   Emergence ...\n",
       "15                              The   Wapshot   Chronicle\n",
       "16                 The   Gardens   of   Emily   Dickinson\n",
       "17                                      Gates   of   Fire\n",
       "18      The   Drama   of   the   Gifted   Child :   Th...\n",
       "19      Buenos   Presagios :   las   buenas   y   ajus...\n",
       "20                               My   Sister ' s   Keeper\n",
       "21                           It   Can ' t   Happen   Here\n",
       "22            The   English   Novel :   An   Introduction\n",
       "23                                Not   of   Woman   Born\n",
       "24                                 Call   of   the   Moon\n",
       "25      Roger   Zelazny ' s   To   Rule   in   Amber  ...\n",
       "26                       The   Discovery    Dive     # 1 \n",
       "27                         The   Rise   of   Christianity\n",
       "28                           A   Stranger   Came   Ashore\n",
       "29                    Four   Weddings   and   a   Funeral\n",
       "                              ...                        \n",
       "9970              Maigret   and   the   Headless   Corpse\n",
       "9971    A   Garden   Of   Vipers    Carson   Ryder    ...\n",
       "9972                            Edie :   Girl   on   Fire\n",
       "9973    Wild   Card    Tom   Clancy ' s   Power   Play...\n",
       "9974    Treasure   Island   # 2 :   Off   to   Sea    ...\n",
       "9975                             The   Complete   Stories\n",
       "9976    In   Favor   of   the   Sensitive   Man   and ...\n",
       "9977                                  The   Beach   House\n",
       "9978                       The   Naked   and   the   Dead\n",
       "9979    The   Name   of   the   Rose    Everyman ' s  ...\n",
       "9980     Deep   Fire   Rising    Philip   Mercer     # 6 \n",
       "9981    The   Da   Vinci   Code    Robert   Langdon   ...\n",
       "9982                                       The   Republic\n",
       "9983    L ü tzen   1632   :   climax   of   the   Thir...\n",
       "9984                        Ennead   IV    Plotinus   IV \n",
       "9985                                 Quimby   The   Mouse\n",
       "9986    The   Complete   Greek   Tragedies     Volume ...\n",
       "9987    Geisha :   The   Life     the   Voices     the...\n",
       "9988    The   Life   of   Graham   Greene     Vol .   ...\n",
       "9989                                 Girls '   Night   In\n",
       "9990                                    A   Happy   Death\n",
       "9991                                        L ' É tranger\n",
       "9992                  The   Scarlet   Gang   of   Asakusa\n",
       "9993                                      The   Foundling\n",
       "9994                                   Selected   Stories\n",
       "9995                             Bulfinch ' s   Mythology\n",
       "9996                                 The   White   Castle\n",
       "9997                                  A   Fan ' s   Notes\n",
       "9998       La   Ciudad   Perdida    NUMA   Files     # 5 \n",
       "9999              The   Church   and   the   Second   Sex\n",
       "Name: title_cutted, Length: 10000, dtype: object"
      ]
     },
     "execution_count": 52,
     "metadata": {},
     "output_type": "execute_result"
    }
   ],
   "source": [
    "# data[\"title_cutted\"]"
   ]
  },
  {
   "cell_type": "markdown",
   "metadata": {},
   "source": [
    "## 文本向量化"
   ]
  },
  {
   "cell_type": "code",
   "execution_count": 53,
   "metadata": {},
   "outputs": [],
   "source": [
    "# from sklearn.feature_extraction.text import TfidfVectorizer, CountVectorizer\n",
    "# n_features = 1000\n",
    "# tf_vectorizer = CountVectorizer(strip_accents = 'unicode',\n",
    "#                                 max_features=n_features,\n",
    "#                                 stop_words='english',\n",
    "#                                 max_df = 0.5,\n",
    "#                                 min_df = 10)\n",
    "# tf = tf_vectorizer.fit_transform(data[\"title_cutted\"])"
   ]
  },
  {
   "cell_type": "code",
   "execution_count": 56,
   "metadata": {},
   "outputs": [
    {
     "name": "stdout",
     "output_type": "stream",
     "text": [
      "  (0, 389)\t2\n",
      "  (0, 649)\t1\n",
      "  (0, 312)\t1\n"
     ]
    }
   ],
   "source": [
    "# print(tf[0])"
   ]
  },
  {
   "cell_type": "markdown",
   "metadata": {},
   "source": [
    "## using LDA"
   ]
  },
  {
   "cell_type": "code",
   "execution_count": 16,
   "metadata": {},
   "outputs": [],
   "source": [
    "# from sklearn.decomposition import LatentDirichletAllocation\n",
    "# #每个title给10个topic，迭代50次\n",
    "# lda = LatentDirichletAllocation(n_components=10, max_iter=50,\n",
    "#                                 learning_method='online',\n",
    "#                                 learning_offset=50.,\n",
    "#                                 random_state=0)"
   ]
  },
  {
   "cell_type": "code",
   "execution_count": 33,
   "metadata": {},
   "outputs": [],
   "source": [
    "# topic_for_title = lda.fit(tf)"
   ]
  },
  {
   "cell_type": "code",
   "execution_count": 35,
   "metadata": {},
   "outputs": [
    {
     "name": "stdout",
     "output_type": "stream",
     "text": [
      "LatentDirichletAllocation(batch_size=128, doc_topic_prior=None,\n",
      "                          evaluate_every=-1, learning_decay=0.7,\n",
      "                          learning_method='online', learning_offset=50.0,\n",
      "                          max_doc_update_iter=100, max_iter=50,\n",
      "                          mean_change_tol=0.001, n_components=10, n_jobs=None,\n",
      "                          perp_tol=0.1, random_state=0, topic_word_prior=None,\n",
      "                          total_samples=1000000.0, verbose=0)\n"
     ]
    }
   ],
   "source": [
    "# print(topic_for_title)"
   ]
  },
  {
   "cell_type": "code",
   "execution_count": 18,
   "metadata": {},
   "outputs": [],
   "source": [
    "# def print_top_words(model, feature_names, n_top_words):\n",
    "#     for topic_idx, topic in enumerate(model.components_):\n",
    "#         print(\"Topic #%d:\" % topic_idx)\n",
    "#         print(\" \".join([feature_names[i]\n",
    "#     for i in topic.argsort()[:-n_top_words - 1:-1]]))\n",
    "#     print()"
   ]
  },
  {
   "cell_type": "code",
   "execution_count": 19,
   "metadata": {},
   "outputs": [
    {
     "name": "stdout",
     "output_type": "stream",
     "text": [
      "Topic #0:\n",
      "life great philosophy good mystery shadow introduction easy tolkien summer game century ring island inside times early boys ice paradise\n",
      "Topic #1:\n",
      "tales la tale castle shakespeare dreams library adventure novel case mr battle peter ghost les madness princess jones stone scarlet\n",
      "Topic #2:\n",
      "vol world war new art short woman long city notes alchemist ii end diary henry iv fullmetal fall 14 work\n",
      "Topic #3:\n",
      "guide story american death volume god best harry women essays murder potter heart books high days year valley jane writing\n",
      "Topic #4:\n",
      "star like wars poems selected collected big fiction 12 christmas don le theory essential blue 15 literature far discworld anthology\n",
      "Topic #5:\n",
      "stories time el 10 journey modern jack saga red cat biography day living code memoir child sword winter song making\n",
      "Topic #6:\n",
      "man trilogy dark writings family sea men young works empire old country dance shannara daughter faith laura divine shadows volume\n",
      "Topic #7:\n",
      "black adventures 11 power magic science moon years way mind human school things dragon tom greek beauty dog jeeves prince\n",
      "Topic #8:\n",
      "love house america little lost girl white children true dead road wild search girls green sex die home secrets truth\n",
      "Topic #9:\n",
      "history book complete night king lord chronicles secret earth novels john plays people vampire rings letters illustrated blood dream light\n",
      "\n"
     ]
    }
   ],
   "source": [
    "# n_top_words = 20\n",
    "# tf_feature_names = tf_vectorizer.get_feature_names()\n",
    "# print_top_words(lda, tf_feature_names, n_top_words)"
   ]
  },
  {
   "cell_type": "code",
   "execution_count": 20,
   "metadata": {},
   "outputs": [
    {
     "data": {
      "text/plain": [
       "0    Little   Town   on   the   Prairie      Little...\n",
       "1    First   Comes   Love    Hot   Water     Califo...\n",
       "2                     When   Santa   Fell   to   Earth\n",
       "3    The   Case   of   the   Stinky   Science   Pro...\n",
       "4                                Dance   Dance   Dance\n",
       "Name: title_cutted, dtype: object"
      ]
     },
     "execution_count": 20,
     "metadata": {},
     "output_type": "execute_result"
    }
   ],
   "source": [
    "# data[\"title_cutted\"].head(5)"
   ]
  },
  {
   "cell_type": "code",
   "execution_count": 21,
   "metadata": {},
   "outputs": [
    {
     "data": {
      "text/plain": [
       "array([[0.02      , 0.02      , 0.02      , ..., 0.02      , 0.82      ,\n",
       "        0.02      ],\n",
       "       [0.025     , 0.025     , 0.025     , ..., 0.025     , 0.775     ,\n",
       "        0.025     ],\n",
       "       [0.05      , 0.05      , 0.05      , ..., 0.05      , 0.05      ,\n",
       "        0.55      ],\n",
       "       ...,\n",
       "       [0.05      , 0.05      , 0.55      , ..., 0.05      , 0.05      ,\n",
       "        0.05      ],\n",
       "       [0.03333333, 0.36666706, 0.03333333, ..., 0.03333333, 0.03333333,\n",
       "        0.03333333],\n",
       "       [0.03333333, 0.03333333, 0.03333333, ..., 0.03333333, 0.36666688,\n",
       "        0.03333333]])"
      ]
     },
     "execution_count": 21,
     "metadata": {},
     "output_type": "execute_result"
    }
   ],
   "source": [
    "# lda.transform(tf)"
   ]
  },
  {
   "cell_type": "code",
   "execution_count": 22,
   "metadata": {},
   "outputs": [
    {
     "name": "stdout",
     "output_type": "stream",
     "text": [
      "10000\n"
     ]
    }
   ],
   "source": [
    "# temp=lda.transform(tf)\n",
    "# print(len(temp))"
   ]
  },
  {
   "cell_type": "code",
   "execution_count": 27,
   "metadata": {},
   "outputs": [
    {
     "name": "stdout",
     "output_type": "stream",
     "text": [
      "[0.02 0.02 0.02 0.02 0.02 0.02 0.02 0.02 0.82 0.02]\n"
     ]
    }
   ],
   "source": [
    "# print(temp[0])"
   ]
  },
  {
   "cell_type": "code",
   "execution_count": 32,
   "metadata": {},
   "outputs": [
    {
     "name": "stdout",
     "output_type": "stream",
     "text": [
      "728\n"
     ]
    }
   ],
   "source": [
    "# print(len(tf_feature_names))"
   ]
  },
  {
   "cell_type": "code",
   "execution_count": null,
   "metadata": {},
   "outputs": [],
   "source": []
  }
 ],
 "metadata": {
  "kernelspec": {
   "display_name": "Python 3",
   "language": "python",
   "name": "python3"
  },
  "language_info": {
   "codemirror_mode": {
    "name": "ipython",
    "version": 3
   },
   "file_extension": ".py",
   "mimetype": "text/x-python",
   "name": "python",
   "nbconvert_exporter": "python",
   "pygments_lexer": "ipython3",
   "version": "3.7.4"
  }
 },
 "nbformat": 4,
 "nbformat_minor": 4
}
