{
 "cells": [
  {
   "cell_type": "code",
   "execution_count": 1,
   "metadata": {},
   "outputs": [],
   "source": [
    "import numpy as np # linear algerbra\n",
    "import pandas as pd # data processing"
   ]
  },
  {
   "cell_type": "code",
   "execution_count": 2,
   "metadata": {},
   "outputs": [
    {
     "data": {
      "text/html": [
       "<div>\n",
       "<style scoped>\n",
       "    .dataframe tbody tr th:only-of-type {\n",
       "        vertical-align: middle;\n",
       "    }\n",
       "\n",
       "    .dataframe tbody tr th {\n",
       "        vertical-align: top;\n",
       "    }\n",
       "\n",
       "    .dataframe thead th {\n",
       "        text-align: right;\n",
       "    }\n",
       "</style>\n",
       "<table border=\"1\" class=\"dataframe\">\n",
       "  <thead>\n",
       "    <tr style=\"text-align: right;\">\n",
       "      <th></th>\n",
       "      <th>bookID</th>\n",
       "      <th>title</th>\n",
       "      <th>authors</th>\n",
       "      <th>average_rating</th>\n",
       "      <th>isbn</th>\n",
       "      <th>isbn13</th>\n",
       "      <th>language_code</th>\n",
       "      <th>num_pages</th>\n",
       "      <th>ratings_count</th>\n",
       "      <th>text_reviews_count</th>\n",
       "      <th>publication_date</th>\n",
       "      <th>publisher</th>\n",
       "    </tr>\n",
       "  </thead>\n",
       "  <tbody>\n",
       "    <tr>\n",
       "      <th>0</th>\n",
       "      <td>8253</td>\n",
       "      <td>Little Town on the Prairie  (Little House  #7)</td>\n",
       "      <td>Laura Ingalls Wilder/Garth Williams</td>\n",
       "      <td>4.19</td>\n",
       "      <td>0060885432</td>\n",
       "      <td>9780060885434</td>\n",
       "      <td>eng</td>\n",
       "      <td>374</td>\n",
       "      <td>71853</td>\n",
       "      <td>646</td>\n",
       "      <td>1/1/2007</td>\n",
       "      <td>HarperTrophy</td>\n",
       "    </tr>\n",
       "    <tr>\n",
       "      <th>1</th>\n",
       "      <td>11101</td>\n",
       "      <td>First Comes Love (Hot Water  California #1)</td>\n",
       "      <td>Christie Ridgway</td>\n",
       "      <td>3.81</td>\n",
       "      <td>0380818957</td>\n",
       "      <td>9780380818952</td>\n",
       "      <td>en-US</td>\n",
       "      <td>384</td>\n",
       "      <td>1051</td>\n",
       "      <td>47</td>\n",
       "      <td>1/1/2002</td>\n",
       "      <td>Avon Books</td>\n",
       "    </tr>\n",
       "    <tr>\n",
       "      <th>2</th>\n",
       "      <td>28193</td>\n",
       "      <td>When Santa Fell to Earth</td>\n",
       "      <td>Cornelia Funke/Paul   Howard/Oliver G. Latsch</td>\n",
       "      <td>3.76</td>\n",
       "      <td>043978204X</td>\n",
       "      <td>9780439782043</td>\n",
       "      <td>eng</td>\n",
       "      <td>167</td>\n",
       "      <td>1840</td>\n",
       "      <td>245</td>\n",
       "      <td>10/1/2006</td>\n",
       "      <td>Chicken House / Scholastic</td>\n",
       "    </tr>\n",
       "    <tr>\n",
       "      <th>3</th>\n",
       "      <td>25047</td>\n",
       "      <td>The Case of the Stinky Science Project (Jigsaw...</td>\n",
       "      <td>James Preller/John Speirs/James Preller</td>\n",
       "      <td>3.83</td>\n",
       "      <td>0439114284</td>\n",
       "      <td>9780439114288</td>\n",
       "      <td>en-US</td>\n",
       "      <td>80</td>\n",
       "      <td>162</td>\n",
       "      <td>11</td>\n",
       "      <td>3/1/2001</td>\n",
       "      <td>Scholastic Paperbacks</td>\n",
       "    </tr>\n",
       "    <tr>\n",
       "      <th>4</th>\n",
       "      <td>17800</td>\n",
       "      <td>Dance Dance Dance</td>\n",
       "      <td>Haruki Murakami</td>\n",
       "      <td>4.04</td>\n",
       "      <td>0099448769</td>\n",
       "      <td>9780099448761</td>\n",
       "      <td>eng</td>\n",
       "      <td>393</td>\n",
       "      <td>50169</td>\n",
       "      <td>2117</td>\n",
       "      <td>2/7/2002</td>\n",
       "      <td>Vintage</td>\n",
       "    </tr>\n",
       "  </tbody>\n",
       "</table>\n",
       "</div>"
      ],
      "text/plain": [
       "   bookID                                              title  \\\n",
       "0    8253     Little Town on the Prairie  (Little House  #7)   \n",
       "1   11101        First Comes Love (Hot Water  California #1)   \n",
       "2   28193                           When Santa Fell to Earth   \n",
       "3   25047  The Case of the Stinky Science Project (Jigsaw...   \n",
       "4   17800                                  Dance Dance Dance   \n",
       "\n",
       "                                         authors  average_rating        isbn  \\\n",
       "0            Laura Ingalls Wilder/Garth Williams            4.19  0060885432   \n",
       "1                               Christie Ridgway            3.81  0380818957   \n",
       "2  Cornelia Funke/Paul   Howard/Oliver G. Latsch            3.76  043978204X   \n",
       "3        James Preller/John Speirs/James Preller            3.83  0439114284   \n",
       "4                                Haruki Murakami            4.04  0099448769   \n",
       "\n",
       "          isbn13 language_code    num_pages  ratings_count  \\\n",
       "0  9780060885434           eng          374          71853   \n",
       "1  9780380818952         en-US          384           1051   \n",
       "2  9780439782043           eng          167           1840   \n",
       "3  9780439114288         en-US           80            162   \n",
       "4  9780099448761           eng          393          50169   \n",
       "\n",
       "   text_reviews_count publication_date                   publisher  \n",
       "0                 646         1/1/2007                HarperTrophy  \n",
       "1                  47         1/1/2002                  Avon Books  \n",
       "2                 245        10/1/2006  Chicken House / Scholastic  \n",
       "3                  11         3/1/2001       Scholastic Paperbacks  \n",
       "4                2117         2/7/2002                     Vintage  "
      ]
     },
     "execution_count": 2,
     "metadata": {},
     "output_type": "execute_result"
    }
   ],
   "source": [
    "data = pd.read_csv('../ProjectBookRatingPredictions/DataSet/Train_data.csv',error_bad_lines=False)\n",
    "data.head(5)"
   ]
  },
  {
   "cell_type": "code",
   "execution_count": 3,
   "metadata": {},
   "outputs": [
    {
     "data": {
      "text/plain": [
       "(10000, 12)"
      ]
     },
     "execution_count": 3,
     "metadata": {},
     "output_type": "execute_result"
    }
   ],
   "source": [
    "data.shape"
   ]
  },
  {
   "cell_type": "code",
   "execution_count": 4,
   "metadata": {},
   "outputs": [],
   "source": [
    "import jieba\n",
    "def word_cut(mytext):\n",
    "    return \" \".join(jieba.cut(mytext))"
   ]
  },
  {
   "cell_type": "code",
   "execution_count": 5,
   "metadata": {},
   "outputs": [
    {
     "name": "stderr",
     "output_type": "stream",
     "text": [
      "Building prefix dict from the default dictionary ...\n",
      "Loading model from cache C:\\Users\\LiuYiNan\\AppData\\Local\\Temp\\jieba.cache\n",
      "Loading model cost 0.493 seconds.\n",
      "Prefix dict has been built successfully.\n"
     ]
    }
   ],
   "source": [
    "data[\"title_cutted\"] = data[\"title\"].apply(word_cut)"
   ]
  },
  {
   "cell_type": "code",
   "execution_count": 6,
   "metadata": {},
   "outputs": [],
   "source": [
    "#data[\"title_cutted\"] = ''.join(data['title'].str.replace('(','').str.replace(')','').str.split())"
   ]
  },
  {
   "cell_type": "code",
   "execution_count": 7,
   "metadata": {},
   "outputs": [
    {
     "data": {
      "text/plain": [
       "0    Little   Town   on   the   Prairie     ( Littl...\n",
       "1    First   Comes   Love   ( Hot   Water     Calif...\n",
       "2                     When   Santa   Fell   to   Earth\n",
       "3    The   Case   of   the   Stinky   Science   Pro...\n",
       "4                                Dance   Dance   Dance\n",
       "Name: title_cutted, dtype: object"
      ]
     },
     "execution_count": 7,
     "metadata": {},
     "output_type": "execute_result"
    }
   ],
   "source": [
    "data[\"title_cutted\"].head(5)"
   ]
  },
  {
   "cell_type": "code",
   "execution_count": 8,
   "metadata": {},
   "outputs": [],
   "source": [
    "data[\"title_cutted\"] = data[\"title_cutted\"].str.replace('(','').str.replace(')','')"
   ]
  },
  {
   "cell_type": "code",
   "execution_count": 9,
   "metadata": {},
   "outputs": [
    {
     "data": {
      "text/plain": [
       "0    Little   Town   on   the   Prairie      Little...\n",
       "1    First   Comes   Love    Hot   Water     Califo...\n",
       "2                     When   Santa   Fell   to   Earth\n",
       "3    The   Case   of   the   Stinky   Science   Pro...\n",
       "4                                Dance   Dance   Dance\n",
       "Name: title_cutted, dtype: object"
      ]
     },
     "execution_count": 9,
     "metadata": {},
     "output_type": "execute_result"
    }
   ],
   "source": [
    "data[\"title_cutted\"].head(5)"
   ]
  },
  {
   "cell_type": "markdown",
   "metadata": {},
   "source": [
    "## 文本向量化"
   ]
  },
  {
   "cell_type": "code",
   "execution_count": 10,
   "metadata": {},
   "outputs": [],
   "source": [
    "from sklearn.feature_extraction.text import TfidfVectorizer, CountVectorizer\n",
    "n_features = 1000\n",
    "tf_vectorizer = CountVectorizer(strip_accents = 'unicode',\n",
    "                                max_features=n_features,\n",
    "                                stop_words='english',\n",
    "                                max_df = 0.5,\n",
    "                                min_df = 10)\n",
    "tf = tf_vectorizer.fit_transform(data[\"title_cutted\"])"
   ]
  },
  {
   "cell_type": "markdown",
   "metadata": {},
   "source": [
    "## using LDA"
   ]
  },
  {
   "cell_type": "code",
   "execution_count": 11,
   "metadata": {},
   "outputs": [],
   "source": [
    "from sklearn.decomposition import LatentDirichletAllocation\n",
    "lda = LatentDirichletAllocation(n_components=10, max_iter=50,\n",
    "                                learning_method='online',\n",
    "                                learning_offset=50.,\n",
    "                                random_state=0)"
   ]
  },
  {
   "cell_type": "code",
   "execution_count": 12,
   "metadata": {},
   "outputs": [
    {
     "data": {
      "text/plain": [
       "LatentDirichletAllocation(learning_method='online', learning_offset=50.0,\n",
       "                          max_iter=50, random_state=0)"
      ]
     },
     "execution_count": 12,
     "metadata": {},
     "output_type": "execute_result"
    }
   ],
   "source": [
    "lda.fit(tf)"
   ]
  },
  {
   "cell_type": "code",
   "execution_count": 13,
   "metadata": {},
   "outputs": [],
   "source": [
    "def print_top_words(model, feature_names, n_top_words):\n",
    "    for topic_idx, topic in enumerate(model.components_):\n",
    "        print(\"Topic #%d:\" % topic_idx)\n",
    "        print(\" \".join([feature_names[i]\n",
    "    for i in topic.argsort()[:-n_top_words - 1:-1]]))\n",
    "    print()"
   ]
  },
  {
   "cell_type": "code",
   "execution_count": 14,
   "metadata": {},
   "outputs": [
    {
     "name": "stdout",
     "output_type": "stream",
     "text": [
      "Topic #0:\n",
      "life great philosophy good mystery shadow introduction easy tolkien summer game century ring island inside times early boys ice paradise\n",
      "Topic #1:\n",
      "tales la tale castle shakespeare dreams library adventure novel case mr battle peter ghost les madness princess jones stone scarlet\n",
      "Topic #2:\n",
      "vol world war new art short woman long city notes alchemist ii end diary henry iv fullmetal fall 14 work\n",
      "Topic #3:\n",
      "guide story american death volume god best harry women essays murder potter heart books high days year valley jane writing\n",
      "Topic #4:\n",
      "star like wars poems selected collected big fiction 12 christmas don le theory essential blue 15 literature far discworld anthology\n",
      "Topic #5:\n",
      "stories time el 10 journey modern jack saga red cat biography day living code memoir child sword winter song making\n",
      "Topic #6:\n",
      "man trilogy dark writings family sea men young works empire old country dance shannara daughter faith laura divine shadows volume\n",
      "Topic #7:\n",
      "black adventures 11 power magic science moon years way mind human school things dragon tom greek beauty dog jeeves prince\n",
      "Topic #8:\n",
      "love house america little lost girl white children true dead road wild search girls green sex die home secrets truth\n",
      "Topic #9:\n",
      "history book complete night king lord chronicles secret earth novels john plays people vampire rings letters illustrated blood dream light\n",
      "\n"
     ]
    }
   ],
   "source": [
    "n_top_words = 20\n",
    "tf_feature_names = tf_vectorizer.get_feature_names()\n",
    "print_top_words(lda, tf_feature_names, n_top_words)"
   ]
  },
  {
   "cell_type": "code",
   "execution_count": 15,
   "metadata": {},
   "outputs": [
    {
     "data": {
      "text/plain": [
       "0    Little   Town   on   the   Prairie      Little...\n",
       "1    First   Comes   Love    Hot   Water     Califo...\n",
       "2                     When   Santa   Fell   to   Earth\n",
       "3    The   Case   of   the   Stinky   Science   Pro...\n",
       "4                                Dance   Dance   Dance\n",
       "Name: title_cutted, dtype: object"
      ]
     },
     "execution_count": 15,
     "metadata": {},
     "output_type": "execute_result"
    }
   ],
   "source": [
    "data[\"title_cutted\"].head(5)"
   ]
  },
  {
   "cell_type": "code",
   "execution_count": 16,
   "metadata": {},
   "outputs": [
    {
     "data": {
      "text/plain": [
       "array([[0.02      , 0.02      , 0.02      , ..., 0.02      , 0.82      ,\n",
       "        0.02      ],\n",
       "       [0.025     , 0.025     , 0.025     , ..., 0.025     , 0.775     ,\n",
       "        0.025     ],\n",
       "       [0.05      , 0.05      , 0.05      , ..., 0.05      , 0.05      ,\n",
       "        0.55      ],\n",
       "       ...,\n",
       "       [0.05      , 0.05      , 0.55      , ..., 0.05      , 0.05      ,\n",
       "        0.05      ],\n",
       "       [0.03333333, 0.36666706, 0.03333333, ..., 0.03333333, 0.03333333,\n",
       "        0.03333333],\n",
       "       [0.03333333, 0.03333333, 0.03333333, ..., 0.03333333, 0.36666688,\n",
       "        0.03333333]])"
      ]
     },
     "execution_count": 16,
     "metadata": {},
     "output_type": "execute_result"
    }
   ],
   "source": [
    "lda.transform(tf)"
   ]
  }
 ],
 "metadata": {
  "kernelspec": {
   "display_name": "Python 3",
   "language": "python",
   "name": "python3"
  },
  "language_info": {
   "codemirror_mode": {
    "name": "ipython",
    "version": 3
   },
   "file_extension": ".py",
   "mimetype": "text/x-python",
   "name": "python",
   "nbconvert_exporter": "python",
   "pygments_lexer": "ipython3",
   "version": "3.8.5"
  }
 },
 "nbformat": 4,
 "nbformat_minor": 4
}
